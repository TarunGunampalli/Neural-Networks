{
 "cells": [
  {
   "cell_type": "markdown",
   "id": "ed1d2d75",
   "metadata": {},
   "source": [
    "# CS 342 Homework 1 - Neural Network Basics\n",
    "\n",
    "Welcome to your first homework for CS 342! This problem set covers concepts spanning learning with gradients, pytorch, non-linearities and MLPs. There are three main problems, each with several sub-questions. For coding questions, fill in the missing parts (usually denoted `...`). For theoretical questions, write the answer in the provided markdown block. Please answer all questions in-line, being as brief and precise as possible. You will not need any libraries that aren't already imported here. This code can be run on your local machine.\n",
    "\n",
    "Please follow <a href=\"https://pytorch.org\">these instructions</a> to install pytorch.\n",
    "\n",
    "Submission: Upload your jupyter notebook on canvas.\n",
    "\n",
    "Good luck!"
   ]
  },
  {
   "cell_type": "markdown",
   "id": "c154dc03",
   "metadata": {},
   "source": [
    "Enter your name and EID in the following block:"
   ]
  },
  {
   "cell_type": "markdown",
   "id": "a17cf8c2",
   "metadata": {},
   "source": [
    "Tarun Gunampalli - tg25522"
   ]
  },
  {
   "cell_type": "markdown",
   "id": "8948051e",
   "metadata": {},
   "source": [
    "If you worked with anyone on this homework, please list them below:"
   ]
  },
  {
   "cell_type": "markdown",
   "id": "06a1bfb5",
   "metadata": {},
   "source": [
    "Kunal Dhawan  \n",
    "Aten Kumar"
   ]
  },
  {
   "cell_type": "code",
   "execution_count": 4,
   "id": "ee678751",
   "metadata": {},
   "outputs": [],
   "source": [
    "# !pip install torch\n",
    "# !pip install numpy\n",
    "# !pip install matplotlib\n",
    "# !pip install torchvision"
   ]
  },
  {
   "cell_type": "code",
   "execution_count": 1,
   "id": "56a77e25",
   "metadata": {
    "ExecuteTime": {
     "end_time": "2022-02-01T16:44:41.804369Z",
     "start_time": "2022-02-01T16:44:40.968523Z"
    }
   },
   "outputs": [
    {
     "ename": "ModuleNotFoundError",
     "evalue": "No module named 'torchvision'",
     "output_type": "error",
     "traceback": [
      "\u001b[1;31m---------------------------------------------------------------------------\u001b[0m",
      "\u001b[1;31mModuleNotFoundError\u001b[0m                       Traceback (most recent call last)",
      "Input \u001b[1;32mIn [1]\u001b[0m, in \u001b[0;36m<module>\u001b[1;34m\u001b[0m\n\u001b[0;32m      3\u001b[0m \u001b[38;5;28;01mfrom\u001b[39;00m \u001b[38;5;21;01mtorch\u001b[39;00m \u001b[38;5;28;01mimport\u001b[39;00m nn\n\u001b[0;32m      4\u001b[0m \u001b[38;5;28;01mimport\u001b[39;00m \u001b[38;5;21;01mnumpy\u001b[39;00m \u001b[38;5;28;01mas\u001b[39;00m \u001b[38;5;21;01mnp\u001b[39;00m\n\u001b[1;32m----> 5\u001b[0m \u001b[38;5;28;01mimport\u001b[39;00m \u001b[38;5;21;01mtorchvision\u001b[39;00m\n\u001b[0;32m      7\u001b[0m get_ipython()\u001b[38;5;241m.\u001b[39mrun_line_magic(\u001b[38;5;124m'\u001b[39m\u001b[38;5;124mmatplotlib\u001b[39m\u001b[38;5;124m'\u001b[39m, \u001b[38;5;124m'\u001b[39m\u001b[38;5;124minline\u001b[39m\u001b[38;5;124m'\u001b[39m)\n\u001b[0;32m      8\u001b[0m \u001b[38;5;28;01mimport\u001b[39;00m \u001b[38;5;21;01mmatplotlib\u001b[39;00m\u001b[38;5;21;01m.\u001b[39;00m\u001b[38;5;21;01mpyplot\u001b[39;00m \u001b[38;5;28;01mas\u001b[39;00m \u001b[38;5;21;01mplt\u001b[39;00m\n",
      "\u001b[1;31mModuleNotFoundError\u001b[0m: No module named 'torchvision'"
     ]
    }
   ],
   "source": [
    "# Run these two blocks to load important libraries and set things up\n",
    "import torch\n",
    "from torch import nn\n",
    "import numpy as np\n",
    "import torchvision\n",
    "\n",
    "%matplotlib inline\n",
    "import matplotlib.pyplot as plt"
   ]
  },
  {
   "cell_type": "code",
   "execution_count": 3,
   "id": "1117ecb7",
   "metadata": {},
   "outputs": [
    {
     "name": "stdout",
     "output_type": "stream",
     "text": [
      "Sun Mar  5 19:49:44 2023       \n",
      "+-----------------------------------------------------------------------------+\n",
      "| NVIDIA-SMI 517.00       Driver Version: 517.00       CUDA Version: 11.7     |\n",
      "|-------------------------------+----------------------+----------------------+\n",
      "| GPU  Name            TCC/WDDM | Bus-Id        Disp.A | Volatile Uncorr. ECC |\n",
      "| Fan  Temp  Perf  Pwr:Usage/Cap|         Memory-Usage | GPU-Util  Compute M. |\n",
      "|                               |                      |               MIG M. |\n",
      "|===============================+======================+======================|\n",
      "|   0  NVIDIA GeForce ... WDDM  | 00000000:01:00.0 Off |                  N/A |\n",
      "| N/A   67C    P0    17W /  N/A |      0MiB /  4096MiB |      0%      Default |\n",
      "|                               |                      |                  N/A |\n",
      "+-------------------------------+----------------------+----------------------+\n",
      "                                                                               \n",
      "+-----------------------------------------------------------------------------+\n",
      "| Processes:                                                                  |\n",
      "|  GPU   GI   CI        PID   Type   Process name                  GPU Memory |\n",
      "|        ID   ID                                                   Usage      |\n",
      "|=============================================================================|\n",
      "|  No running processes found                                                 |\n",
      "+-----------------------------------------------------------------------------+\n"
     ]
    }
   ],
   "source": [
    "!nvidia-smi"
   ]
  },
  {
   "cell_type": "code",
   "execution_count": 11,
   "id": "3f184e87",
   "metadata": {
    "ExecuteTime": {
     "end_time": "2022-02-01T16:44:41.809661Z",
     "start_time": "2022-02-01T16:44:41.805733Z"
    }
   },
   "outputs": [],
   "source": [
    "seed = 42\n",
    "\n",
    "np.random.seed(seed)\n",
    "torch.manual_seed(seed)\n",
    "torch.cuda.manual_seed_all(seed)\n",
    "torch.cuda.manual_seed(seed)\n",
    "torch.backends.cudnn.benchmark = False\n",
    "torch.backends.cudnn.deterministic = True\n",
    "torch.set_default_tensor_type(torch.DoubleTensor)\n",
    "\n",
    "# number of hidden layers\n",
    "num_hidden_layers = 40"
   ]
  },
  {
   "cell_type": "markdown",
   "id": "dd5bc4ac",
   "metadata": {},
   "source": [
    "## Problem 1. Approximating $y=\\sin(x)$ using a multi-layer perceptron (MLP) (20 pts)\n",
    "\n",
    "Neural networks that use non-linearities like ReLU are universal function approximators. Let's build a neural network that has a scalar input ($x$), scalar output ($\\hat{y}$), and one hidden layer with ReLU nonlinearities.\n",
    "\n",
    "Mathematically we will define our network like this:\n",
    "$$ \\hat{y}(x) = \\sum_{j=1}^n w_j^{out}\\cdot{ReLU}(w_j^{in}\\cdot x + b_j), $$\n",
    "where $n$ is the number of units in the hidden layer, $w^{out}$ is a length-$n$ vector containing \"output\" weights, $w^{in}$ is a length-$n$ vector containing \"input\" weights, and $b$ is a length-$n$ vector containing biases.\n",
    "\n",
    "The first thing we'll do is define a class `ReLUMLP` that describes this network. This class will subclass `nn.Module`, a base class used in pytorch for neural networks (and their components).\n",
    "\n",
    "This class will need to define three methods:\n",
    "* `__init__`, which will create the necessary tensors and nonlinearity,\n",
    "* `forward`, which will compute $\\hat{y}$ from $x$ (or, more accurately, a vector of $\\hat{y}$ values from a vector of $x$ values), and\n",
    "* `parameters`, which will tell the optimizer what the trainable parameters of this network are."
   ]
  },
  {
   "cell_type": "code",
   "execution_count": 7,
   "id": "20be9d7f",
   "metadata": {},
   "outputs": [
    {
     "data": {
      "text/plain": [
       "[<matplotlib.lines.Line2D at 0x1b788563ee0>]"
      ]
     },
     "execution_count": 7,
     "metadata": {},
     "output_type": "execute_result"
    },
    {
     "data": {
      "image/png": "[encoded data removed]",
      "text/plain": [
       "<Figure size 432x288 with 1 Axes>"
      ]
     },
     "metadata": {
      "needs_background": "light"
     },
     "output_type": "display_data"
    }
   ],
   "source": [
    "x = np.linspace(-2*np.pi, 2*np.pi, 500)\n",
    "y = np.sin(x)\n",
    "\n",
    "plt.plot(x, y)"
   ]
  },
  {
   "cell_type": "markdown",
   "id": "1e74f108",
   "metadata": {},
   "source": [
    "### Q1.1: Complete the class in the cell below. (5 pts)"
   ]
  },
  {
   "cell_type": "code",
   "execution_count": 8,
   "id": "97373bf4",
   "metadata": {},
   "outputs": [],
   "source": [
    "class ReLUMLP(nn.Module):\n",
    "    def __init__(self, n):\n",
    "        \"\"\"Initialize ReLUMLP with `n` units in its hidden layer.\n",
    "        \"\"\"\n",
    "        self.n = n\n",
    "        \n",
    "        super().__init__()\n",
    "        self.nonlin = nn.ReLU() # oddly, we need to store this as an object!\n",
    "        \n",
    "        # create tensors for each set of parameters. remember to use requires_grad.\n",
    "        # you also need to provide reasonable initial values!\n",
    "        self.wt_in = torch.randn(n, 1, requires_grad=True)\n",
    "        self.bias_in = torch.full((n, 1), 0.05, requires_grad=True)\n",
    "        self.wt_out = torch.randn(1, n, requires_grad=True)\n",
    "\n",
    "    def forward(self, x):\n",
    "        \"\"\"Given a vector `x`, compute `y-hat` for each entry.\n",
    "        This can be accomplished in several ways, but pytorch is picky about how\n",
    "        you do it!\n",
    "        \"\"\"\n",
    "        x = x.view(1, x.size(0))\n",
    "        x = torch.matmul(self.wt_in, x)\n",
    "        x = x + self.bias_in\n",
    "        x = self.nonlin(x)\n",
    "        x = torch.matmul(self.wt_out, x)\n",
    "        x = x.view(x.size(1))\n",
    "        return x\n",
    "    \n",
    "    def parameters(self):\n",
    "        \"\"\"Tells the optimizer which parameters to optimize. Annoying that we \n",
    "        have to be explicit about this!\n",
    "        \"\"\"\n",
    "        return [self.wt_in, self.bias_in, self.wt_out]"
   ]
  },
  {
   "cell_type": "markdown",
   "id": "bf0fa1b1",
   "metadata": {},
   "source": [
    "### Q 1.2: Complete the training function (2 pts)\n",
    "Next, we need to define a function that will train our network. We provide most of this function here, but you will need to fill in the parts that compute model predictions (`y_hat`) and loss (`loss`)."
   ]
  },
  {
   "cell_type": "code",
   "execution_count": 9,
   "id": "cac32089",
   "metadata": {},
   "outputs": [],
   "source": [
    "def train_MLP(train_x, train_y, model, nepoch=1000, lr=1e-1):\n",
    "    \"\"\"Train an MLP `model` with training inputs `train_x` and outputs `train_y`\n",
    "    for `nepoch` steps.\n",
    "    \"\"\"\n",
    "    # Create the optimizer -- here we will use Adam\n",
    "    optimizer = torch.optim.Adam(model.parameters(), lr=lr)\n",
    "    \n",
    "    # Create the loss object\n",
    "    loss_function = nn.MSELoss()\n",
    "    \n",
    "    # Make sure the inputs are torch tensors\n",
    "    train_x_0 = torch.tensor(train_x)\n",
    "    train_y_0 = torch.tensor(train_y)\n",
    "\n",
    "    # We will store the losses to track our model's behavior\n",
    "    losses = []\n",
    "    \n",
    "    for epoch in range(nepoch + 1):\n",
    "        # print(model.parameters())\n",
    "        # pytorch usually accumulates gradients over all backward passes.\n",
    "        # Since we want to start afresh after every gradient update,\n",
    "        # we explicitly reset gradients to 0.\n",
    "        optimizer.zero_grad()\n",
    "        \n",
    "        # compute the model predictions using the forward method you defined earlier\n",
    "        y_hat = model.forward(train_x_0)\n",
    "        \n",
    "        # compute the loss using the predictions, true values, and loss function\n",
    "        loss = loss_function(y_hat, train_y_0)\n",
    "        \n",
    "        # compute gradients!\n",
    "        loss.backward()\n",
    "        \n",
    "        # update the parameters using the optimizer's step method\n",
    "        optimizer.step()\n",
    "        \n",
    "        # store & (maybe) display losses\n",
    "        losses.append(loss.item())\n",
    "        if not epoch%100:\n",
    "            print(\"Loss @ {epoch}: \".format(epoch=epoch), losses[-1])\n",
    "        \n",
    "    return losses"
   ]
  },
  {
   "cell_type": "markdown",
   "id": "5842f742",
   "metadata": {},
   "source": [
    "### Q 1.3: Run the model and visualize the results! (2 pts)\n",
    "_(this is where the fun begins)_\n",
    "\n",
    "Fill in the code to create the model object, train the model, and plot the results. If this doesn't work well (i.e. final loss is greater than 0.1 or the function looks very weird) then you probably have a bug."
   ]
  },
  {
   "cell_type": "code",
   "execution_count": 10,
   "id": "f0ccaf53",
   "metadata": {
    "scrolled": true
   },
   "outputs": [
    {
     "name": "stdout",
     "output_type": "stream",
     "text": [
      "Loss @ 0:  338.61540222785857\n",
      "Loss @ 100:  0.157459932382529\n",
      "Loss @ 200:  0.14498108145888\n",
      "Loss @ 300:  0.1320713513850415\n",
      "Loss @ 400:  0.11661293444292424\n",
      "Loss @ 500:  0.10069014498239878\n",
      "Loss @ 600:  0.08506827702205413\n",
      "Loss @ 700:  0.0718171490707193\n",
      "Loss @ 800:  0.061861080208947046\n",
      "Loss @ 900:  0.05372653158447604\n",
      "Loss @ 1000:  0.045464505372490534\n",
      "Loss @ 1100:  0.03658141204969944\n",
      "Loss @ 1200:  0.02754754251867511\n",
      "Loss @ 1300:  0.019336949079546032\n",
      "Loss @ 1400:  0.012785719525563052\n",
      "Loss @ 1500:  0.008186809123748282\n",
      "Loss @ 1600:  0.005287689803273293\n",
      "Loss @ 1700:  0.003616599146851109\n",
      "Loss @ 1800:  0.00271589779585263\n",
      "Loss @ 1900:  0.002257994827663378\n",
      "Loss @ 2000:  0.002034167324829804\n",
      "Loss @ 2100:  0.0019245202665121902\n",
      "Loss @ 2200:  0.0018667427064146527\n",
      "Loss @ 2300:  0.0018381390930593772\n",
      "Loss @ 2400:  0.0018221139929538218\n",
      "Loss @ 2500:  0.03082583220593209\n",
      "Loss @ 2600:  0.0019174601216316062\n",
      "Loss @ 2700:  0.0018500448665448358\n",
      "Loss @ 2800:  0.0018257372493685133\n",
      "Loss @ 2900:  0.07987159960521\n",
      "Loss @ 3000:  0.0018442484108029467\n",
      "Loss @ 3100:  0.001810239191524047\n",
      "Loss @ 3200:  0.008866243995703406\n",
      "Loss @ 3300:  0.0018344621576789947\n",
      "Loss @ 3400:  0.0018064040881959698\n",
      "Loss @ 3500:  0.0022278205139329224\n",
      "Loss @ 3600:  0.0018299688554360245\n",
      "Loss @ 3700:  0.0018000450710720405\n",
      "Loss @ 3800:  0.010981706431670296\n",
      "Loss @ 3900:  0.0018192261413670586\n",
      "Loss @ 4000:  0.0017817048207303186\n",
      "Loss @ 4100:  0.031163547385573337\n",
      "Loss @ 4200:  0.0018852859221904646\n",
      "Loss @ 4300:  0.0018216075494489267\n",
      "Loss @ 4400:  0.0020506625875509085\n",
      "Loss @ 4500:  0.0018306810250654673\n",
      "Loss @ 4600:  0.019751098883658186\n",
      "Loss @ 4700:  0.001888285676207496\n",
      "Loss @ 4800:  0.012239796515803505\n",
      "Loss @ 4900:  0.0019234690557480495\n",
      "Loss @ 5000:  0.017501722434861804\n",
      "Loss @ 5100:  0.0023706079550995093\n",
      "Loss @ 5200:  0.0018129468183942202\n",
      "Loss @ 5300:  0.00952178695916249\n",
      "Loss @ 5400:  0.001918411803213517\n",
      "Loss @ 5500:  0.05304357044747978\n",
      "Loss @ 5600:  0.0018103685892748849\n",
      "Loss @ 5700:  0.0033980654105807313\n",
      "Loss @ 5800:  0.0018132049836740315\n",
      "Loss @ 5900:  0.0021566944184991284\n",
      "Loss @ 6000:  0.0018064894853418436\n",
      "Loss @ 6100:  0.0022536234881213443\n",
      "Loss @ 6200:  0.0017818807503416545\n",
      "Loss @ 6300:  0.0035746382863895585\n",
      "Loss @ 6400:  0.0018443558754901415\n",
      "Loss @ 6500:  0.0017905644681049347\n",
      "Loss @ 6600:  0.001743283031804301\n",
      "Loss @ 6700:  0.004497604569955832\n",
      "Loss @ 6800:  0.0017461160313341575\n",
      "Loss @ 6900:  0.0017009588959239032\n",
      "Loss @ 7000:  0.012940334064552066\n",
      "Loss @ 7100:  0.0017881824391435246\n",
      "Loss @ 7200:  0.0016383562507323547\n",
      "Loss @ 7300:  0.00236383257395212\n",
      "Loss @ 7400:  0.0016327002389682757\n",
      "Loss @ 7500:  0.002103651908148158\n",
      "Loss @ 7600:  0.01941310221473999\n",
      "Loss @ 7700:  0.0013677060691459732\n",
      "Loss @ 7800:  0.0011963403779290864\n",
      "Loss @ 7900:  0.0013088315269298842\n",
      "Loss @ 8000:  0.0027789860389992233\n",
      "Loss @ 8100:  0.0009723546852459709\n",
      "Loss @ 8200:  0.0012382864196366326\n",
      "Loss @ 8300:  0.0008232408725492761\n",
      "Loss @ 8400:  0.0012283769697284952\n",
      "Loss @ 8500:  0.002509581128073629\n",
      "Loss @ 8600:  0.006736446894396843\n",
      "Loss @ 8700:  0.0056867991341634115\n",
      "Loss @ 8800:  0.0006026412391718581\n",
      "Loss @ 8900:  0.0009959518525935007\n",
      "Loss @ 9000:  0.0006808861532451352\n",
      "Loss @ 9100:  0.0006967762782059439\n",
      "Loss @ 9200:  0.0019216479122243888\n",
      "Loss @ 9300:  0.0005427050863024293\n",
      "Loss @ 9400:  0.002052629648099709\n",
      "Loss @ 9500:  0.00048658193925229474\n",
      "Loss @ 9600:  0.0009870484786447737\n",
      "Loss @ 9700:  0.002404858778821933\n",
      "Loss @ 9800:  0.0006794709997036064\n",
      "Loss @ 9900:  0.0005543949646684994\n",
      "Loss @ 10000:  0.0005785654407081866\n"
     ]
    },
    {
     "data": {
      "text/plain": [
       "<matplotlib.legend.Legend at 0x1b78a755240>"
      ]
     },
     "execution_count": 10,
     "metadata": {},
     "output_type": "execute_result"
    },
    {
     "data": {
      "image/png": "[encoded data removed]",
      "text/plain": [
       "<Figure size 432x288 with 1 Axes>"
      ]
     },
     "metadata": {
      "needs_background": "light"
     },
     "output_type": "display_data"
    },
    {
     "data": {
      "image/png": "[encoded data removed]",
      "text/plain": [
       "<Figure size 432x288 with 1 Axes>"
      ]
     },
     "metadata": {
      "needs_background": "light"
     },
     "output_type": "display_data"
    }
   ],
   "source": [
    "# first, create the model\n",
    "# try with n=40 units in the hidden layer -- this should work well!\n",
    "model = ReLUMLP(num_hidden_layers)\n",
    "\n",
    "# then train it!\n",
    "losses = train_MLP(x, y, model, 10000)\n",
    "\n",
    "# plot the losses (semilogy is your friend)\n",
    "plt.xlabel(\"Epoch\")\n",
    "plt.ylabel(\"Loss\")\n",
    "plt.semilogy(range(len(losses)), losses)\n",
    "\n",
    "# and plot the learned function\n",
    "plt.figure()\n",
    "predictions = model(torch.tensor(x)).detach().numpy()\n",
    "plt.plot(x, y, label=r\"$y=\\sin(x)$\")\n",
    "plt.plot(x, predictions, label=\"model\")\n",
    "plt.legend()"
   ]
  },
  {
   "cell_type": "markdown",
   "id": "86d4140c",
   "metadata": {},
   "source": [
    "### Q 1.4: Experimenting with learning rate (`lr`) and number of training epochs (`nepoch`) (3 pts)\n",
    "Using the default settings should work reasonably well, but we can also adjust the learning rate and number of steps taken during learning.\n",
    "\n",
    "Copy the model fitting & visualization code into the cell below, and then try adjusting the `lr` and `nepoch` parameters that can be passed to `train_MLP`."
   ]
  },
  {
   "cell_type": "code",
   "execution_count": 11,
   "id": "1c4f6d3e",
   "metadata": {},
   "outputs": [
    {
     "name": "stdout",
     "output_type": "stream",
     "text": [
      "Loss @ 0:  243.4287653915763\n",
      "Loss @ 100:  0.07380455829119817\n",
      "Loss @ 200:  0.040728225314914775\n",
      "Loss @ 300:  0.027655614163848118\n",
      "Loss @ 400:  0.017822552943936275\n",
      "Loss @ 500:  0.010476353127399213\n"
     ]
    },
    {
     "data": {
      "text/plain": [
       "<matplotlib.legend.Legend at 0x1b78aaeada0>"
      ]
     },
     "execution_count": 11,
     "metadata": {},
     "output_type": "execute_result"
    },
    {
     "data": {
      "image/png": "[encoded data removed]",
      "text/plain": [
       "<Figure size 432x288 with 1 Axes>"
      ]
     },
     "metadata": {
      "needs_background": "light"
     },
     "output_type": "display_data"
    },
    {
     "data": {
      "image/png": "[encoded data removed]",
      "text/plain": [
       "<Figure size 432x288 with 1 Axes>"
      ]
     },
     "metadata": {
      "needs_background": "light"
     },
     "output_type": "display_data"
    }
   ],
   "source": [
    "# first, create the model\n",
    "# try with n=40 units in the hidden layer -- this should work well!\n",
    "model = ReLUMLP(num_hidden_layers)\n",
    "\n",
    "# then train it!\n",
    "losses = train_MLP(x, y, model, 500, 3e-1)\n",
    "\n",
    "# plot the losses (semilogy is your friend)\n",
    "...\n",
    "plt.xlabel(\"Epoch\")\n",
    "plt.ylabel(\"Loss\")\n",
    "plt.semilogy(range(len(losses)), losses)\n",
    "\n",
    "# and plot the learned function\n",
    "plt.figure()\n",
    "predictions = model(torch.tensor(x)).detach().numpy()\n",
    "plt.plot(x, y, label=r\"$y=\\sin(x)$\")\n",
    "plt.plot(x, predictions, label=\"model\")\n",
    "plt.legend()"
   ]
  },
  {
   "cell_type": "markdown",
   "id": "5927eba3",
   "metadata": {},
   "source": [
    "(In the spaces provided, answer the following questions:)\n",
    "\n",
    "* If you set the learning rate to be too large, what happens?"
   ]
  },
  {
   "cell_type": "markdown",
   "id": "31bdc87b",
   "metadata": {},
   "source": [
    "With too large of a learning rate, the loss is unable to decrease once it hits a certain value.\n",
    "For example, with a learning rate of 10, the loss halts around 0.49."
   ]
  },
  {
   "cell_type": "markdown",
   "id": "9cdefc78",
   "metadata": {},
   "source": [
    "* If you set the learning rate to be too small, what happens?"
   ]
  },
  {
   "cell_type": "markdown",
   "id": "20ea7495",
   "metadata": {},
   "source": [
    "With too small of a learning rate, the changes in loss are very small and\n",
    "require a large number of epochs to optimize well."
   ]
  },
  {
   "cell_type": "markdown",
   "id": "9ebbcd88",
   "metadata": {},
   "source": [
    "* Do the learning rate and number of epochs interact? i.e. if you change one, does it affect the best value for the other"
   ]
  },
  {
   "cell_type": "markdown",
   "id": "8e10b789",
   "metadata": {},
   "source": [
    "Yes, with a large number of epochs, we can afford to have a slower learning rate that will\n",
    "allow the function to optimize in smaller steps."
   ]
  },
  {
   "cell_type": "markdown",
   "id": "e95ceaf7",
   "metadata": {},
   "source": [
    "### Q 1.5: Simpler models using `nn.Sequential` (3 pts)\n",
    "The function you wrote out above should work, but writing things so explicitly in pytorch is pretty annoying. You have to figure out how to handle multiple inputs, and also list out all the parameters. Ugh! Fortunately, there's a nicer interface that we can use!\n",
    "\n",
    "To represent a _linear transformation_ of some input, you can use the `nn.Linear` object. Our function here should consist of three steps:\n",
    "1. a linear transformation from 1 dimension ($x$) to $n$ dimensions, including a bias term,\n",
    "2. a ReLU nonlinearity, and\n",
    "3. a linear transformation from $n$ dimensions to 1 dimension ($y$) which does not include a bias term.\n",
    "\n",
    "These steps can be rolled into an [`nn.Sequential` object](https://pytorch.org/docs/stable/generated/torch.nn.Sequential.html). See those docs for an example, then write out the sequential version of your ReLU MLP in the following cell."
   ]
  },
  {
   "cell_type": "code",
   "execution_count": 12,
   "id": "d7313149",
   "metadata": {},
   "outputs": [],
   "source": [
    "class BetterReLUMLP(nn.Module):\n",
    "    def __init__(self, n):\n",
    "        super().__init__()\n",
    "        self.layers = nn.Sequential(\n",
    "                        nn.Linear(1, n, bias=True),\n",
    "                        nn.ReLU(),\n",
    "                        nn.Linear(n, 1))\n",
    "\n",
    "    def forward(self, x):\n",
    "        # this is still slightly tricky. make sure that your output has only one dimension\n",
    "        x = x.view(x.size(0), 1)\n",
    "        x = self.layers(x)\n",
    "        x = x.view(x.size(0))\n",
    "        return x"
   ]
  },
  {
   "cell_type": "markdown",
   "id": "60739812",
   "metadata": {},
   "source": [
    "### Q 1.6: Train your `BetterReLUMLP` (2 pts)\n",
    "Now instantiate and train your new model! Note that `nn.Linear` expects a certain datatype, and your data will need to be in a specific (2D) shape for the training to work. You can use the numpy array method `astype` to convert your data to `np.float32`."
   ]
  },
  {
   "cell_type": "code",
   "execution_count": 13,
   "id": "e10dac3f",
   "metadata": {},
   "outputs": [
    {
     "name": "stdout",
     "output_type": "stream",
     "text": [
      "Loss @ 0:  1.3108098658125724\n",
      "Loss @ 100:  0.06980320942915477\n",
      "Loss @ 200:  0.030603567633530122\n",
      "Loss @ 300:  0.0018540818804402587\n",
      "Loss @ 400:  0.002231421119737475\n",
      "Loss @ 500:  0.0008030326852488184\n",
      "Loss @ 600:  0.024747128298653276\n",
      "Loss @ 700:  0.00034673357591251066\n",
      "Loss @ 800:  0.0004659764224051657\n",
      "Loss @ 900:  0.0003724205768824773\n",
      "Loss @ 1000:  0.0013105559192992913\n"
     ]
    },
    {
     "data": {
      "text/plain": [
       "<matplotlib.legend.Legend at 0x1b78bcb34c0>"
      ]
     },
     "execution_count": 13,
     "metadata": {},
     "output_type": "execute_result"
    },
    {
     "data": {
      "image/png": "[encoded data removed]",
      "text/plain": [
       "<Figure size 432x288 with 1 Axes>"
      ]
     },
     "metadata": {
      "needs_background": "light"
     },
     "output_type": "display_data"
    },
    {
     "data": {
      "image/png": "[encoded data removed]",
      "text/plain": [
       "<Figure size 432x288 with 1 Axes>"
      ]
     },
     "metadata": {
      "needs_background": "light"
     },
     "output_type": "display_data"
    }
   ],
   "source": [
    "better_model = BetterReLUMLP(num_hidden_layers)\n",
    "\n",
    "losses = train_MLP(x, y, better_model)\n",
    "\n",
    "# Plot losses (semilogy!)\n",
    "plt.xlabel(\"Epoch\")\n",
    "plt.ylabel(\"Loss\")\n",
    "plt.semilogy(range(len(losses)), losses)\n",
    "\n",
    "# and plot the learned function\n",
    "plt.figure()\n",
    "predictions = better_model(torch.tensor(x)).detach().numpy()\n",
    "plt.plot(x, y, label=r\"$y=\\sin(x)$\")\n",
    "plt.plot(x, predictions, label=\"model\")\n",
    "plt.legend()"
   ]
  },
  {
   "cell_type": "markdown",
   "id": "ba5f45e2",
   "metadata": {},
   "source": [
    "### Q 1.7: Switching from ReLU to a different nonlinearity (3 pts)\n",
    "Now that you have things set up using `nn.Sequential`, it's trivial to try different network architectures, or swap out one nonlinearity for another.\n",
    "\n",
    "For this problem, write a new class, `SigmoidMLP`, that uses a Sigmoid nonlinearity. Then try it out with a few different hidden layer sizes and answer the question in the cell below."
   ]
  },
  {
   "cell_type": "code",
   "execution_count": 14,
   "id": "c5732361",
   "metadata": {},
   "outputs": [],
   "source": [
    "class SigmoidMLP(nn.Module):\n",
    "    def __init__(self, n):\n",
    "        super().__init__()\n",
    "        self.layers = nn.Sequential(\n",
    "                        nn.Linear(1, n, bias=True),\n",
    "                        nn.Sigmoid(),\n",
    "                        nn.Linear(n, 1))\n",
    "\n",
    "    def forward(self, x):\n",
    "        # this is still slightly tricky. make sure that your output has only one dimension\n",
    "        x = x.view(x.size(0), 1)\n",
    "        x = self.layers(x)\n",
    "        x = x.view(x.size(0))\n",
    "        return x"
   ]
  },
  {
   "cell_type": "code",
   "execution_count": 15,
   "id": "6ec2de8f",
   "metadata": {},
   "outputs": [
    {
     "name": "stdout",
     "output_type": "stream",
     "text": [
      "Loss @ 0:  0.48620959193259256\n",
      "Loss @ 100:  0.06026644912991904\n",
      "Loss @ 200:  0.016318213377224142\n",
      "Loss @ 300:  0.003161521225606421\n",
      "Loss @ 400:  0.012044715959241808\n",
      "Loss @ 500:  0.000398167668747542\n",
      "Loss @ 600:  0.00073159806576727\n",
      "Loss @ 700:  0.0001665997206519931\n",
      "Loss @ 800:  0.03898075663933295\n",
      "Loss @ 900:  0.00013780731846463071\n",
      "Loss @ 1000:  8.229676078370082e-05\n"
     ]
    },
    {
     "data": {
      "text/plain": [
       "<matplotlib.legend.Legend at 0x1b78aa7ea10>"
      ]
     },
     "execution_count": 15,
     "metadata": {},
     "output_type": "execute_result"
    },
    {
     "data": {
      "image/png": "[encoded data removed]",
      "text/plain": [
       "<Figure size 432x288 with 1 Axes>"
      ]
     },
     "metadata": {
      "needs_background": "light"
     },
     "output_type": "display_data"
    },
    {
     "data": {
      "image/png": "[encoded data removed]",
      "text/plain": [
       "<Figure size 432x288 with 1 Axes>"
      ]
     },
     "metadata": {
      "needs_background": "light"
     },
     "output_type": "display_data"
    }
   ],
   "source": [
    "sigmoid_model = SigmoidMLP(num_hidden_layers)\n",
    "\n",
    "losses = train_MLP(x, y, sigmoid_model)\n",
    "\n",
    "# Plot losses (semilogy!)\n",
    "plt.xlabel(\"Epoch\")\n",
    "plt.ylabel(\"Loss\")\n",
    "plt.semilogy(range(len(losses)), losses)\n",
    "\n",
    "# and plot the learned function\n",
    "plt.figure()\n",
    "predictions = sigmoid_model(torch.tensor(x)).detach().numpy()\n",
    "plt.plot(x, y, label=r\"$y=\\sin(x)$\")\n",
    "plt.plot(x, predictions, label=\"model\")\n",
    "plt.legend()"
   ]
  },
  {
   "cell_type": "markdown",
   "id": "7c851d3c",
   "metadata": {},
   "source": [
    "In the spaces below, answer the following questions:\n",
    "\n",
    "* How are the results of using a sigmoid different than using a ReLU?"
   ]
  },
  {
   "cell_type": "markdown",
   "id": "a73ce2d4",
   "metadata": {},
   "source": [
    "The results of using the sigmoid function seem to be a lot better at approximating the sin wave than the ReLU nonlinearity. It seems that we do not see the extreme values that lead to vanishing gradient problems that the sigmoid function is susceptible to."
   ]
  },
  {
   "cell_type": "markdown",
   "id": "6c1e87c3",
   "metadata": {},
   "source": [
    "* Which seems better suited to this problem? Why?"
   ]
  },
  {
   "cell_type": "markdown",
   "id": "2959904d",
   "metadata": {},
   "source": [
    "The sigmoid seems better suited to this problem as the smoothness of it compared to the kinks in the ReLU function would serve to fit the sin function better without increasing the number of nodes in the hidden layers, and the resulting loss values agree with that."
   ]
  },
  {
   "cell_type": "markdown",
   "id": "9c8a942b",
   "metadata": {},
   "source": [
    "## Problem 2. Examining gradients and non-linearities in MLPs (19 Points)"
   ]
  },
  {
   "cell_type": "markdown",
   "id": "9cba0c3f",
   "metadata": {},
   "source": [
    "In this problem, we will consider a simple MLP of the form: $f(x) = w_{out}\\cdot\\sigma(w_{in}\\cdot x)$ where $x, w_{out}, w_{in}$ are all scalars, and we assume biases to be 0."
   ]
  },
  {
   "cell_type": "code",
   "execution_count": 16,
   "id": "09f49029",
   "metadata": {
    "ExecuteTime": {
     "end_time": "2022-02-01T16:44:41.813464Z",
     "start_time": "2022-02-01T16:44:41.810679Z"
    }
   },
   "outputs": [],
   "source": [
    "# We will use a single training example to train the model.\n",
    "x, y = 1., -1."
   ]
  },
  {
   "cell_type": "markdown",
   "id": "768016f7",
   "metadata": {},
   "source": [
    "### Q 2.1: Implement the 1x1 MLP in pytorch below using <a href=\"https://pytorch.org/docs/stable/generated/torch.nn.Linear.html\">torch.nn.Linear</a> (3 pts)"
   ]
  },
  {
   "cell_type": "code",
   "execution_count": 17,
   "id": "a83e542e",
   "metadata": {},
   "outputs": [],
   "source": [
    "class TinySigmoidMLP(nn.Module):\n",
    "    def __init__(self):\n",
    "        super().__init__()\n",
    "        self.layers = nn.Sequential(\n",
    "                        nn.Linear(1, 1, bias=False),\n",
    "                        nn.Sigmoid(),\n",
    "                        nn.Linear(1, 1, bias=False))\n",
    "\n",
    "    def forward(self, x):\n",
    "        x = self.layers(x)\n",
    "        return x\n",
    "    \n",
    "sigmoid_model = TinySigmoidMLP()"
   ]
  },
  {
   "cell_type": "markdown",
   "id": "c13374d1",
   "metadata": {},
   "source": [
    "### Q 2.2: Set the training `loss_function` to the mean squared error loss function in pytorch (1 pt)"
   ]
  },
  {
   "cell_type": "code",
   "execution_count": 18,
   "id": "94b0178e",
   "metadata": {},
   "outputs": [],
   "source": [
    "loss_function = nn.MSELoss()"
   ]
  },
  {
   "cell_type": "markdown",
   "id": "e3e929e4",
   "metadata": {},
   "source": [
    "### Q 2.3: For this MLP, what is the analytical formula for the gradients? here, `L` refers to the MSE loss you initialized above (2 pts)\n",
    "Pytorch automatically computes gradients through a computational graph, so you needn't actually code the gradient computation. But let's figure out what it is! For the derivative of the sigmoid, please just use $\\sigma'(\\cdot)$."
   ]
  },
  {
   "cell_type": "markdown",
   "id": "aaa91c1b",
   "metadata": {},
   "source": [
    "A. $\\frac{\\partial L}{\\partial w_{out}}\n",
    "= \\frac{\\partial L}{\\partial f} \\cdot \\frac{\\partial f}{\\partial w_{out}}\n",
    "= \\frac{1}{n} \\sum \\frac{d}{d \\hat{y}} (y - \\hat{y})^2 \\cdot \\sigma(w_{in}\\cdot x)\n",
    "= - \\frac{2}{n} \\sigma(w_{in}\\cdot x) \\cdot \\sum (y - \\hat{y})$\n",
    "\n",
    "B. $\\frac{\\partial L}{\\partial w_{in}} = - \\frac{2}{n} w_{out} \\cdot x \\cdot \\sigma'(w_{in}\\cdot x) \\cdot \\sum (y - \\hat{y})$"
   ]
  },
  {
   "cell_type": "markdown",
   "id": "671dc787",
   "metadata": {},
   "source": [
    "### Q 2.4: Finally, put all this together to write a training loop. Here, `w_in_init` and `w_out_init` refer to the initial value of the weights we will set (3 pts)"
   ]
  },
  {
   "cell_type": "code",
   "execution_count": 19,
   "id": "b71faeef",
   "metadata": {},
   "outputs": [],
   "source": [
    "def train_TinyMLP(train_x, train_y, w_in_init, w_out_init, model, optimizer, nepoch):\n",
    "    train_x_0 = torch.tensor([train_x])\n",
    "    train_y_0 = torch.tensor([train_y])\n",
    "    # Initialize the weights of the network manually.\n",
    "    # the no_grad() below ensures that autograd doesn't know about this weight change!\n",
    "    with torch.no_grad():\n",
    "        # Set initial weights `w_in_init` and `w_out_init`.\n",
    "        model.layers[0].weight[0][0] = w_in_init\n",
    "        model.layers[2].weight[0][0] = w_out_init\n",
    "\n",
    "    # We will store the predictions, losses etc. to track our model behavior.\n",
    "    predictions = []\n",
    "    losses = []\n",
    "    in_gradients, out_gradients = [], []\n",
    "    for epoch in range(nepoch):\n",
    "        # PyTorch usually accumulates gradients over all backward passes.\n",
    "        # Since we want to start afresh after every gradient update,\n",
    "        # we explicitly reset gradients to 0.\n",
    "        optimizer.zero_grad() \n",
    "        y_hat = model.forward(train_x_0)\n",
    "        predictions.append(y_hat.item())\n",
    "        loss = loss_function(y_hat, train_y_0)\n",
    "        losses.append(loss.item())\n",
    "        loss.backward()\n",
    "        # Append gradients of each weight parameter.\n",
    "        in_gradients.append(model.layers[0].weight.grad.item())\n",
    "        out_gradients.append(model.layers[2].weight.grad.item())\n",
    "        optimizer.step()\n",
    "    return predictions, losses, in_gradients, out_gradients"
   ]
  },
  {
   "cell_type": "code",
   "execution_count": 20,
   "id": "468faa84",
   "metadata": {
    "ExecuteTime": {
     "end_time": "2022-02-01T16:44:41.835770Z",
     "start_time": "2022-02-01T16:44:41.831275Z"
    }
   },
   "outputs": [],
   "source": [
    "# This is a simpler matplotlib helper function to visualize your model params.\n",
    "def visualize(y, predictions, losses, in_gradients, out_gradients, nepoch):\n",
    "    fig, axs = plt.subplots(4, 1, figsize=(10, 7), sharex=True)\n",
    "    for ax, vals, title in zip(\n",
    "            axs,\n",
    "            [predictions, losses, in_gradients, out_gradients],\n",
    "            ['$\\hat{y}$', 'Loss', '$w_{in}$ gradient', '$w_{out}$ gradient']):\n",
    "        ax.plot(range(len(vals)), vals, 'o-', lw=2, label=title)\n",
    "        ax.set_ylabel(title, fontsize=14)\n",
    "        ax.spines['top'].set_visible(False)\n",
    "        ax.spines['right'].set_visible(False)\n",
    "        if title == '$\\hat{y}$':\n",
    "            ax.hlines(y, 0, nepoch, ls=':', color='k', lw=3, label='$y$')\n",
    "            ax.legend(fontsize=14)\n",
    "    return"
   ]
  },
  {
   "cell_type": "markdown",
   "id": "c46c4447",
   "metadata": {},
   "source": [
    "### Q 2.5: Given the weight initializations below, run the model training, then answer the questions below (2 pts)\n"
   ]
  },
  {
   "cell_type": "code",
   "execution_count": 21,
   "id": "94e8a801",
   "metadata": {},
   "outputs": [
    {
     "data": {
      "image/png": "[encoded data removed]",
      "text/plain": [
       "<Figure size 720x504 with 4 Axes>"
      ]
     },
     "metadata": {
      "needs_background": "light"
     },
     "output_type": "display_data"
    }
   ],
   "source": [
    "# For now, use the stochastic gradient descent optimizer.\n",
    "optimizer = torch.optim.SGD(sigmoid_model.parameters(), lr=1)\n",
    "# Number of gradient updates we want to do over the training set.\n",
    "# You might need to play with this if the learning is too fast or slow.\n",
    "nepoch = 10\n",
    "\n",
    "# Now, let's try these weight initializations\n",
    "w_in_init, w_out_init = 1, 1\n",
    "predictions, losses, in_gradients, out_gradients = train_TinyMLP(\n",
    "    x, y, w_in_init, w_out_init, sigmoid_model, optimizer, nepoch)\n",
    "\n",
    "visualize(y, predictions, losses, in_gradients, out_gradients, nepoch)"
   ]
  },
  {
   "cell_type": "markdown",
   "id": "f9356075",
   "metadata": {},
   "source": [
    "- Does the loss _converge_? What is the loss value at the end of training? Answer in the box below."
   ]
  },
  {
   "cell_type": "markdown",
   "id": "109e4cff",
   "metadata": {},
   "source": [
    "Yes, the loss converges by the end of training to almost 0."
   ]
  },
  {
   "cell_type": "markdown",
   "id": "71c967d6",
   "metadata": {},
   "source": [
    "- If the model doesn't work, briefly explain what could be wrong and how you would fix it.\n",
    "\n",
    "HINT: The answers lie in the plots we are visualizing and Q 2.3. Pay close attention to how the value of each parameter changes over the course of training."
   ]
  },
  {
   "cell_type": "markdown",
   "id": "81de4c93",
   "metadata": {},
   "source": [
    "The model did work in this run, however a few errors I ran into that caused the model to break were incorrectly setting the initial weights so that the model started with wildly erroneous weights and also accidentally allowing the model to use biases in the Linear layers, which also did not end up converging and ruined the output."
   ]
  },
  {
   "cell_type": "markdown",
   "id": "2652027f",
   "metadata": {},
   "source": [
    "### Q 2.6: Now train a new model using the given weight initialization, then answer the questions below (2 pts)"
   ]
  },
  {
   "cell_type": "code",
   "execution_count": 22,
   "id": "81fff840",
   "metadata": {
    "ExecuteTime": {
     "end_time": "2022-02-01T16:44:42.486286Z",
     "start_time": "2022-02-01T16:44:42.193644Z"
    }
   },
   "outputs": [
    {
     "name": "stdout",
     "output_type": "stream",
     "text": [
      "[3.9999999917553852, 3.9999999257984684, 3.999999859841553, 3.999999793884638, 3.9999997279277233, 3.9999996619708114, 3.999999596013899, 3.9999995300569817, 3.999999464100065, 3.999999398143149]\n"
     ]
    },
    {
     "data": {
      "image/png": "[encoded data removed]",
      "text/plain": [
       "<Figure size 720x504 with 4 Axes>"
      ]
     },
     "metadata": {
      "needs_background": "light"
     },
     "output_type": "display_data"
    }
   ],
   "source": [
    "# For now, use the stochastic gradient descent optimizer.\n",
    "optimizer = torch.optim.SGD(sigmoid_model.parameters(), lr=1)\n",
    "# Number of gradient updates we want to do over the training set.\n",
    "# You might need to play with this if the learning is too fast or slow.\n",
    "nepoch = 10\n",
    "\n",
    "w_in_init, w_out_init = 20, 1\n",
    "predictions, losses, in_gradients, out_gradients = train_TinyMLP(\n",
    "    x, y, w_in_init, w_out_init, sigmoid_model, optimizer, nepoch)\n",
    "\n",
    "print(losses)\n",
    "\n",
    "visualize(y, predictions, losses, in_gradients, out_gradients, nepoch)"
   ]
  },
  {
   "cell_type": "markdown",
   "id": "86c4cd67",
   "metadata": {},
   "source": [
    "- Does the loss _converge_? What is the loss value at the end of training?"
   ]
  },
  {
   "cell_type": "markdown",
   "id": "68adfc3b",
   "metadata": {},
   "source": [
    "In this case, the loss does not converge and ends around -6 after training."
   ]
  },
  {
   "cell_type": "markdown",
   "id": "97d0383a",
   "metadata": {},
   "source": [
    "- If the model doesn't work, briefly explain what could be wrong and how you would fix it.\n",
    "\n",
    "HINT: The answers lie in the plots we are visualizing and Q2.3. Pay close attention to how the value of each parameter changes over the course of training."
   ]
  },
  {
   "cell_type": "markdown",
   "id": "eeca55aa",
   "metadata": {},
   "source": [
    "Looking at the plots of the weights, we see that they jump from epoch to epoch instead of slowly converging to a certain value. This is likely because the weights initial values were so far off from what they should be converging to that the gradient ended up being very high and causing the optimizer to step in very large increments. We could fix this by lowering the learning rate to prevent these big jumps and increasing the number of epochs to give the values more time to converge."
   ]
  },
  {
   "cell_type": "markdown",
   "id": "19c0f0f3",
   "metadata": {},
   "source": [
    "### Q 2.7: Implement the same MLP architecture but with ReLU nonlinearity instead of sigmoid (2 pts)"
   ]
  },
  {
   "cell_type": "code",
   "execution_count": 23,
   "id": "1e71532c",
   "metadata": {},
   "outputs": [],
   "source": [
    "class TinyReLUMLP(nn.Module):\n",
    "    def __init__(self):\n",
    "        super().__init__()\n",
    "        self.relu = nn.ReLU()\n",
    "        self.fc_in = nn.Linear(1, 1, bias=False)\n",
    "        self.fc_out = nn.Linear(1, 1, bias=False)\n",
    "        self.layers = nn.Sequential(self.fc_in, self.relu, self.fc_out)\n",
    "\n",
    "    def forward(self, x):\n",
    "        x = self.layers(x)\n",
    "        return x\n",
    "    \n",
    "relu_model = TinyReLUMLP()"
   ]
  },
  {
   "cell_type": "markdown",
   "id": "4fe18526",
   "metadata": {},
   "source": [
    "### Q 2.8: Train this model with the given weight initializations, then answer the question below (2 pts)"
   ]
  },
  {
   "cell_type": "code",
   "execution_count": 24,
   "id": "da1a58d9",
   "metadata": {
    "ExecuteTime": {
     "end_time": "2022-02-01T16:44:42.730070Z",
     "start_time": "2022-02-01T16:44:42.491663Z"
    },
    "scrolled": true
   },
   "outputs": [
    {
     "name": "stdout",
     "output_type": "stream",
     "text": [
      "[441.0, 1.0, 1.0, 1.0, 1.0, 1.0, 1.0, 1.0, 1.0, 1.0]\n"
     ]
    },
    {
     "data": {
      "image/png": "[encoded data removed]",
      "text/plain": [
       "<Figure size 720x504 with 4 Axes>"
      ]
     },
     "metadata": {
      "needs_background": "light"
     },
     "output_type": "display_data"
    }
   ],
   "source": [
    "optimizer = torch.optim.SGD(relu_model.parameters(), lr=1)\n",
    "# Number of gradient updates we want to do over the training set.\n",
    "# You might need to play with this if the learning is too fast or slow.\n",
    "nepoch = 10\n",
    "\n",
    "w_in_init, w_out_init = 20, 1\n",
    "predictions, losses, in_gradients, out_gradients = train_TinyMLP(\n",
    "    x, y, w_in_init, w_out_init, relu_model, optimizer, nepoch)\n",
    "\n",
    "print(losses)\n",
    "\n",
    "visualize(y, predictions, losses, in_gradients, out_gradients, nepoch)"
   ]
  },
  {
   "cell_type": "markdown",
   "id": "516a98d3",
   "metadata": {},
   "source": [
    "You will find that it doesn't work. Why is that? Is the ReLU MLP plagued with the same issues as the sigmoid MLP? How can you fix it (without changing the weight initialization)? Answer below.\n",
    "\n",
    "HINT: Think about what $\\frac{\\partial L}{\\partial w_{out}}$ and $\\frac{\\partial L}{\\partial w_{in}}$ would be for the ReLU MLP. The answer is in the size of updates we perform."
   ]
  },
  {
   "cell_type": "markdown",
   "id": "16eb7b8a",
   "metadata": {},
   "source": [
    "The partial derivatives for the ReLU MLP seem to be 0 because the values are negative, so we are hitting the negative side of the ReLU function where the derivative is 0. This causes the updates between each epoch to not change any weights or biases, so the losses don't decrease at all. This happens because the initial jump on the first epoch is very high and ends up overcorrecting into the negative side of the ReLU. We can fix this by decreasing the learning rate to keep the weights from changing too drastically and keeping everything on the positive side of the ReLU."
   ]
  },
  {
   "cell_type": "markdown",
   "id": "f9c43d3b",
   "metadata": {},
   "source": [
    "### Q 2.9: Fix how you fit the above ReLU model and run the `visualize` function (2 pts)"
   ]
  },
  {
   "cell_type": "code",
   "execution_count": 25,
   "id": "dbe095f1",
   "metadata": {},
   "outputs": [
    {
     "name": "stdout",
     "output_type": "stream",
     "text": [
      "[441.0, 17.583597158400003, 0.7271664087225235, 0.03010264171159281, 0.0012461107367317053, 5.158225560624377e-05, 2.1352175828514557e-06, 8.83860150895605e-08, 3.6586839157496723e-09, 1.5144893092632823e-10]\n"
     ]
    },
    {
     "data": {
      "image/png": "[encoded data removed]",
      "text/plain": [
       "<Figure size 720x504 with 4 Axes>"
      ]
     },
     "metadata": {
      "needs_background": "light"
     },
     "output_type": "display_data"
    }
   ],
   "source": [
    "new_relu_model = TinyReLUMLP()\n",
    "\n",
    "optimizer = torch.optim.SGD(new_relu_model.parameters(), lr=1e-3)\n",
    "# Number of gradient updates we want to do over the training set.\n",
    "# You might need to play with this if the learning is too fast or slow.\n",
    "nepoch = 10\n",
    "\n",
    "w_in_init, w_out_init = 20, 1\n",
    "predictions, losses, in_gradients, out_gradients = train_TinyMLP(\n",
    "    x, y, w_in_init, w_out_init, new_relu_model, optimizer, nepoch)\n",
    "\n",
    "print(losses)\n",
    "\n",
    "visualize(y, predictions, losses, in_gradients, out_gradients, nepoch)"
   ]
  },
  {
   "cell_type": "markdown",
   "id": "33930ea1",
   "metadata": {},
   "source": [
    "## Problem 3. Training MLPs on the Fashion MNIST dataset (22 Points)\n",
    "\n",
    "In this problem, we will build MLPs on a freely available vision dataset, <a href=\"https://github.com/zalandoresearch/fashion-mnist\">Fashion-MNIST</a>. This data has been increasingly gaining popularity as the \"hello world!\" of the ML community. It is simple enough to test new ideas on, and complex enough that our current models still have room for improvement. While you will find several blog-posts on MLPs for this dataset, we encourage you to work through this on your own- this is designed to familiarize you with pytorch and basic neural networks, for your class project and beyond.\n",
    "\n",
    "Fashion MNIST consists of many 28x28 grayscale images belonging to 10 different classes of clothing. The task is to train a classifier that can predict the clothing class from the image."
   ]
  },
  {
   "cell_type": "code",
   "execution_count": 26,
   "id": "29d3c71b",
   "metadata": {
    "ExecuteTime": {
     "end_time": "2022-02-01T16:44:42.734653Z",
     "start_time": "2022-02-01T16:44:42.731189Z"
    }
   },
   "outputs": [],
   "source": [
    "seed = 42\n",
    "\n",
    "np.random.seed(seed)\n",
    "torch.manual_seed(seed)\n",
    "torch.cuda.manual_seed_all(seed)\n",
    "torch.cuda.manual_seed(seed)\n",
    "torch.backends.cudnn.benchmark = False\n",
    "torch.backends.cudnn.deterministic = True"
   ]
  },
  {
   "cell_type": "markdown",
   "id": "1292e3ac",
   "metadata": {},
   "source": [
    "#### Let's load the data in pytorch!\n",
    "\n",
    "All PyTorch datasets have a `tranform` argument to apply common transforms to the input data like normalizing, converting to a tensor etc.. Similarly, the `target_transform` argument can be applied to the output data (we will not use it here).\n",
    "\n",
    "Read about torch datasets and dataloaders <a href=\"https://pytorch.org/vision/stable/datasets.html\">here</a>!"
   ]
  },
  {
   "cell_type": "code",
   "execution_count": 27,
   "id": "01b76859",
   "metadata": {
    "ExecuteTime": {
     "end_time": "2022-02-01T16:44:42.827529Z",
     "start_time": "2022-02-01T16:44:42.735604Z"
    }
   },
   "outputs": [
    {
     "name": "stdout",
     "output_type": "stream",
     "text": [
      "Dataset FashionMNIST\n",
      "    Number of datapoints: 60000\n",
      "    Root location: fashionMNIST_data\n",
      "    Split: Train\n",
      "    StandardTransform\n",
      "Transform: ToTensor()\n",
      "Dataset FashionMNIST\n",
      "    Number of datapoints: 10000\n",
      "    Root location: fashionMNIST_data\n",
      "    Split: Test\n",
      "    StandardTransform\n",
      "Transform: ToTensor()\n"
     ]
    }
   ],
   "source": [
    "from torchvision import datasets, transforms\n",
    "\n",
    "save_dir = 'fashionMNIST_data'\n",
    "\n",
    "transform = transforms.ToTensor() # Convert the image into a torch tensor.\n",
    "\n",
    "train_set = datasets.FashionMNIST(save_dir, download=True, train=True, transform=transform)\n",
    "test_set = datasets.FashionMNIST(save_dir, download=True, train=False, transform=transform)\n",
    "\n",
    "print(train_set)\n",
    "print(test_set)"
   ]
  },
  {
   "cell_type": "markdown",
   "id": "6bd6e8db",
   "metadata": {},
   "source": [
    "Each of these sets comprises of the image `data` and the clasification `targets`. The `targets` take a numerical value from 1-10 indicating which clothing class each image belongs to."
   ]
  },
  {
   "cell_type": "markdown",
   "id": "21667d78",
   "metadata": {},
   "source": [
    "### Q 3.1 (2 pts)\n",
    "- Print the classes in the train and test datasets.\n",
    "- Visualize the first image in the training set.\n",
    "- Print its classification label.\n",
    "\n",
    "HINT:\n",
    "`plt.imshow(image_array, cmap = 'Greys_r')` where `image_array` is a 28x28 array of the pixel values in the image."
   ]
  },
  {
   "cell_type": "code",
   "execution_count": 28,
   "id": "275ac19a",
   "metadata": {},
   "outputs": [
    {
     "name": "stdout",
     "output_type": "stream",
     "text": [
      "['T-shirt/top', 'Trouser', 'Pullover', 'Dress', 'Coat', 'Sandal', 'Shirt', 'Sneaker', 'Bag', 'Ankle boot']\n",
      "Ankle boot\n"
     ]
    },
    {
     "data": {
      "image/png": "[encoded data removed]",
      "text/plain": [
       "<Figure size 432x288 with 1 Axes>"
      ]
     },
     "metadata": {
      "needs_background": "light"
     },
     "output_type": "display_data"
    }
   ],
   "source": [
    "# print classes\n",
    "classes = train_set.classes\n",
    "print(classes)\n",
    "\n",
    "# print label\n",
    "img, label = train_set[0]\n",
    "plt.imshow(img.squeeze(), cmap='Greys_r')\n",
    "print(classes[label])"
   ]
  },
  {
   "cell_type": "markdown",
   "id": "a62a68c1",
   "metadata": {},
   "source": [
    "Since the original data does not have a validation set, let's create one by splitting the training set."
   ]
  },
  {
   "cell_type": "code",
   "execution_count": 29,
   "id": "75073bc5",
   "metadata": {
    "ExecuteTime": {
     "end_time": "2022-02-01T16:44:42.915484Z",
     "start_time": "2022-02-01T16:44:42.904006Z"
    }
   },
   "outputs": [],
   "source": [
    "from torch.utils.data.sampler import SubsetRandomSampler\n",
    "ntotal = 60000\n",
    "# ntotal = 1000\n",
    "ntrain = int(0.9*ntotal)\n",
    "nval = ntotal - ntrain\n",
    "\n",
    "val_ix = np.random.choice(range(ntotal), size=nval, replace=False)\n",
    "train_ix = list(set(range(ntotal)) - set(val_ix))\n",
    "\n",
    "train_sampler = SubsetRandomSampler(train_ix)\n",
    "val_sampler = SubsetRandomSampler(val_ix)"
   ]
  },
  {
   "cell_type": "markdown",
   "id": "d2765b68",
   "metadata": {},
   "source": [
    "### Q 3.2: Initialize the train, val and test dataloaders with the given `batch_size` (1 pt)"
   ]
  },
  {
   "cell_type": "code",
   "execution_count": 30,
   "id": "0c3b5bc4",
   "metadata": {},
   "outputs": [],
   "source": [
    "batch_size = 64\n",
    "train_loader = torch.utils.data.DataLoader(train_set, batch_size, sampler=train_sampler)\n",
    "val_loader = torch.utils.data.DataLoader(train_set, batch_size, sampler=val_sampler)\n",
    "test_loader = torch.utils.data.DataLoader(test_set, batch_size)"
   ]
  },
  {
   "cell_type": "markdown",
   "id": "9ad20723",
   "metadata": {},
   "source": [
    "Each loader iterates over the data, yielding `batch_size` images and output targets per iteration."
   ]
  },
  {
   "cell_type": "code",
   "execution_count": 31,
   "id": "3ba5cc99",
   "metadata": {
    "ExecuteTime": {
     "end_time": "2022-02-01T16:44:43.061521Z",
     "start_time": "2022-02-01T16:44:42.925416Z"
    }
   },
   "outputs": [
    {
     "name": "stdout",
     "output_type": "stream",
     "text": [
      "torch.Size([64, 1, 28, 28]) torch.Size([64])\n"
     ]
    }
   ],
   "source": [
    "for images, labels in train_loader:\n",
    "    print(images.shape, labels.shape)\n",
    "    break"
   ]
  },
  {
   "cell_type": "markdown",
   "id": "57c3c84f",
   "metadata": {},
   "source": [
    "### Q 3.3: Initialize an MLP with 3 fully-connected layers. You can add any non-linearity of your choice to the first two layers, and choose the layer widths as well (5 pts)\n",
    "\n",
    "#### Define MLP\n",
    "\n",
    "We have provided the skeleton class definition below. Complete it by specifying the layer objects in your MLP. Keep in mind that the input `x` is of shape (`batch_size`, 1, 28, 28). To feed this into the MLP, you will have to flatten it to shape (`batch_size`, 1x28x28). Additionally, the output should be of shape (`batch_size`, 10) as we have 10 classes.\n",
    "\n",
    "You may find PyTorch functions like `reshape`, `view`, `flatten` etc. useful here."
   ]
  },
  {
   "cell_type": "code",
   "execution_count": 32,
   "id": "b52de04e",
   "metadata": {},
   "outputs": [],
   "source": [
    "class fashionMLP(nn.Module):\n",
    "    def __init__(self):\n",
    "        n1 = 160\n",
    "        n2 = 40\n",
    "        \n",
    "        super().__init__()\n",
    "        self.layers = nn.Sequential(\n",
    "            nn.Linear(28*28, n1),\n",
    "            nn.GELU(),\n",
    "            nn.Linear(n1, n2),\n",
    "            nn.GELU(),\n",
    "            nn.Linear(n2, 10, bias=False))\n",
    "\n",
    "    def forward(self, x):\n",
    "        x = torch.flatten(x, start_dim=1)\n",
    "        x = self.layers(x)\n",
    "        return x"
   ]
  },
  {
   "cell_type": "markdown",
   "id": "a477ba00",
   "metadata": {},
   "source": [
    "Tip: An easy way to check if you got the dimensions right is to test your model on a single batch. Iteratively add each layer transformation to the input, and ensure the shape is right at each stage."
   ]
  },
  {
   "cell_type": "code",
   "execution_count": 33,
   "id": "8fa59a0c",
   "metadata": {
    "ExecuteTime": {
     "end_time": "2022-02-01T16:44:43.071883Z",
     "start_time": "2022-02-01T16:44:43.069040Z"
    }
   },
   "outputs": [
    {
     "name": "stdout",
     "output_type": "stream",
     "text": [
      "torch.Size([64, 1, 28, 28]) torch.Size([64])\n",
      "torch.Size([64, 10])\n"
     ]
    }
   ],
   "source": [
    "for images, labels in train_loader:\n",
    "    print(images.shape, labels.shape)\n",
    "#     break\n",
    "    model = fashionMLP()\n",
    "    outputs = model(images)\n",
    "    print(outputs.shape)\n",
    "#     print(outputs)\n",
    "    break"
   ]
  },
  {
   "cell_type": "markdown",
   "id": "1472d110",
   "metadata": {},
   "source": [
    "#### Loss and optimizer definitions\n",
    "### Q 3.4: Define `criterion` to be the cross entropy loss function and use an optimizer of your choice (1 pt)"
   ]
  },
  {
   "cell_type": "code",
   "execution_count": 34,
   "id": "a155b927",
   "metadata": {},
   "outputs": [],
   "source": [
    "model = fashionMLP()\n",
    "criterion = nn.CrossEntropyLoss()\n",
    "optimizer = torch.optim.Adam(model.parameters(), lr=6e-3)"
   ]
  },
  {
   "cell_type": "markdown",
   "id": "7df7e201",
   "metadata": {},
   "source": [
    "### Q 3.5 (2 pts)\n",
    "Answer the following questions below."
   ]
  },
  {
   "cell_type": "markdown",
   "id": "cf4f8253",
   "metadata": {},
   "source": [
    "- For classification problems, why is the softmax activation used on the final MLP output?"
   ]
  },
  {
   "cell_type": "markdown",
   "id": "2863257a",
   "metadata": {},
   "source": [
    "The softmax function allows us to take the values returned by the MLP and convert them into a probability distribution."
   ]
  },
  {
   "cell_type": "markdown",
   "id": "9a3f48a4",
   "metadata": {},
   "source": [
    "- Do you need to apply softmax here?"
   ]
  },
  {
   "cell_type": "markdown",
   "id": "f571ba3e",
   "metadata": {},
   "source": [
    "I thought softmax made sense as we want to ouput a probability distribution to get the most highly predicted output class, however when I added the softmax function to the layers of the model, it ended up with the model not changing at all and stabilizing at a high loss. I believe the softmax function has a quickly diminishing derivative and therefore is susceptible to the vanishing gradient problem. Because of this, the model does not train well with the softmax function applied at the end."
   ]
  },
  {
   "cell_type": "markdown",
   "id": "6cfadf71",
   "metadata": {},
   "source": [
    "#### Model training and evaluation\n",
    "### Q 3.6: Complete the training, validation and testing loops (3 pts)"
   ]
  },
  {
   "cell_type": "code",
   "execution_count": 35,
   "id": "67eb9bc5",
   "metadata": {},
   "outputs": [],
   "source": [
    "from tqdm.notebook import tqdm\n",
    "\n",
    "def train_network(model, train_loader, val_loader, criterion, optimizer, nepoch=100):\n",
    "    try:\n",
    "        for epoch in tqdm(range(nepoch)):\n",
    "            print('EPOCH %d'%epoch)\n",
    "            total_loss = 0\n",
    "            count = 0\n",
    "            for inputs, labels in train_loader:\n",
    "                optimizer.zero_grad()\n",
    "                outputs = model.forward(inputs)\n",
    "                loss = criterion(outputs, labels)\n",
    "                loss.backward()\n",
    "                optimizer.step()\n",
    "                total_loss += loss.item()\n",
    "                count += 1\n",
    "            print('{:>12s} {:>7.5f}'.format('Train loss:', total_loss/count))\n",
    "            with torch.no_grad():\n",
    "                total_loss = 0\n",
    "                count = 0\n",
    "                for inputs, labels in val_loader:\n",
    "                    outputs = model(inputs)\n",
    "                    loss = criterion(outputs, labels)\n",
    "                    total_loss += loss.item()\n",
    "                    count += 1\n",
    "                print('{:>12s} {:>7.5f}'.format('Val loss:', total_loss/count))\n",
    "            print()\n",
    "    except KeyboardInterrupt:\n",
    "        print('Exiting from training early')\n",
    "    return\n",
    "\n",
    "def test_network(model, test_loader, mode):\n",
    "    correct = 0\n",
    "    total = 0\n",
    "    true, pred = [], []\n",
    "    with torch.no_grad():\n",
    "        for inputs, labels  in test_loader:\n",
    "            outputs = model(inputs)\n",
    "            predicted = torch.max(outputs, dim=1).indices # get predicted class label for each test example.\n",
    "            total += labels.size(0)\n",
    "            correct += (predicted == labels).sum().item()\n",
    "            true.append(labels)\n",
    "            pred.append(predicted)\n",
    "    acc = (100 * correct / total)\n",
    "    print('%s accuracy: %0.3f' % (mode, acc))\n",
    "    true = np.concatenate(true)\n",
    "    pred = np.concatenate(pred)\n",
    "    return acc, true, pred"
   ]
  },
  {
   "cell_type": "markdown",
   "id": "d9f23a66",
   "metadata": {
    "ExecuteTime": {
     "end_time": "2022-02-01T16:21:10.093779Z",
     "start_time": "2022-02-01T16:21:10.087232Z"
    }
   },
   "source": [
    "### Q 3.7: Understanding losses (2 pts)\n",
    "\n",
    "What could the following scenarios suggest?\n",
    "- Validation loss is _increasing_ continuously, while training loss continues to improve.\n",
    "- Training loss  is _increasing_ continuously.\n",
    "\n",
    "Answer in the box below."
   ]
  },
  {
   "cell_type": "markdown",
   "id": "c33b8926",
   "metadata": {},
   "source": [
    "If validation loss is increasing while training loss is improving, it most likely means we are overfitting to the training data. \n",
    "On the other hand, if the training loss is increasing, that likely means we have a bad network structure that may be having issues like the vanishing gradient problem or too many dead ReLU units, or it could be because of bad hyperparameters like the learning rate being set too high."
   ]
  },
  {
   "cell_type": "markdown",
   "id": "3ad0e136",
   "metadata": {
    "ExecuteTime": {
     "end_time": "2022-02-01T16:21:58.510967Z",
     "start_time": "2022-02-01T16:21:58.505264Z"
    }
   },
   "source": [
    "### Q 3.8: Train the network and report the final test accuracy of your model (1 pt)\n",
    "Use the functions `train_network` and `test_network` defined above."
   ]
  },
  {
   "cell_type": "code",
   "execution_count": 36,
   "id": "031cee48",
   "metadata": {},
   "outputs": [
    {
     "data": {
      "application/vnd.jupyter.widget-view+json": {
       "model_id": "a0e16bfc29ca41ef9c3efc88f0541a71",
       "version_major": 2,
       "version_minor": 0
      },
      "text/plain": [
       "  0%|          | 0/100 [00:00<?, ?it/s]"
      ]
     },
     "metadata": {},
     "output_type": "display_data"
    },
    {
     "name": "stdout",
     "output_type": "stream",
     "text": [
      "EPOCH 0\n",
      " Train loss: 0.50803\n",
      "   Val loss: 0.46029\n",
      "\n",
      "EPOCH 1\n",
      " Train loss: 0.39506\n",
      "   Val loss: 0.39870\n",
      "\n",
      "EPOCH 2\n",
      " Train loss: 0.36361\n",
      "   Val loss: 0.37985\n",
      "\n",
      "EPOCH 3\n",
      " Train loss: 0.34289\n",
      "   Val loss: 0.35721\n",
      "\n",
      "EPOCH 4\n",
      " Train loss: 0.32924\n",
      "   Val loss: 0.37463\n",
      "\n",
      "EPOCH 5\n",
      " Train loss: 0.31526\n",
      "   Val loss: 0.36173\n",
      "\n",
      "EPOCH 6\n",
      " Train loss: 0.30833\n",
      "   Val loss: 0.33471\n",
      "\n",
      "EPOCH 7\n",
      " Train loss: 0.29965\n",
      "   Val loss: 0.34278\n",
      "\n",
      "EPOCH 8\n",
      " Train loss: 0.29248\n",
      "   Val loss: 0.36157\n",
      "\n",
      "EPOCH 9\n",
      " Train loss: 0.29070\n",
      "   Val loss: 0.36080\n",
      "\n",
      "EPOCH 10\n",
      " Train loss: 0.28266\n",
      "   Val loss: 0.34275\n",
      "\n",
      "EPOCH 11\n",
      " Train loss: 0.27525\n",
      "   Val loss: 0.37225\n",
      "\n",
      "EPOCH 12\n",
      " Train loss: 0.26820\n",
      "   Val loss: 0.34369\n",
      "\n",
      "EPOCH 13\n",
      " Train loss: 0.26444\n",
      "   Val loss: 0.36125\n",
      "\n",
      "EPOCH 14\n",
      " Train loss: 0.26553\n",
      "   Val loss: 0.35768\n",
      "\n",
      "EPOCH 15\n",
      " Train loss: 0.25623\n",
      "   Val loss: 0.34784\n",
      "\n",
      "EPOCH 16\n",
      " Train loss: 0.24989\n",
      "   Val loss: 0.35433\n",
      "\n",
      "EPOCH 17\n",
      " Train loss: 0.24724\n",
      "   Val loss: 0.39391\n",
      "\n",
      "EPOCH 18\n",
      " Train loss: 0.24729\n",
      "   Val loss: 0.37964\n",
      "\n",
      "EPOCH 19\n",
      " Train loss: 0.24034\n",
      "   Val loss: 0.35902\n",
      "\n",
      "EPOCH 20\n",
      " Train loss: 0.23822\n",
      "   Val loss: 0.38690\n",
      "\n",
      "EPOCH 21\n",
      " Train loss: 0.23380\n",
      "   Val loss: 0.36037\n",
      "\n",
      "EPOCH 22\n",
      " Train loss: 0.23250\n",
      "   Val loss: 0.38490\n",
      "\n",
      "EPOCH 23\n",
      " Train loss: 0.23485\n",
      "   Val loss: 0.37806\n",
      "\n",
      "EPOCH 24\n",
      " Train loss: 0.22479\n",
      "   Val loss: 0.39460\n",
      "\n",
      "EPOCH 25\n",
      " Train loss: 0.22297\n",
      "   Val loss: 0.39383\n",
      "\n",
      "EPOCH 26\n",
      " Train loss: 0.22628\n",
      "   Val loss: 0.41207\n",
      "\n",
      "EPOCH 27\n",
      " Train loss: 0.22723\n",
      "   Val loss: 0.41264\n",
      "\n",
      "EPOCH 28\n",
      " Train loss: 0.22211\n",
      "   Val loss: 0.40978\n",
      "\n",
      "EPOCH 29\n",
      " Train loss: 0.21918\n",
      "   Val loss: 0.37334\n",
      "\n",
      "EPOCH 30\n",
      " Train loss: 0.21681\n",
      "   Val loss: 0.40578\n",
      "\n",
      "EPOCH 31\n",
      " Train loss: 0.21899\n",
      "   Val loss: 0.43536\n",
      "\n",
      "EPOCH 32\n",
      " Train loss: 0.21566\n",
      "   Val loss: 0.42191\n",
      "\n",
      "EPOCH 33\n",
      " Train loss: 0.20813\n",
      "   Val loss: 0.40908\n",
      "\n",
      "EPOCH 34\n",
      " Train loss: 0.20685\n",
      "   Val loss: 0.42757\n",
      "\n",
      "EPOCH 35\n",
      " Train loss: 0.21084\n",
      "   Val loss: 0.44853\n",
      "\n",
      "EPOCH 36\n",
      " Train loss: 0.20494\n",
      "   Val loss: 0.43975\n",
      "\n",
      "EPOCH 37\n",
      " Train loss: 0.20392\n",
      "   Val loss: 0.43520\n",
      "\n",
      "EPOCH 38\n",
      " Train loss: 0.20084\n",
      "   Val loss: 0.44957\n",
      "\n",
      "EPOCH 39\n",
      " Train loss: 0.20069\n",
      "   Val loss: 0.44581\n",
      "\n",
      "EPOCH 40\n",
      " Train loss: 0.20484\n",
      "   Val loss: 0.41291\n",
      "\n",
      "EPOCH 41\n",
      " Train loss: 0.19515\n",
      "   Val loss: 0.43817\n",
      "\n",
      "EPOCH 42\n",
      " Train loss: 0.19568\n",
      "   Val loss: 0.47911\n",
      "\n",
      "EPOCH 43\n",
      " Train loss: 0.19878\n",
      "   Val loss: 0.42023\n",
      "\n",
      "EPOCH 44\n",
      " Train loss: 0.19268\n",
      "   Val loss: 0.44203\n",
      "\n",
      "EPOCH 45\n",
      " Train loss: 0.19087\n",
      "   Val loss: 0.49593\n",
      "\n",
      "EPOCH 46\n",
      " Train loss: 0.19822\n",
      "   Val loss: 0.44798\n",
      "\n",
      "EPOCH 47\n",
      " Train loss: 0.18574\n",
      "   Val loss: 0.45786\n",
      "\n",
      "EPOCH 48\n",
      " Train loss: 0.19318\n",
      "   Val loss: 0.46866\n",
      "\n",
      "EPOCH 49\n",
      " Train loss: 0.19107\n",
      "   Val loss: 0.44439\n",
      "\n",
      "EPOCH 50\n",
      " Train loss: 0.19141\n",
      "   Val loss: 0.47836\n",
      "\n",
      "EPOCH 51\n",
      " Train loss: 0.18648\n",
      "   Val loss: 0.48105\n",
      "\n",
      "EPOCH 52\n",
      " Train loss: 0.18506\n",
      "   Val loss: 0.46442\n",
      "\n",
      "EPOCH 53\n",
      " Train loss: 0.18200\n",
      "   Val loss: 0.49971\n",
      "\n",
      "EPOCH 54\n",
      " Train loss: 0.18614\n",
      "   Val loss: 0.51441\n",
      "\n",
      "EPOCH 55\n",
      " Train loss: 0.17762\n",
      "   Val loss: 0.48226\n",
      "\n",
      "EPOCH 56\n",
      " Train loss: 0.18515\n",
      "   Val loss: 0.52311\n",
      "\n",
      "EPOCH 57\n",
      " Train loss: 0.18420\n",
      "   Val loss: 0.49137\n",
      "\n",
      "EPOCH 58\n",
      " Train loss: 0.17320\n",
      "   Val loss: 0.46674\n",
      "\n",
      "EPOCH 59\n",
      " Train loss: 0.17541\n",
      "   Val loss: 0.49155\n",
      "\n",
      "EPOCH 60\n",
      " Train loss: 0.18575\n",
      "   Val loss: 0.49526\n",
      "\n",
      "EPOCH 61\n",
      " Train loss: 0.17294\n",
      "   Val loss: 0.53020\n",
      "\n",
      "EPOCH 62\n",
      " Train loss: 0.17810\n",
      "   Val loss: 0.51271\n",
      "\n",
      "EPOCH 63\n",
      " Train loss: 0.16786\n",
      "   Val loss: 0.52772\n",
      "\n",
      "EPOCH 64\n",
      " Train loss: 0.17791\n",
      "   Val loss: 0.51953\n",
      "\n",
      "EPOCH 65\n",
      " Train loss: 0.17519\n",
      "   Val loss: 0.53191\n",
      "\n",
      "EPOCH 66\n",
      " Train loss: 0.16988\n",
      "   Val loss: 0.54166\n",
      "\n",
      "EPOCH 67\n",
      " Train loss: 0.17169\n",
      "   Val loss: 0.53703\n",
      "\n",
      "EPOCH 68\n",
      " Train loss: 0.17286\n",
      "   Val loss: 0.55094\n",
      "\n",
      "EPOCH 69\n",
      " Train loss: 0.16288\n",
      "   Val loss: 0.53207\n",
      "\n",
      "EPOCH 70\n",
      " Train loss: 0.16653\n",
      "   Val loss: 0.62848\n",
      "\n",
      "EPOCH 71\n",
      " Train loss: 0.16876\n",
      "   Val loss: 0.54208\n",
      "\n",
      "EPOCH 72\n",
      " Train loss: 0.16356\n",
      "   Val loss: 0.57875\n",
      "\n",
      "EPOCH 73\n",
      " Train loss: 0.16477\n",
      "   Val loss: 0.52971\n",
      "\n",
      "EPOCH 74\n",
      " Train loss: 0.16861\n",
      "   Val loss: 0.53402\n",
      "\n",
      "EPOCH 75\n",
      " Train loss: 0.16125\n",
      "   Val loss: 0.58666\n",
      "\n",
      "EPOCH 76\n",
      " Train loss: 0.16437\n",
      "   Val loss: 0.52704\n",
      "\n",
      "EPOCH 77\n",
      " Train loss: 0.16112\n",
      "   Val loss: 0.59578\n",
      "\n",
      "EPOCH 78\n",
      " Train loss: 0.15903\n",
      "   Val loss: 0.56564\n",
      "\n",
      "EPOCH 79\n",
      " Train loss: 0.16829\n",
      "   Val loss: 0.54992\n",
      "\n",
      "EPOCH 80\n",
      " Train loss: 0.15620\n",
      "   Val loss: 0.57209\n",
      "\n",
      "EPOCH 81\n",
      " Train loss: 0.16292\n",
      "   Val loss: 0.60582\n",
      "\n",
      "EPOCH 82\n",
      " Train loss: 0.15169\n",
      "   Val loss: 0.61645\n",
      "\n",
      "EPOCH 83\n",
      " Train loss: 0.15915\n",
      "   Val loss: 0.57942\n",
      "\n",
      "EPOCH 84\n",
      " Train loss: 0.16250\n",
      "   Val loss: 0.60642\n",
      "\n",
      "EPOCH 85\n",
      " Train loss: 0.15774\n",
      "   Val loss: 0.58579\n",
      "\n",
      "EPOCH 86\n",
      " Train loss: 0.16369\n",
      "   Val loss: 0.67601\n",
      "\n",
      "EPOCH 87\n",
      " Train loss: 0.15435\n",
      "   Val loss: 0.61456\n",
      "\n",
      "EPOCH 88\n",
      " Train loss: 0.15128\n",
      "   Val loss: 0.59286\n",
      "\n",
      "EPOCH 89\n",
      " Train loss: 0.15491\n",
      "   Val loss: 0.70476\n",
      "\n",
      "EPOCH 90\n",
      " Train loss: 0.15846\n",
      "   Val loss: 0.57993\n",
      "\n",
      "EPOCH 91\n",
      " Train loss: 0.15563\n",
      "   Val loss: 0.60769\n",
      "\n",
      "EPOCH 92\n",
      " Train loss: 0.15795\n",
      "   Val loss: 0.59258\n",
      "\n",
      "EPOCH 93\n",
      " Train loss: 0.15667\n",
      "   Val loss: 0.68127\n",
      "\n",
      "EPOCH 94\n",
      " Train loss: 0.15000\n",
      "   Val loss: 0.58439\n",
      "\n",
      "EPOCH 95\n",
      " Train loss: 0.15313\n",
      "   Val loss: 0.68513\n",
      "\n",
      "EPOCH 96\n",
      " Train loss: 0.16073\n",
      "   Val loss: 0.63389\n",
      "\n",
      "EPOCH 97\n",
      " Train loss: 0.15473\n",
      "   Val loss: 0.64606\n",
      "\n",
      "EPOCH 98\n",
      " Train loss: 0.14196\n",
      "   Val loss: 0.71128\n",
      "\n",
      "EPOCH 99\n",
      " Train loss: 0.14825\n",
      "   Val loss: 0.60283\n",
      "\n",
      "Test accuracy: 87.950\n"
     ]
    }
   ],
   "source": [
    "train_network(model, train_loader, val_loader, criterion, optimizer, 100)\n",
    "\n",
    "acc, true, pred = test_network(model, test_loader, \"Test\")"
   ]
  },
  {
   "cell_type": "markdown",
   "id": "ef7feb0a",
   "metadata": {},
   "source": [
    "### Q 3.9: Which class did the model get wrong the most? Which class did it get right the most? (2 pts)\n",
    "\n",
    "Hint: Compare the `true` and `pred` labels."
   ]
  },
  {
   "cell_type": "code",
   "execution_count": 44,
   "id": "4cfe7697",
   "metadata": {},
   "outputs": [
    {
     "data": {
      "text/plain": [
       "[('Shirt', 0.699),\n",
       " ('Coat', 0.781),\n",
       " ('Pullover', 0.79),\n",
       " ('T-shirt/top', 0.825),\n",
       " ('Dress', 0.898),\n",
       " ('Ankle boot', 0.928),\n",
       " ('Sandal', 0.954),\n",
       " ('Bag', 0.959),\n",
       " ('Sneaker', 0.975),\n",
       " ('Trouser', 0.976)]"
      ]
     },
     "execution_count": 44,
     "metadata": {},
     "output_type": "execute_result"
    }
   ],
   "source": [
    "num_classes = len(classes)\n",
    "\n",
    "totals = [0] * num_classes\n",
    "right = [0] * num_classes\n",
    "for i in range(len(true)):\n",
    "    c = true[i]\n",
    "    totals[c] += 1\n",
    "    if true[i] == pred[i]:\n",
    "        right[c] += 1\n",
    "\n",
    "class_accuracies = {c: 0 for c in classes}\n",
    "for i in range(num_classes):\n",
    "    class_accuracies[classes[i]] = right[i] / totals[i]\n",
    "    \n",
    "sorted(class_accuracies.items(), key=lambda x:x[1])"
   ]
  },
  {
   "cell_type": "markdown",
   "id": "63415286",
   "metadata": {},
   "source": [
    "Looking at the dictionary of incorrect predictions, we can see that the model was incorrect the most on shirts, followed by coats and pullovers, while the model did the best on trousers, sneakers, and bags. The worse categories all seem to be more similar to each other, as all tops would have the same general image of a torso with arm sleeves, however boots, sneakers, trousers, and bags are all much more distinct."
   ]
  },
  {
   "cell_type": "markdown",
   "id": "d40367ae",
   "metadata": {},
   "source": [
    "### Q 3.10: Add any regularization method of your choice (or more than one!), and report the final test accuracy (3 pts)"
   ]
  },
  {
   "cell_type": "code",
   "execution_count": 46,
   "id": "e0e0f29d",
   "metadata": {},
   "outputs": [],
   "source": [
    "class regularized_fashionMLP(nn.Module):\n",
    "    def __init__(self):\n",
    "        n1 = 160\n",
    "        n2 = 40\n",
    "        super().__init__()\n",
    "        self.layers = nn.Sequential(\n",
    "            nn.Linear(28*28, n1),\n",
    "            nn.Dropout(),\n",
    "            nn.GELU(),\n",
    "            nn.Linear(n1, n2),\n",
    "            nn.Dropout(),\n",
    "            nn.GELU(),\n",
    "            nn.Linear(n2, 10, bias=False))\n",
    "\n",
    "    def forward(self, x):\n",
    "        x = torch.flatten(x, start_dim=1)\n",
    "        x = self.layers(x)\n",
    "        return x"
   ]
  },
  {
   "cell_type": "code",
   "execution_count": 47,
   "id": "47f40e7b",
   "metadata": {},
   "outputs": [
    {
     "data": {
      "application/vnd.jupyter.widget-view+json": {
       "model_id": "7475a294cc354905a998c18b8e20bab8",
       "version_major": 2,
       "version_minor": 0
      },
      "text/plain": [
       "  0%|          | 0/100 [00:00<?, ?it/s]"
      ]
     },
     "metadata": {},
     "output_type": "display_data"
    },
    {
     "name": "stdout",
     "output_type": "stream",
     "text": [
      "EPOCH 0\n",
      " Train loss: 0.82796\n",
      "   Val loss: 0.61864\n",
      "\n",
      "EPOCH 1\n",
      " Train loss: 0.57490\n",
      "   Val loss: 0.56755\n",
      "\n",
      "EPOCH 2\n",
      " Train loss: 0.53045\n",
      "   Val loss: 0.53787\n",
      "\n",
      "EPOCH 3\n",
      " Train loss: 0.49602\n",
      "   Val loss: 0.50233\n",
      "\n",
      "EPOCH 4\n",
      " Train loss: 0.48570\n",
      "   Val loss: 0.48110\n",
      "\n",
      "EPOCH 5\n",
      " Train loss: 0.46740\n",
      "   Val loss: 0.49751\n",
      "\n",
      "EPOCH 6\n",
      " Train loss: 0.45666\n",
      "   Val loss: 0.48251\n",
      "\n",
      "EPOCH 7\n",
      " Train loss: 0.44842\n",
      "   Val loss: 0.47275\n",
      "\n",
      "EPOCH 8\n",
      " Train loss: 0.44067\n",
      "   Val loss: 0.47873\n",
      "\n",
      "EPOCH 9\n",
      " Train loss: 0.43298\n",
      "   Val loss: 0.46460\n",
      "\n",
      "EPOCH 10\n",
      " Train loss: 0.42683\n",
      "   Val loss: 0.46746\n",
      "\n",
      "EPOCH 11\n",
      " Train loss: 0.41870\n",
      "   Val loss: 0.45715\n",
      "\n",
      "EPOCH 12\n",
      " Train loss: 0.41697\n",
      "   Val loss: 0.47215\n",
      "\n",
      "EPOCH 13\n",
      " Train loss: 0.41320\n",
      "   Val loss: 0.45964\n",
      "\n",
      "EPOCH 14\n",
      " Train loss: 0.41164\n",
      "   Val loss: 0.45340\n",
      "\n",
      "EPOCH 15\n",
      " Train loss: 0.40193\n",
      "   Val loss: 0.45441\n",
      "\n",
      "EPOCH 16\n",
      " Train loss: 0.40234\n",
      "   Val loss: 0.45493\n",
      "\n",
      "EPOCH 17\n",
      " Train loss: 0.39936\n",
      "   Val loss: 0.45951\n",
      "\n",
      "EPOCH 18\n",
      " Train loss: 0.39446\n",
      "   Val loss: 0.46838\n",
      "\n",
      "EPOCH 19\n",
      " Train loss: 0.39008\n",
      "   Val loss: 0.46555\n",
      "\n",
      "EPOCH 20\n",
      " Train loss: 0.38711\n",
      "   Val loss: 0.45356\n",
      "\n",
      "EPOCH 21\n",
      " Train loss: 0.38612\n",
      "   Val loss: 0.46702\n",
      "\n",
      "EPOCH 22\n",
      " Train loss: 0.38499\n",
      "   Val loss: 0.45027\n",
      "\n",
      "EPOCH 23\n",
      " Train loss: 0.37962\n",
      "   Val loss: 0.45198\n",
      "\n",
      "EPOCH 24\n",
      " Train loss: 0.38374\n",
      "   Val loss: 0.45252\n",
      "\n",
      "EPOCH 25\n",
      " Train loss: 0.37519\n",
      "   Val loss: 0.45732\n",
      "\n",
      "EPOCH 26\n",
      " Train loss: 0.37031\n",
      "   Val loss: 0.44747\n",
      "\n",
      "EPOCH 27\n",
      " Train loss: 0.37086\n",
      "   Val loss: 0.47497\n",
      "\n",
      "EPOCH 28\n",
      " Train loss: 0.36614\n",
      "   Val loss: 0.46084\n",
      "\n",
      "EPOCH 29\n",
      " Train loss: 0.36442\n",
      "   Val loss: 0.45729\n",
      "\n",
      "EPOCH 30\n",
      " Train loss: 0.36488\n",
      "   Val loss: 0.46857\n",
      "\n",
      "EPOCH 31\n",
      " Train loss: 0.36205\n",
      "   Val loss: 0.45151\n",
      "\n",
      "EPOCH 32\n",
      " Train loss: 0.36383\n",
      "   Val loss: 0.44721\n",
      "\n",
      "EPOCH 33\n",
      " Train loss: 0.36027\n",
      "   Val loss: 0.46801\n",
      "\n",
      "EPOCH 34\n",
      " Train loss: 0.35757\n",
      "   Val loss: 0.43364\n",
      "\n",
      "EPOCH 35\n",
      " Train loss: 0.35063\n",
      "   Val loss: 0.44730\n",
      "\n",
      "EPOCH 36\n",
      " Train loss: 0.35593\n",
      "   Val loss: 0.44309\n",
      "\n",
      "EPOCH 37\n",
      " Train loss: 0.35425\n",
      "   Val loss: 0.44869\n",
      "\n",
      "EPOCH 38\n",
      " Train loss: 0.35172\n",
      "   Val loss: 0.44283\n",
      "\n",
      "EPOCH 39\n",
      " Train loss: 0.35290\n",
      "   Val loss: 0.48274\n",
      "\n",
      "EPOCH 40\n",
      " Train loss: 0.34936\n",
      "   Val loss: 0.48097\n",
      "\n",
      "EPOCH 41\n",
      " Train loss: 0.34823\n",
      "   Val loss: 0.47786\n",
      "\n",
      "EPOCH 42\n",
      " Train loss: 0.34612\n",
      "   Val loss: 0.45362\n",
      "\n",
      "EPOCH 43\n",
      " Train loss: 0.34534\n",
      "   Val loss: 0.45286\n",
      "\n",
      "EPOCH 44\n",
      " Train loss: 0.34480\n",
      "   Val loss: 0.44995\n",
      "\n",
      "EPOCH 45\n",
      " Train loss: 0.34561\n",
      "   Val loss: 0.45235\n",
      "\n",
      "EPOCH 46\n",
      " Train loss: 0.34148\n",
      "   Val loss: 0.47302\n",
      "\n",
      "EPOCH 47\n",
      " Train loss: 0.34363\n",
      "   Val loss: 0.46556\n",
      "\n",
      "EPOCH 48\n",
      " Train loss: 0.33695\n",
      "   Val loss: 0.44160\n",
      "\n",
      "EPOCH 49\n",
      " Train loss: 0.33824\n",
      "   Val loss: 0.46428\n",
      "\n",
      "EPOCH 50\n",
      " Train loss: 0.33956\n",
      "   Val loss: 0.42733\n",
      "\n",
      "EPOCH 51\n",
      " Train loss: 0.33773\n",
      "   Val loss: 0.45354\n",
      "\n",
      "EPOCH 52\n",
      " Train loss: 0.33317\n",
      "   Val loss: 0.44619\n",
      "\n",
      "EPOCH 53\n",
      " Train loss: 0.33326\n",
      "   Val loss: 0.44837\n",
      "\n",
      "EPOCH 54\n",
      " Train loss: 0.33323\n",
      "   Val loss: 0.45944\n",
      "\n",
      "EPOCH 55\n",
      " Train loss: 0.33090\n",
      "   Val loss: 0.46186\n",
      "\n",
      "EPOCH 56\n",
      " Train loss: 0.32731\n",
      "   Val loss: 0.45019\n",
      "\n",
      "EPOCH 57\n",
      " Train loss: 0.33205\n",
      "   Val loss: 0.46113\n",
      "\n",
      "EPOCH 58\n",
      " Train loss: 0.32690\n",
      "   Val loss: 0.48442\n",
      "\n",
      "EPOCH 59\n",
      " Train loss: 0.32700\n",
      "   Val loss: 0.45871\n",
      "\n",
      "EPOCH 60\n",
      " Train loss: 0.32481\n",
      "   Val loss: 0.47542\n",
      "\n",
      "EPOCH 61\n",
      " Train loss: 0.32714\n",
      "   Val loss: 0.46487\n",
      "\n",
      "EPOCH 62\n",
      " Train loss: 0.32658\n",
      "   Val loss: 0.49283\n",
      "\n",
      "EPOCH 63\n",
      " Train loss: 0.32201\n",
      "   Val loss: 0.46599\n",
      "\n",
      "EPOCH 64\n",
      " Train loss: 0.32036\n",
      "   Val loss: 0.46156\n",
      "\n",
      "EPOCH 65\n",
      " Train loss: 0.32463\n",
      "   Val loss: 0.46990\n",
      "\n",
      "EPOCH 66\n",
      " Train loss: 0.32319\n",
      "   Val loss: 0.46447\n",
      "\n",
      "EPOCH 67\n",
      " Train loss: 0.32284\n",
      "   Val loss: 0.44490\n",
      "\n",
      "EPOCH 68\n",
      " Train loss: 0.31807\n",
      "   Val loss: 0.46528\n",
      "\n",
      "EPOCH 69\n",
      " Train loss: 0.32362\n",
      "   Val loss: 0.46117\n",
      "\n",
      "EPOCH 70\n",
      " Train loss: 0.31495\n",
      "   Val loss: 0.47953\n",
      "\n",
      "EPOCH 71\n",
      " Train loss: 0.32026\n",
      "   Val loss: 0.46416\n",
      "\n",
      "EPOCH 72\n",
      " Train loss: 0.31576\n",
      "   Val loss: 0.46889\n",
      "\n",
      "EPOCH 73\n",
      " Train loss: 0.31703\n",
      "   Val loss: 0.48779\n",
      "\n",
      "EPOCH 74\n",
      " Train loss: 0.31157\n",
      "   Val loss: 0.47790\n",
      "\n",
      "EPOCH 75\n",
      " Train loss: 0.31481\n",
      "   Val loss: 0.46899\n",
      "\n",
      "EPOCH 76\n",
      " Train loss: 0.31213\n",
      "   Val loss: 0.47178\n",
      "\n",
      "EPOCH 77\n",
      " Train loss: 0.31126\n",
      "   Val loss: 0.47744\n",
      "\n",
      "EPOCH 78\n",
      " Train loss: 0.31351\n",
      "   Val loss: 0.45900\n",
      "\n",
      "EPOCH 79\n",
      " Train loss: 0.31276\n",
      "   Val loss: 0.45929\n",
      "\n",
      "EPOCH 80\n",
      " Train loss: 0.31000\n",
      "   Val loss: 0.45762\n",
      "\n",
      "EPOCH 81\n",
      " Train loss: 0.31024\n",
      "   Val loss: 0.46523\n",
      "\n",
      "EPOCH 82\n",
      " Train loss: 0.31487\n",
      "   Val loss: 0.48882\n",
      "\n",
      "EPOCH 83\n",
      " Train loss: 0.30731\n",
      "   Val loss: 0.48501\n",
      "\n",
      "EPOCH 84\n",
      " Train loss: 0.31172\n",
      "   Val loss: 0.46450\n",
      "\n",
      "EPOCH 85\n",
      " Train loss: 0.31055\n",
      "   Val loss: 0.48032\n",
      "\n",
      "EPOCH 86\n",
      " Train loss: 0.30783\n",
      "   Val loss: 0.47788\n",
      "\n",
      "EPOCH 87\n",
      " Train loss: 0.30257\n",
      "   Val loss: 0.45126\n",
      "\n",
      "EPOCH 88\n",
      " Train loss: 0.30453\n",
      "   Val loss: 0.48413\n",
      "\n",
      "EPOCH 89\n",
      " Train loss: 0.30658\n",
      "   Val loss: 0.47789\n",
      "\n",
      "EPOCH 90\n",
      " Train loss: 0.30388\n",
      "   Val loss: 0.46057\n",
      "\n",
      "EPOCH 91\n",
      " Train loss: 0.30228\n",
      "   Val loss: 0.48137\n",
      "\n",
      "EPOCH 92\n",
      " Train loss: 0.30222\n",
      "   Val loss: 0.49544\n",
      "\n",
      "EPOCH 93\n",
      " Train loss: 0.30074\n",
      "   Val loss: 0.47542\n",
      "\n",
      "EPOCH 94\n",
      " Train loss: 0.30238\n",
      "   Val loss: 0.46019\n",
      "\n",
      "EPOCH 95\n",
      " Train loss: 0.30465\n",
      "   Val loss: 0.46551\n",
      "\n",
      "EPOCH 96\n",
      " Train loss: 0.30132\n",
      "   Val loss: 0.49394\n",
      "\n",
      "EPOCH 97\n",
      " Train loss: 0.29961\n",
      "   Val loss: 0.46133\n",
      "\n",
      "EPOCH 98\n",
      " Train loss: 0.30020\n",
      "   Val loss: 0.48145\n",
      "\n",
      "EPOCH 99\n",
      " Train loss: 0.29786\n",
      "   Val loss: 0.48305\n",
      "\n",
      "Test accuracy: 88.450\n"
     ]
    }
   ],
   "source": [
    "# Instantiate the model, criterion, and optimizer\n",
    "regmodel = regularized_fashionMLP()\n",
    "criterion = nn.CrossEntropyLoss()\n",
    "optimizer = torch.optim.Adam(regmodel.parameters(), lr=1e-3)\n",
    "\n",
    "# Train the model\n",
    "train_network(regmodel, train_loader, val_loader, criterion, optimizer, 100)\n",
    "\n",
    "regmodel.eval() # disables some regularization methods for model testing\n",
    "\n",
    "# Report test accuracy\n",
    "acc, true, pred = test_network(regmodel, test_loader, \"Test\")"
   ]
  }
 ],
 "metadata": {
  "kernelspec": {
   "display_name": "Python 3 (ipykernel)",
   "language": "python",
   "name": "python3"
  },
  "language_info": {
   "codemirror_mode": {
    "name": "ipython",
    "version": 3
   },
   "file_extension": ".py",
   "mimetype": "text/x-python",
   "name": "python",
   "nbconvert_exporter": "python",
   "pygments_lexer": "ipython3",
   "version": "3.10.8"
  },
  "toc": {
   "base_numbering": 1,
   "nav_menu": {},
   "number_sections": true,
   "sideBar": true,
   "skip_h1_title": false,
   "title_cell": "Table of Contents",
   "title_sidebar": "Contents",
   "toc_cell": false,
   "toc_position": {},
   "toc_section_display": true,
   "toc_window_display": false
  },
  "vscode": {
   "interpreter": {
    "hash": "5d6a1b1be9f606a70b17bca14d5045207e02cc9e15541f11a1b290b803a868dd"
   }
  }
 },
 "nbformat": 4,
 "nbformat_minor": 5
}
