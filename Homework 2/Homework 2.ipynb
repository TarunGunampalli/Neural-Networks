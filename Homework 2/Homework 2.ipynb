{
 "cells": [
  {
   "cell_type": "code",
   "execution_count": null,
   "id": "721ec541",
   "metadata": {},
   "outputs": [],
   "source": []
  },
  {
   "cell_type": "raw",
   "id": "ad0f3596",
   "metadata": {},
   "source": [
    "# CS 342 Homework 2 - Convolutional Neural Networks\n",
    "\n",
    "Welcome to your second homework for CS 342! This problem set covers Convolutional Neural Networks. There are three main problems with several sub-questions each. For coding questions, fill in the missing parts (usually denoted `...`). For theoretical questions, write the most succinct possible answer in the provided markdown block. Please answer all questions in-line, being as brief and precise as possible. You will not need any libraries that aren't already imported here. This code can be run on your local machine.\n",
    "\n",
    "Please follow <a href=\"https://pytorch.org\">these instructions</a> to install pytorch.\n",
    "\n",
    "Submission: Upload your jupyter notebook on canvas.\n",
    "\n",
    "Good luck!"
   ]
  },
  {
   "cell_type": "markdown",
   "id": "c154dc03",
   "metadata": {},
   "source": [
    "Enter your name and EID in the following block:"
   ]
  },
  {
   "cell_type": "markdown",
   "id": "a17cf8c2",
   "metadata": {},
   "source": [
    "Tarun Gunampalli - tg25522"
   ]
  },
  {
   "cell_type": "markdown",
   "id": "8948051e",
   "metadata": {},
   "source": [
    "If you worked with anyone on this homework, please list them below:"
   ]
  },
  {
   "cell_type": "markdown",
   "id": "06a1bfb5",
   "metadata": {},
   "source": [
    "Kunal Dhawan  \n",
    "Aten Kumar"
   ]
  },
  {
   "cell_type": "code",
   "execution_count": 67,
   "id": "bb308fba",
   "metadata": {},
   "outputs": [],
   "source": [
    "# !pip install tqdm\n",
    "# !pip install ipywidgets\n",
    "# !pip install ipywidgets widgetsnbextension pandas-profiling\n",
    "# !jupyter nbextension enable --py widgetsnbextension"
   ]
  },
  {
   "cell_type": "code",
   "execution_count": 2,
   "id": "56a77e25",
   "metadata": {
    "ExecuteTime": {
     "end_time": "2022-02-23T05:46:08.876471Z",
     "start_time": "2022-02-23T05:46:08.367373Z"
    }
   },
   "outputs": [],
   "source": [
    "# Run these two blocks to load important libraries and set things up\n",
    "import torch\n",
    "from torch import nn\n",
    "import numpy as np\n",
    "\n",
    "%matplotlib inline\n",
    "import matplotlib.pyplot as plt"
   ]
  },
  {
   "cell_type": "code",
   "execution_count": 3,
   "id": "3f184e87",
   "metadata": {
    "ExecuteTime": {
     "end_time": "2022-02-23T05:46:08.923145Z",
     "start_time": "2022-02-23T05:46:08.915511Z"
    }
   },
   "outputs": [],
   "source": [
    "seed = 42\n",
    "\n",
    "np.random.seed(seed)\n",
    "torch.manual_seed(seed)\n",
    "torch.cuda.manual_seed_all(seed)\n",
    "torch.cuda.manual_seed(seed)\n",
    "torch.backends.cudnn.benchmark = False\n",
    "torch.backends.cudnn.deterministic = True\n",
    "torch.set_default_tensor_type(torch.FloatTensor)"
   ]
  },
  {
   "cell_type": "markdown",
   "id": "33930ea1",
   "metadata": {},
   "source": [
    "## Problem 1. Training CNNs on the Fashion MNIST dataset (22 pts)\n",
    "\n",
    "In this problem, we will build CNNs on a freely available vision dataset, <a href=\"https://github.com/zalandoresearch/fashion-mnist\">Fashion-MNIST</a>. We have explored this dataset with an MLP architecture and will now try CNNs.\n",
    "\n",
    "You might recollect that Fashion MNIST consists of many 28x28 grayscale images belonging to 10 different classes of clothing. The task is to train a classifier that can predict the clothing class from the image.\n",
    "\n",
    "Since several of the steps follow from your work on HW1, you can fill in the misisng pieces much like last time."
   ]
  },
  {
   "cell_type": "code",
   "execution_count": 4,
   "id": "29d3c71b",
   "metadata": {
    "ExecuteTime": {
     "end_time": "2022-02-18T05:01:45.091340Z",
     "start_time": "2022-02-18T05:01:45.083102Z"
    }
   },
   "outputs": [],
   "source": [
    "seed = 42\n",
    "\n",
    "np.random.seed(seed)\n",
    "torch.manual_seed(seed)\n",
    "torch.cuda.manual_seed_all(seed)\n",
    "torch.cuda.manual_seed(seed)\n",
    "torch.backends.cudnn.benchmark = False\n",
    "torch.backends.cudnn.deterministic = True"
   ]
  },
  {
   "cell_type": "code",
   "execution_count": 5,
   "id": "01b76859",
   "metadata": {
    "ExecuteTime": {
     "end_time": "2022-02-18T05:01:54.235278Z",
     "start_time": "2022-02-18T05:01:53.872351Z"
    }
   },
   "outputs": [
    {
     "name": "stdout",
     "output_type": "stream",
     "text": [
      "Dataset FashionMNIST\n",
      "    Number of datapoints: 60000\n",
      "    Root location: fashionMNIST_data\n",
      "    Split: Train\n",
      "    StandardTransform\n",
      "Transform: ToTensor()\n",
      "Dataset FashionMNIST\n",
      "    Number of datapoints: 10000\n",
      "    Root location: fashionMNIST_data\n",
      "    Split: Test\n",
      "    StandardTransform\n",
      "Transform: ToTensor()\n"
     ]
    }
   ],
   "source": [
    "from torchvision import datasets, transforms\n",
    "\n",
    "save_dir = 'fashionMNIST_data'\n",
    "\n",
    "transform = transforms.ToTensor() # Convert the image into a torch tensor.\n",
    "\n",
    "train_set = datasets.FashionMNIST(save_dir, download=True, train=True, transform=transform)\n",
    "test_set = datasets.FashionMNIST(save_dir, download=True, train=False, transform=transform)\n",
    "\n",
    "print(train_set)\n",
    "print(test_set)"
   ]
  },
  {
   "cell_type": "markdown",
   "id": "6bd6e8db",
   "metadata": {},
   "source": [
    "Each of these sets comprises of the image `data` and the clasification `targets`. The `targets` take a numerical value from 1-10 indicating which clothing class each image belongs to."
   ]
  },
  {
   "cell_type": "markdown",
   "id": "a62a68c1",
   "metadata": {},
   "source": [
    "Since the original data does not have a validation set, let's (once again) create one by splitting the training set."
   ]
  },
  {
   "cell_type": "code",
   "execution_count": 93,
   "id": "75073bc5",
   "metadata": {
    "ExecuteTime": {
     "end_time": "2022-02-18T05:02:35.429323Z",
     "start_time": "2022-02-18T05:02:35.401409Z"
    }
   },
   "outputs": [],
   "source": [
    "from torch.utils.data.sampler import SubsetRandomSampler\n",
    "ntotal = 60000\n",
    "ntrain = int(0.9*ntotal)\n",
    "nval = ntotal - ntrain\n",
    "\n",
    "val_ix = np.random.choice(range(ntotal), size=nval, replace=False)\n",
    "train_ix = list(set(range(ntotal)) - set(val_ix))\n",
    "\n",
    "train_sampler = SubsetRandomSampler(train_ix)\n",
    "val_sampler = SubsetRandomSampler(val_ix)"
   ]
  },
  {
   "cell_type": "markdown",
   "id": "d2765b68",
   "metadata": {},
   "source": [
    "### Q 1.1: Initialize the train, val and test dataloaders with the given `batch_size` (1 pt)"
   ]
  },
  {
   "cell_type": "code",
   "execution_count": 94,
   "id": "0c3b5bc4",
   "metadata": {},
   "outputs": [],
   "source": [
    "batch_size = 64\n",
    "train_loader = torch.utils.data.DataLoader(train_set, batch_size, sampler=train_sampler)\n",
    "val_loader = torch.utils.data.DataLoader(train_set, batch_size, sampler=val_sampler)\n",
    "test_loader = torch.utils.data.DataLoader(test_set, batch_size)"
   ]
  },
  {
   "cell_type": "markdown",
   "id": "9ad20723",
   "metadata": {},
   "source": [
    "Each loader iterates over the data, yielding `batch_size` images and output targets per iteration."
   ]
  },
  {
   "cell_type": "markdown",
   "id": "57c3c84f",
   "metadata": {},
   "source": [
    "### Q 1.2: Initialize a CNN with 2-D convolution layer(s), max pooling and finally, fully-connected layer(s). You can add any non-linearity of your choice and use >=1 layer of each type overall. (4 pts)\n",
    "\n",
    "We have provided the skeleton class definition below. Complete it by specifying the layer objects in your CNN. Keep in mind that the input `x` is of shape (`batch_size`, 1, 28, 28). Unlike the MLP, you do not have to flatten it to feed it into the model. Additionally, the output should be of shape (`batch_size`, 10) as we have 10 classes."
   ]
  },
  {
   "cell_type": "code",
   "execution_count": 95,
   "id": "b52de04e",
   "metadata": {},
   "outputs": [],
   "source": [
    "class fashionMLP(nn.Module):\n",
    "    def __init__(self):        \n",
    "        super().__init__()\n",
    "        self.layers = nn.Sequential(\n",
    "            nn.Conv2d(in_channels=1, out_channels=16, kernel_size=4, padding='same'),\n",
    "            nn.GELU(),\n",
    "            nn.MaxPool2d(kernel_size=4),\n",
    "            \n",
    "            nn.Conv2d(in_channels=16, out_channels=32, kernel_size=4),\n",
    "            nn.GELU(),\n",
    "            nn.MaxPool2d(kernel_size=4),\n",
    "            \n",
    "            nn.Flatten(),\n",
    "            \n",
    "            nn.Linear(32, 8),\n",
    "            nn.GELU(),\n",
    "            \n",
    "            nn.Linear(8, 10, bias=False),\n",
    "        )\n",
    "\n",
    "    def forward(self, x):\n",
    "        x = self.layers(x)\n",
    "        return x"
   ]
  },
  {
   "cell_type": "markdown",
   "id": "a477ba00",
   "metadata": {},
   "source": [
    "Tip: An easy way to check if you got the dimensions right is to test your model on a single batch. Iteratively add each layer transformation to the input, and ensure the shape is right at each stage."
   ]
  },
  {
   "cell_type": "code",
   "execution_count": 96,
   "id": "8fa59a0c",
   "metadata": {
    "ExecuteTime": {
     "end_time": "2022-02-18T05:29:00.097342Z",
     "start_time": "2022-02-18T05:29:00.095068Z"
    }
   },
   "outputs": [
    {
     "name": "stdout",
     "output_type": "stream",
     "text": [
      "torch.Size([64, 1, 28, 28]) torch.Size([64])\n",
      "torch.Size([64, 10])\n"
     ]
    },
    {
     "name": "stderr",
     "output_type": "stream",
     "text": [
      "C:\\Users\\tarun\\miniconda3\\envs\\CS-342\\lib\\site-packages\\torch\\nn\\modules\\conv.py:459: UserWarning: Using padding='same' with even kernel lengths and odd dilation may require a zero-padded copy of the input be created (Triggered internally at C:\\cb\\pytorch_1000000000000\\work\\aten\\src\\ATen\\native\\Convolution.cpp:896.)\n",
      "  return F.conv2d(input, weight, bias, self.stride,\n"
     ]
    }
   ],
   "source": [
    "for images, labels in train_loader:\n",
    "    print(images.shape, labels.shape)\n",
    "#     break\n",
    "    model = fashionMLP()\n",
    "    outputs = model(images)\n",
    "    print(outputs.shape)\n",
    "    break"
   ]
  },
  {
   "cell_type": "markdown",
   "id": "1472d110",
   "metadata": {},
   "source": [
    "### Q 1.3: Define `criterion` to be the cross entropy loss function and use an optimizer of your choice (2 pts)"
   ]
  },
  {
   "cell_type": "code",
   "execution_count": 97,
   "id": "a155b927",
   "metadata": {
    "ExecuteTime": {
     "end_time": "2022-02-18T05:29:01.148897Z",
     "start_time": "2022-02-18T05:29:01.145236Z"
    }
   },
   "outputs": [],
   "source": [
    "model = fashionMLP()\n",
    "criterion = nn.CrossEntropyLoss()\n",
    "optimizer = torch.optim.Adam(model.parameters(), lr=6e-3)"
   ]
  },
  {
   "cell_type": "markdown",
   "id": "6cfadf71",
   "metadata": {},
   "source": [
    "### Q 1.4: Complete the training, validation and testing loops (5 pts)"
   ]
  },
  {
   "cell_type": "code",
   "execution_count": 146,
   "id": "67eb9bc5",
   "metadata": {
    "ExecuteTime": {
     "end_time": "2022-02-18T05:29:04.258161Z",
     "start_time": "2022-02-18T05:29:04.251130Z"
    }
   },
   "outputs": [],
   "source": [
    "from tqdm.notebook import tqdm\n",
    "import torch.nn.functional as F\n",
    "\n",
    "def train_network(model, train_loader, val_loader, criterion, optimizer, nepoch=100):\n",
    "    try:\n",
    "        val_losses = []\n",
    "        early_exit_thresh = 1.075\n",
    "        stop_training = False\n",
    "        for epoch in tqdm(range(nepoch)):\n",
    "            print('EPOCH %d'%epoch)\n",
    "            total_loss = 0\n",
    "            count = 0\n",
    "            for inputs, labels in train_loader:\n",
    "                optimizer.zero_grad()\n",
    "                outputs = model.forward(inputs)\n",
    "                loss = criterion(outputs, labels)\n",
    "                loss.backward()\n",
    "                optimizer.step()\n",
    "                total_loss += loss.item()\n",
    "                count += 1\n",
    "            print('{:>12s} {:>7.5f}'.format('Train loss:', total_loss/count))\n",
    "            with torch.no_grad():\n",
    "                total_loss = 0\n",
    "                count = 0\n",
    "                for inputs, labels in val_loader:\n",
    "                    outputs = model(inputs)\n",
    "                    loss = criterion(outputs, labels)\n",
    "                    total_loss += loss.item()\n",
    "                    count += 1\n",
    "                val_loss = total_loss/count\n",
    "                val_losses.append(val_loss)\n",
    "                # early exit strategy\n",
    "                if len(val_losses) > 3 and (min(val_losses[-3:]) > (min(val_losses) * early_exit_thresh) or min(val_losses[-6:]) > min(val_losses)):\n",
    "                    stop_training = True\n",
    "                print('{:>12s} {:>7.5f}'.format('Val loss:', val_loss))\n",
    "            print()\n",
    "            if stop_training:\n",
    "                break\n",
    "    except KeyboardInterrupt:\n",
    "        print('Exiting from training early')\n",
    "    return\n",
    "\n",
    "def test_network(model, test_loader, mode):\n",
    "    correct = 0\n",
    "    total = 0\n",
    "    true, pred = [], []\n",
    "    with torch.no_grad():\n",
    "        for inputs, labels  in test_loader:\n",
    "            outputs = model(inputs)\n",
    "            predicted = torch.max(outputs, dim=1).indices # get predicted class label for each test example.\n",
    "            total += labels.size(0)\n",
    "            correct += (predicted == labels).sum().item()\n",
    "            true.append(labels)\n",
    "            pred.append(predicted)\n",
    "    acc = (100 * correct / total)\n",
    "    print('%s accuracy: %0.3f' % (mode, acc))\n",
    "    true = np.concatenate(true)\n",
    "    pred = np.concatenate(pred)\n",
    "    return acc, true, pred"
   ]
  },
  {
   "cell_type": "markdown",
   "id": "3ad0e136",
   "metadata": {
    "ExecuteTime": {
     "end_time": "2022-02-01T16:21:58.510967Z",
     "start_time": "2022-02-01T16:21:58.505264Z"
    }
   },
   "source": [
    "### Q 1.5: Train the network and report the final test accuracy of your model (2 pts)\n",
    "Use the functions `train_network` and `test_network` defined above."
   ]
  },
  {
   "cell_type": "code",
   "execution_count": 35,
   "id": "486e6455",
   "metadata": {
    "ExecuteTime": {
     "end_time": "2022-02-18T05:29:06.005651Z",
     "start_time": "2022-02-18T05:29:06.000862Z"
    },
    "scrolled": true
   },
   "outputs": [
    {
     "data": {
      "application/vnd.jupyter.widget-view+json": {
       "model_id": "cf33caa3537b44638b957000937eec83",
       "version_major": 2,
       "version_minor": 0
      },
      "text/plain": [
       "  0%|          | 0/50 [00:00<?, ?it/s]"
      ]
     },
     "metadata": {},
     "output_type": "display_data"
    },
    {
     "name": "stdout",
     "output_type": "stream",
     "text": [
      "EPOCH 0\n",
      " Train loss: 0.59101\n",
      "   Val loss: 0.41236\n",
      "\n",
      "EPOCH 1\n",
      " Train loss: 0.38987\n",
      "   Val loss: 0.35700\n",
      "\n",
      "EPOCH 2\n",
      " Train loss: 0.34644\n",
      "   Val loss: 0.34271\n",
      "\n",
      "EPOCH 3\n",
      " Train loss: 0.31988\n",
      "   Val loss: 0.34694\n",
      "\n",
      "EPOCH 4\n",
      " Train loss: 0.29817\n",
      "   Val loss: 0.30530\n",
      "\n",
      "EPOCH 5\n",
      " Train loss: 0.28641\n",
      "   Val loss: 0.29054\n",
      "\n",
      "EPOCH 6\n",
      " Train loss: 0.27452\n",
      "   Val loss: 0.29355\n",
      "\n",
      "EPOCH 7\n",
      " Train loss: 0.26526\n",
      "   Val loss: 0.29418\n",
      "\n",
      "EPOCH 8\n",
      " Train loss: 0.26058\n",
      "   Val loss: 0.26307\n",
      "\n",
      "EPOCH 9\n",
      " Train loss: 0.24913\n",
      "   Val loss: 0.29423\n",
      "\n",
      "EPOCH 10\n",
      " Train loss: 0.24480\n",
      "   Val loss: 0.27849\n",
      "\n",
      "EPOCH 11\n",
      " Train loss: 0.24036\n",
      "   Val loss: 0.29538\n",
      "\n",
      "EPOCH 12\n",
      " Train loss: 0.23439\n",
      "   Val loss: 0.30999\n",
      "\n",
      "EPOCH 13\n",
      " Train loss: 0.23061\n",
      "   Val loss: 0.28617\n",
      "\n",
      "Test accuracy: 88.890\n"
     ]
    }
   ],
   "source": [
    "train_network(model, train_loader, val_loader, criterion, optimizer, 50)\n",
    "\n",
    "acc, true, pred = test_network(model, test_loader, \"Test\")"
   ]
  },
  {
   "cell_type": "markdown",
   "id": "ef7feb0a",
   "metadata": {},
   "source": [
    "### Q 1.6: Which class did the model get wrong the most? Which class did it get right the most? (2 pts)"
   ]
  },
  {
   "cell_type": "code",
   "execution_count": 38,
   "id": "1b2fe238",
   "metadata": {},
   "outputs": [
    {
     "data": {
      "text/plain": [
       "[('Shirt', 0.719),\n",
       " ('Pullover', 0.809),\n",
       " ('T-shirt/top', 0.815),\n",
       " ('Coat', 0.868),\n",
       " ('Dress', 0.884),\n",
       " ('Sneaker', 0.902),\n",
       " ('Sandal', 0.962),\n",
       " ('Trouser', 0.97),\n",
       " ('Bag', 0.976),\n",
       " ('Ankle boot', 0.984)]"
      ]
     },
     "execution_count": 38,
     "metadata": {},
     "output_type": "execute_result"
    }
   ],
   "source": [
    "classes = train_set.classes\n",
    "num_classes = len(classes)\n",
    "\n",
    "totals = [0] * num_classes\n",
    "right = [0] * num_classes\n",
    "for i in range(len(true)):\n",
    "    c = true[i]\n",
    "    totals[c] += 1\n",
    "    if true[i] == pred[i]:\n",
    "        right[c] += 1\n",
    "\n",
    "class_accuracies = {c: 0 for c in classes}\n",
    "for i in range(num_classes):\n",
    "    class_accuracies[classes[i]] = right[i] / totals[i]\n",
    "    \n",
    "sorted(class_accuracies.items(), key=lambda x:x[1])"
   ]
  },
  {
   "cell_type": "markdown",
   "id": "ea29259c",
   "metadata": {},
   "source": [
    "The model got t-shirts and shirts wrong the most, and it got trousers, bags, and sneakers correct the most."
   ]
  },
  {
   "cell_type": "markdown",
   "id": "d40367ae",
   "metadata": {},
   "source": [
    "### Q 1.7: Add any regularization method of your choice (or more than one!), and report the final test accuracy (4 pts)\n",
    " You should be able to get accuracy > 90%."
   ]
  },
  {
   "cell_type": "code",
   "execution_count": 39,
   "id": "bbbaee72",
   "metadata": {},
   "outputs": [],
   "source": [
    "class regularized_fashionMLP(nn.Module):\n",
    "    def __init__(self):\n",
    "        kernel_size = 3\n",
    "        output_dim = 10\n",
    "        \n",
    "        super().__init__()\n",
    "        self.layers = nn.Sequential(\n",
    "            nn.Conv2d(1, 32, kernel_size, padding=1),\n",
    "            nn.GELU(),\n",
    "            nn.MaxPool2d(2, 2),\n",
    "            \n",
    "            nn.Conv2d(32, 64, kernel_size),\n",
    "            nn.GELU(),\n",
    "            nn.MaxPool2d(2),\n",
    "            \n",
    "            nn.Flatten(),\n",
    "            nn.Linear(2304, 144),\n",
    "            nn.GELU(),\n",
    "            \n",
    "            nn.Dropout(0.2),\n",
    "            nn.Linear(144, 24),\n",
    "            nn.GELU(),\n",
    "            \n",
    "            nn.Dropout(0.3),\n",
    "            nn.Linear(24, output_dim, bias=False),\n",
    "        )\n",
    "\n",
    "    def forward(self, x):\n",
    "        x = self.layers(x)\n",
    "        return x"
   ]
  },
  {
   "cell_type": "code",
   "execution_count": 41,
   "id": "8c9364b7",
   "metadata": {},
   "outputs": [
    {
     "data": {
      "application/vnd.jupyter.widget-view+json": {
       "model_id": "e0868b85b32f42ab92fa4252552a83cd",
       "version_major": 2,
       "version_minor": 0
      },
      "text/plain": [
       "  0%|          | 0/50 [00:00<?, ?it/s]"
      ]
     },
     "metadata": {},
     "output_type": "display_data"
    },
    {
     "name": "stdout",
     "output_type": "stream",
     "text": [
      "EPOCH 0\n",
      " Train loss: 0.57150\n",
      "   Val loss: 0.40948\n",
      "\n",
      "EPOCH 1\n",
      " Train loss: 0.40545\n",
      "   Val loss: 0.40345\n",
      "\n",
      "EPOCH 2\n",
      " Train loss: 0.36396\n",
      "   Val loss: 0.40298\n",
      "\n",
      "EPOCH 3\n",
      " Train loss: 0.33717\n",
      "   Val loss: 0.36704\n",
      "\n",
      "EPOCH 4\n",
      " Train loss: 0.31793\n",
      "   Val loss: 0.36769\n",
      "\n",
      "EPOCH 5\n",
      " Train loss: 0.30375\n",
      "   Val loss: 0.37817\n",
      "\n",
      "EPOCH 6\n",
      " Train loss: 0.30367\n",
      "   Val loss: 0.35890\n",
      "\n",
      "EPOCH 7\n",
      " Train loss: 0.28241\n",
      "   Val loss: 0.36964\n",
      "\n",
      "EPOCH 8\n",
      " Train loss: 0.28122\n",
      "   Val loss: 0.37805\n",
      "\n",
      "EPOCH 9\n",
      " Train loss: 0.26992\n",
      "   Val loss: 0.42318\n",
      "\n",
      "EPOCH 10\n",
      " Train loss: 0.26890\n",
      "   Val loss: 0.39533\n",
      "\n",
      "EPOCH 11\n",
      " Train loss: 0.25646\n",
      "   Val loss: 0.36676\n",
      "\n",
      "EPOCH 12\n",
      " Train loss: 0.25682\n",
      "   Val loss: 0.37677\n",
      "\n",
      "Test accuracy: 90.270\n"
     ]
    }
   ],
   "source": [
    "# Instantiate the model, criterion, and optimizer\n",
    "regmodel = regularized_fashionMLP()\n",
    "criterion = nn.CrossEntropyLoss()\n",
    "optimizer = torch.optim.Adam(regmodel.parameters(), lr=6e-3)\n",
    "\n",
    "# Train the model\n",
    "train_network(regmodel, train_loader, val_loader, criterion, optimizer, 50)\n",
    "\n",
    "regmodel.eval() # disables some regularization methods for model testing\n",
    "\n",
    "# Report test accuracy\n",
    "acc, true, pred = test_network(regmodel, test_loader, \"Test\")"
   ]
  },
  {
   "cell_type": "markdown",
   "id": "2f058b20",
   "metadata": {},
   "source": [
    "### Q 1.8: Visualize learned kernels from first layer of your CNN (2 pts)\n",
    "\n",
    "You can either plot them separately (i.e. each as one panel in a plot) or stack them together into a single array. In either case, use matplotlib `imshow` or `matshow` to make an image of each kernel."
   ]
  },
  {
   "cell_type": "code",
   "execution_count": 42,
   "id": "3680e5f0",
   "metadata": {},
   "outputs": [
    {
     "data": {
      "image/png": "[encoded data removed]",
      "text/plain": [
       "<Figure size 1296x720 with 32 Axes>"
      ]
     },
     "metadata": {
      "needs_background": "light"
     },
     "output_type": "display_data"
    }
   ],
   "source": [
    "# first, extract the weights from the learned model\n",
    "conv1wt = regmodel.layers[0].weight.detach().numpy()\n",
    "# print(conv1wt)\n",
    "# then, visualize them!\n",
    "fig, axes = plt.subplots(4, 8, figsize=(18, 10))\n",
    "for i, ax in enumerate(axes.flat):\n",
    "    ax.imshow(conv1wt[i][0], cmap='gray')"
   ]
  },
  {
   "cell_type": "markdown",
   "id": "e120bbbc",
   "metadata": {},
   "source": [
    "## Problem 2. Training 1-D CNNs for phoneme classification (34 pts)\n",
    "\n",
    "In this problem, we will build CNNs to classify phonemes from speech features. Instead of using the raw audio waveform as the input to a neural network, we can extract relevant features from the power spectrum of the waveform. Since this is not relevant for our exercise, we have precomputed speech features for you on the input waveform. The data comprises different episodes from a podcast _The Moth Radio Hour_ wherein a single speaker narrates a personal story. You can find it in `HW2_phone_class_data`.\n",
    "<br><br>\n",
    "Speech Features: These are 240-D features extracted for every 10ms snippet in a story.\n",
    "<br>\n",
    "Phoneme labels: We give you the raw labels and the associated start and end time of the phoneme.\n",
    "<br><br>\n",
    "Note that the speech features were extracted at a much higher sampling rate than the typical frequency of a phoneme. Consequeently, there are several speech features occuring between the start and end time of a single phoneme. To predict a single phoneme label, we will firstly consider a `window_size` of 10. Next, we will pick the 10 speech features that occurred right before the phoneme ended. For example, consider a hypothetical scenario where a phoneme started at 1:00 min and ended at 3:00 min, and the speech features were collected every 10s. Then, we would extract features at `[3:00 min, 2:50 min, 2:40 min, 2:30 min, 2:20 min, 2:10 min, 2:00 min, 1:50 min, 1:40 min and 1:30 min]`, ie., the last 10 features.\n",
    "<br><br>\n",
    "Next, we will do 1-D convolutions on `[batch_size, 240, 10]` dimensional inputs. Note that `240` here represents the input channels and you want to convolve over the context, ie., the `10` features.\n",
    "\n",
    "Finally, we will use a hidden test set to evaluate your model. In most real-world applications, you don't have access to your test data and its important to not overfit on your validation set. So make sure you do hyperparameter tuning in moderation!"
   ]
  },
  {
   "cell_type": "code",
   "execution_count": 11,
   "id": "b29f9bee",
   "metadata": {
    "ExecuteTime": {
     "end_time": "2022-02-23T05:46:21.980791Z",
     "start_time": "2022-02-23T05:46:21.973662Z"
    }
   },
   "outputs": [],
   "source": [
    "seed = 42\n",
    "\n",
    "np.random.seed(seed)\n",
    "torch.manual_seed(seed)\n",
    "torch.cuda.manual_seed_all(seed)\n",
    "torch.cuda.manual_seed(seed)\n",
    "torch.backends.cudnn.benchmark = False\n",
    "torch.backends.cudnn.deterministic = True"
   ]
  },
  {
   "cell_type": "code",
   "execution_count": 12,
   "id": "a3c32215",
   "metadata": {
    "ExecuteTime": {
     "end_time": "2022-02-23T05:46:23.164379Z",
     "start_time": "2022-02-23T05:46:23.156046Z"
    }
   },
   "outputs": [
    {
     "name": "stdout",
     "output_type": "stream",
     "text": [
      "train\n",
      "['souls' 'wheretheressmoke' 'thatthingonmyarm' 'hangtime' 'adollshouse'\n",
      " 'odetostepfather' 'sloth' 'myfirstdaywiththeyankees' 'buck' 'avatar'\n",
      " 'adventuresinsayingyes' 'exorcism' 'naked' 'haveyoumethimyet'\n",
      " 'stagefright' 'undertheinfluence' 'swimmingwithastronauts' 'itsabox'\n",
      " 'alternateithicatom' 'fromboyhoodtofatherhood']\n",
      "val\n",
      "['theclosetthatateeverything' 'tildeath' 'legacy']\n",
      "23\n"
     ]
    }
   ],
   "source": [
    "# Load the stories in the training and validation set.\n",
    "import pickle\n",
    "with open('HW2_phone_class_data/data_split.pickle', 'rb') as f:\n",
    "    data_split_stories = pickle.load(f)\n",
    "for key in data_split_stories:\n",
    "    print(key)\n",
    "    print(data_split_stories[key])\n",
    "stories = np.concatenate([data_split_stories[key] for key in data_split_stories])\n",
    "print(len(stories))"
   ]
  },
  {
   "cell_type": "code",
   "execution_count": 13,
   "id": "eb2bd5a8",
   "metadata": {
    "ExecuteTime": {
     "end_time": "2022-02-23T05:46:26.051309Z",
     "start_time": "2022-02-23T05:46:23.773336Z"
    }
   },
   "outputs": [
    {
     "name": "stdout",
     "output_type": "stream",
     "text": [
      "souls\n",
      "(72997, 240) (72997,)\n",
      "(6819,) (6819,) (6819,)\n",
      "wheretheressmoke\n",
      "(60191, 240) (60191,)\n",
      "(6068,) (6068,) (6068,)\n",
      "thatthingonmyarm\n",
      "(88875, 240) (88875,)\n",
      "(7080,) (7080,) (7080,)\n",
      "hangtime\n",
      "(66830, 240) (66830,)\n",
      "(6423,) (6423,) (6423,)\n",
      "adollshouse\n",
      "(50353, 240) (50353,)\n",
      "(5412,) (5412,) (5412,)\n",
      "odetostepfather\n",
      "(82808, 240) (82808,)\n",
      "(8334,) (8334,) (8334,)\n",
      "sloth\n",
      "(89497, 240) (89497,)\n",
      "(8595,) (8595,) (8595,)\n",
      "myfirstdaywiththeyankees\n",
      "(73686, 240) (73686,)\n",
      "(8866,) (8866,) (8866,)\n",
      "buck\n",
      "(68498, 240) (68498,)\n",
      "(5455,) (5455,) (5455,)\n",
      "avatar\n",
      "(75423, 240) (75423,)\n",
      "(5171,) (5171,) (5171,)\n",
      "adventuresinsayingyes\n",
      "(80356, 240) (80356,)\n",
      "(7850,) (7850,) (7850,)\n",
      "exorcism\n",
      "(95501, 240) (95501,)\n",
      "(9952,) (9952,) (9952,)\n",
      "naked\n",
      "(86502, 240) (86502,)\n",
      "(10281,) (10281,) (10281,)\n",
      "haveyoumethimyet\n",
      "(101320, 240) (101320,)\n",
      "(10176,) (10176,) (10176,)\n",
      "stagefright\n",
      "(60698, 240) (60698,)\n",
      "(6669,) (6669,) (6669,)\n",
      "undertheinfluence\n",
      "(62772, 240) (62772,)\n",
      "(5932,) (5932,) (5932,)\n",
      "swimmingwithastronauts\n",
      "(79121, 240) (79121,)\n",
      "(7318,) (7318,) (7318,)\n",
      "itsabox\n",
      "(73071, 240) (73071,)\n",
      "(5665,) (5665,) (5665,)\n",
      "alternateithicatom\n",
      "(70666, 240) (70666,)\n",
      "(7531,) (7531,) (7531,)\n",
      "fromboyhoodtofatherhood\n",
      "(71688, 240) (71688,)\n",
      "(8925,) (8925,) (8925,)\n",
      "theclosetthatateeverything\n",
      "(64932, 240) (64932,)\n",
      "(6566,) (6566,) (6566,)\n",
      "tildeath\n",
      "(66740, 240) (66740,)\n",
      "(7716,) (7716,) (7716,)\n",
      "legacy\n",
      "(81997, 240) (81997,)\n",
      "(6773,) (6773,) (6773,)\n"
     ]
    }
   ],
   "source": [
    "# For each story, load the pre-computed speech features and their associated timestamps.\n",
    "# Also load the phoneme transcriptions and the associated start/end times.\n",
    "speech_features, speech_timestamps, phonemes, phoneme_start_times, phoneme_end_times = [{} for _ in range(5)]\n",
    "for story in stories:\n",
    "    LOAD = np.load('HW2_phone_class_data/%s.npz'%story)\n",
    "    speech_features[story] = LOAD['fbank_features']\n",
    "    speech_timestamps[story] = LOAD['fbank_timestamps']\n",
    "    phonemes[story] = LOAD['phonemes']\n",
    "    phoneme_start_times[story] = LOAD['phoneme_start_times']\n",
    "    phoneme_end_times[story] = LOAD['phoneme_end_times']\n",
    "    print(story)\n",
    "    print(speech_features[story].shape, speech_timestamps[story].shape)\n",
    "    print(phonemes[story].shape, phoneme_start_times[story].shape, phoneme_end_times[story].shape)"
   ]
  },
  {
   "cell_type": "markdown",
   "id": "21a4d78a",
   "metadata": {},
   "source": [
    "### Q 2.1 Create classifier target dictionary (2 pts)"
   ]
  },
  {
   "cell_type": "code",
   "execution_count": 14,
   "id": "9c68c352",
   "metadata": {
    "ExecuteTime": {
     "end_time": "2022-02-22T22:54:30.956136Z",
     "start_time": "2022-02-22T22:54:30.947431Z"
    }
   },
   "outputs": [
    {
     "name": "stdout",
     "output_type": "stream",
     "text": [
      "['SIL' 'S' 'AY' 'EY' 'T' 'Y' 'ER' 'HH' 'SP' 'BR ' 'Z' 'AA' 'IY' 'OW' 'R'\n",
      " 'IH' 'BR' 'AO' 'DH' 'M' 'AH' 'B' 'K' 'L' 'W' 'EH' 'N' 'UW' 'OY' 'D' 'CH'\n",
      " 'F' 'NG' 'AE' 'AW' 'SH' 'P' 'TH' 'LG' 'LS' 'G' 'JH' 'V' 'UH' 'NS' 'CG' ''\n",
      " 'SPM' 'AHN' 'SP\\x7f' 'SPAH' 'ZH' '{NS}' '{IG}' '{CG}' 'ST' 'OA' 'OH' 'U'\n",
      " ' IY' ' AY' 'N ' 'A']\n",
      "Number of classes: 63\n"
     ]
    }
   ],
   "source": [
    "# Load the phoneme_classes which are the target of our CNN classifier.\n",
    "phoneme_classes = np.load('HW2_phone_class_data/phoneme_classes.npz')['arr_0']\n",
    "print(phoneme_classes)\n",
    "nclass = len(phoneme_classes)\n",
    "print('Number of classes:', nclass)\n",
    "# Create a dictionary mapping from the phoneme classes to an ID.\n",
    "# For example, if you were builiding a classifier of dog vs. cat,\n",
    "# this could be {'dog': 0, 'cat': 1} and [0, 1] would be your classifier targets.\n",
    "phone2int = {p : i for i, p in enumerate(phoneme_classes)}"
   ]
  },
  {
   "cell_type": "markdown",
   "id": "dc5e94c5",
   "metadata": {},
   "source": [
    "### Q 2.2 Create features and labels by aligning timestamps (4 points)"
   ]
  },
  {
   "cell_type": "code",
   "execution_count": 15,
   "id": "44745878",
   "metadata": {},
   "outputs": [
    {
     "name": "stdout",
     "output_type": "stream",
     "text": [
      "souls\n",
      "(2334,) (2334, 10, 240)\n",
      "wheretheressmoke\n",
      "(1782,) (1782, 10, 240)\n",
      "thatthingonmyarm\n",
      "(3264,) (3264, 10, 240)\n",
      "hangtime\n",
      "(2330,) (2330, 10, 240)\n",
      "adollshouse\n",
      "(1136,) (1136, 10, 240)\n",
      "odetostepfather\n",
      "(2711,) (2711, 10, 240)\n",
      "sloth\n",
      "(2921,) (2921, 10, 240)\n",
      "myfirstdaywiththeyankees\n",
      "(2197,) (2197, 10, 240)\n",
      "buck\n",
      "(1994,) (1994, 10, 240)\n",
      "avatar\n",
      "(2373,) (2373, 10, 240)\n",
      "adventuresinsayingyes\n",
      "(2732,) (2732, 10, 240)\n",
      "exorcism\n",
      "(3210,) (3210, 10, 240)\n",
      "naked\n",
      "(2472,) (2472, 10, 240)\n",
      "haveyoumethimyet\n",
      "(2572,) (2572, 10, 240)\n",
      "stagefright\n",
      "(1900,) (1900, 10, 240)\n",
      "undertheinfluence\n",
      "(1643,) (1643, 10, 240)\n",
      "swimmingwithastronauts\n",
      "(2420,) (2420, 10, 240)\n",
      "itsabox\n",
      "(2109,) (2109, 10, 240)\n",
      "alternateithicatom\n",
      "(2361,) (2361, 10, 240)\n",
      "fromboyhoodtofatherhood\n",
      "(2332,) (2332, 10, 240)\n",
      "theclosetthatateeverything\n",
      "(2027,) (2027, 10, 240)\n",
      "tildeath\n",
      "(1987,) (1987, 10, 240)\n",
      "legacy\n",
      "(2249,) (2249, 10, 240)\n"
     ]
    }
   ],
   "source": [
    "from collections import defaultdict\n",
    "window_size = 10\n",
    "features, labels = defaultdict(list), defaultdict(list)\n",
    "\n",
    "for story in stories:\n",
    "    print(story)\n",
    "    # For each phoneme in the story, store a list of speech timestamps `t`\n",
    "    # such that phoneme_start_time <= t <= phoneme_end_time.\n",
    "    # This is an example of what `phoneme_time_windows` could look like:\n",
    "    # [[0,1,2,5..10], [11,12,..27]...., [10000, 10001, ...10012]]\n",
    "    # In the above example, the first 10 speech features map to the first phoneme,\n",
    "    # features 11-27 match to second phoneme etc..\n",
    "    phoneme_time_windows = [[] for _ in range(len(phonemes[story]))]\n",
    "    for ix in range(len(phonemes[story])):\n",
    "        after_start = speech_timestamps[story] >= phoneme_start_times[story][ix]\n",
    "        before_end = speech_timestamps[story] <= phoneme_end_times[story][ix]\n",
    "        phoneme_time_windows[ix] = np.where(after_start & before_end)[0]\n",
    "    for ix in range(len(phoneme_time_windows)):\n",
    "        phoneme_time_windows[ix] = np.array(phoneme_time_windows[ix])\n",
    "    # Compute and print the average number of speech features that match to 1 phoneme.\n",
    "    # For example, for a story there could on average be 13 features per phoneme.\n",
    "    # Store this value in `ptw_mean_length`. We will compute the difference between your\n",
    "    # variable and our pre-computed values to grade.\n",
    "    ptw_mean_length = sum(len(ptw) for ptw in phoneme_time_windows) / len(phoneme_time_windows)\n",
    "    # Finally, we are going to select the 10 most recent features per phoneme\n",
    "    # and create our dataset.\n",
    "    for ix in range(len(phoneme_time_windows)):\n",
    "        # Discard any data points for which fewer than `window_size` speech features\n",
    "        # map onto the phoneme.\n",
    "        if len(phoneme_time_windows[ix]) < window_size:\n",
    "            continue\n",
    "        ph = phonemes[story][ix].upper().strip(\"0123456789\")\n",
    "        # Append the phoneme class ID.\n",
    "        labels[story].append(phone2int[ph])\n",
    "        # Append the `window_size` most recent features.\n",
    "        # You will have to make use of `phoneme_time_windows` of course to find the labels.\n",
    "        features[story].append(speech_features[story][phoneme_time_windows[ix][-window_size:]])\n",
    "    labels[story]= np.array(labels[story])\n",
    "    features[story] = np.array(features[story])\n",
    "    print(labels[story].shape, features[story].shape)\n",
    "    \n",
    "    # Just making sure everything iss the right shape!\n",
    "    assert not np.any(np.isnan(features[story])), story\n",
    "    assert labels[story].shape[0] == features[story].shape[0]\n",
    "    assert np.all(features[story].shape[1:] == (window_size, 240))"
   ]
  },
  {
   "cell_type": "markdown",
   "id": "6611688f",
   "metadata": {},
   "source": [
    "### Q 2.3 Set up the dataloaders (2 points)"
   ]
  },
  {
   "cell_type": "code",
   "execution_count": 16,
   "id": "9dcbe33b",
   "metadata": {
    "ExecuteTime": {
     "end_time": "2022-02-23T00:59:57.063867Z",
     "start_time": "2022-02-23T00:59:57.045915Z"
    }
   },
   "outputs": [
    {
     "name": "stdout",
     "output_type": "stream",
     "text": [
      "(46793, 240, 10) (46793,)\n",
      "(6263, 240, 10) (6263,)\n"
     ]
    }
   ],
   "source": [
    "batch_size = 1024\n",
    "\n",
    "# Stack all the speech features of the training set stories.\n",
    "# It is recommended to swap the 240-D and 10-D axes to make the convolution easier.\n",
    "train_feats = [features[story] for story in data_split_stories['train']]\n",
    "train_feats = np.transpose(np.vstack(train_feats), (0, 2, 1))\n",
    "# Stack all the phoneme labels of the training set stories.\n",
    "train_labels = [labels[story] for story in data_split_stories['train']]\n",
    "train_labels = np.hstack(train_labels)\n",
    "print(train_feats.shape, train_labels.shape)\n",
    "train_dataset = torch.utils.data.TensorDataset(torch.tensor(train_feats), torch.tensor(train_labels).type(torch.LongTensor))\n",
    "train_loader = torch.utils.data.DataLoader(train_dataset, batch_size)\n",
    "\n",
    "# Repeat the process for the validation set.\n",
    "val_feats = [features[story] for story in data_split_stories['val']]\n",
    "val_feats = np.transpose(np.vstack(val_feats), (0, 2, 1))\n",
    "val_labels = [labels[story] for story in data_split_stories['val']]\n",
    "val_labels = np.hstack(val_labels)\n",
    "print(val_feats.shape, val_labels.shape)\n",
    "val_dataset = torch.utils.data.TensorDataset(torch.tensor(val_feats), torch.tensor(val_labels).type(torch.LongTensor))\n",
    "val_loader = torch.utils.data.DataLoader(val_dataset, batch_size)\n",
    "\n",
    "### NOTE: It is super important that you double check your array shapes."
   ]
  },
  {
   "cell_type": "markdown",
   "id": "678d2814",
   "metadata": {},
   "source": [
    "### Q 2.4 Set up the training function. Note that this is identical to the FashionMNIST question (3 points)"
   ]
  },
  {
   "cell_type": "code",
   "execution_count": 17,
   "id": "119266cb",
   "metadata": {},
   "outputs": [],
   "source": [
    "from tqdm.notebook import tqdm\n",
    "import torch.nn.functional as F\n",
    "\n",
    "def train_network(model, train_loader, val_loader, criterion, optimizer, nepoch=100):\n",
    "    try:\n",
    "        val_losses = []\n",
    "        early_exit_thresh = 1.01\n",
    "        stop_training = False\n",
    "        for epoch in tqdm(range(nepoch)):\n",
    "            print('EPOCH %d'%epoch)\n",
    "            total_loss = 0\n",
    "            count = 0\n",
    "            for inputs, labels in train_loader:\n",
    "                optimizer.zero_grad()\n",
    "                outputs = model.forward(inputs)\n",
    "                loss = criterion(outputs, labels)\n",
    "                loss.backward()\n",
    "                optimizer.step()\n",
    "                total_loss += loss.item()\n",
    "                count += 1\n",
    "            print('{:>12s} {:>7.5f}'.format('Train loss:', total_loss/count))\n",
    "            with torch.no_grad():\n",
    "                total_loss = 0\n",
    "                count = 0\n",
    "                for inputs, labels in val_loader:\n",
    "                    outputs = model(inputs)\n",
    "                    loss = criterion(outputs, labels)\n",
    "                    total_loss += loss.item()\n",
    "                    count += 1\n",
    "                val_loss = total_loss/count\n",
    "                print('{:>12s} {:>7.5f}'.format('Val loss:', val_loss))\n",
    "                val_losses.append(val_loss)\n",
    "                # early exit strategy\n",
    "                if len(val_losses) > 3 and (min(val_losses[-6:]) > (min(val_losses) * early_exit_thresh) or min(val_losses[-12:]) > min(val_losses)):\n",
    "                    stop_training = True\n",
    "                    print('Early exitting due to increasing/stagnant validation loss')\n",
    "            print()\n",
    "            # early exit\n",
    "            if stop_training:\n",
    "                break\n",
    "    except KeyboardInterrupt:\n",
    "        print('Exiting from training early')\n",
    "    return"
   ]
  },
  {
   "cell_type": "markdown",
   "id": "8c0f7b3e",
   "metadata": {},
   "source": [
    "### Q 2.5 Define your CNN architecture. (3 points)\n",
    "\n",
    "- Make sure to use at least two 1-D convolution layers followed by at least one fully connected layers.\n",
    "- You will again find functions like `reshape`, `view`, `flatten` useful.\n",
    "- Your convolutions should treat the 240-D as _channels_ and combine information over the context, ie., the 10-D.\n",
    "- Build your model incrementally by checking the resultant output shape for each new layer you add! Test with an example batch.\n",
    "\n",
    "Documentation for Conv1D: https://pytorch.org/docs/stable/generated/torch.nn.Conv1d.html"
   ]
  },
  {
   "cell_type": "code",
   "execution_count": 18,
   "id": "448cb39c",
   "metadata": {},
   "outputs": [
    {
     "name": "stdout",
     "output_type": "stream",
     "text": [
      "torch.Size([1024, 240, 10]) torch.Size([1024])\n",
      "torch.Size([1024, 63])\n"
     ]
    }
   ],
   "source": [
    "class CNNModel(nn.Module):\n",
    "    def __init__(self):\n",
    "        super().__init__()\n",
    "        self.layers = nn.Sequential(\n",
    "            nn.Conv1d(in_channels=240, out_channels=160, kernel_size=2),\n",
    "            nn.ReLU(),\n",
    "            \n",
    "            nn.Conv1d(in_channels=160, out_channels=80, kernel_size=3),\n",
    "            nn.ReLU(),\n",
    "            nn.AvgPool1d(kernel_size=3),\n",
    "            \n",
    "            nn.Flatten(),\n",
    "            \n",
    "            nn.Linear(160, 128),\n",
    "            nn.ReLU(),\n",
    "            \n",
    "            nn.Linear(128, 63),\n",
    "        )\n",
    "\n",
    "    def forward(self, x):\n",
    "        return self.layers(x)\n",
    "    \n",
    "for waves, labels in train_loader:\n",
    "    print(waves.shape, labels.shape)\n",
    "    model = CNNModel()\n",
    "    outputs = model(waves)\n",
    "    print(outputs.shape)\n",
    "    break"
   ]
  },
  {
   "cell_type": "markdown",
   "id": "75eee90a",
   "metadata": {},
   "source": [
    "### Q 2.6 Define your optimizeer and criterion for the phoneme classifier. (2 points)"
   ]
  },
  {
   "cell_type": "code",
   "execution_count": 11,
   "id": "a48fb93b",
   "metadata": {},
   "outputs": [
    {
     "data": {
      "text/plain": [
       "<torch._C.Generator at 0x1e90c301b50>"
      ]
     },
     "execution_count": 11,
     "metadata": {},
     "output_type": "execute_result"
    }
   ],
   "source": [
    "model = CNNModel()\n",
    "criterion = nn.CrossEntropyLoss()\n",
    "optimizer = torch.optim.AdamW(model.parameters(), lr=6e-3)\n",
    "\n",
    "seed = 42\n",
    "np.random.seed(seed)\n",
    "torch.manual_seed(seed)"
   ]
  },
  {
   "cell_type": "markdown",
   "id": "c02da110",
   "metadata": {},
   "source": [
    "### Q 2.7 How are weights and biases being initialized for the convolution layers? (2 pts)"
   ]
  },
  {
   "cell_type": "markdown",
   "id": "169b42e8",
   "metadata": {},
   "source": [
    "Pytorch initializes the weights and biases for the convolutional layers using a uniform distribution between $-\\sqrt{k}$ and $\\sqrt{k}$, where $k$, in our case, is $\\frac{1}{C_{in} * kernel\\_size}$."
   ]
  },
  {
   "cell_type": "markdown",
   "id": "939c653b",
   "metadata": {},
   "source": [
    "### Q 2.8 Train your network (5 pts)\n",
    "- Make sure you tune the hyperparameters!"
   ]
  },
  {
   "cell_type": "code",
   "execution_count": 12,
   "id": "1751322d",
   "metadata": {
    "scrolled": true
   },
   "outputs": [
    {
     "data": {
      "application/vnd.jupyter.widget-view+json": {
       "model_id": "f6b45b089ea54bbebfec60f85afb31c1",
       "version_major": 2,
       "version_minor": 0
      },
      "text/plain": [
       "  0%|          | 0/100 [00:00<?, ?it/s]"
      ]
     },
     "metadata": {},
     "output_type": "display_data"
    },
    {
     "name": "stdout",
     "output_type": "stream",
     "text": [
      "EPOCH 0\n",
      " Train loss: 2.31580\n",
      "   Val loss: 2.05493\n",
      "\n",
      "EPOCH 1\n",
      " Train loss: 1.75055\n",
      "   Val loss: 2.03893\n",
      "\n",
      "EPOCH 2\n",
      " Train loss: 1.57638\n",
      "   Val loss: 1.90632\n",
      "\n",
      "EPOCH 3\n",
      " Train loss: 1.45601\n",
      "   Val loss: 1.80719\n",
      "\n",
      "EPOCH 4\n",
      " Train loss: 1.40147\n",
      "   Val loss: 1.87617\n",
      "\n",
      "EPOCH 5\n",
      " Train loss: 1.35334\n",
      "   Val loss: 1.72643\n",
      "\n",
      "EPOCH 6\n",
      " Train loss: 1.28965\n",
      "   Val loss: 1.70504\n",
      "\n",
      "EPOCH 7\n",
      " Train loss: 1.25381\n",
      "   Val loss: 1.72419\n",
      "\n",
      "EPOCH 8\n",
      " Train loss: 1.22966\n",
      "   Val loss: 1.75533\n",
      "\n",
      "EPOCH 9\n",
      " Train loss: 1.19559\n",
      "   Val loss: 1.75007\n",
      "\n",
      "EPOCH 10\n",
      " Train loss: 1.17768\n",
      "   Val loss: 1.72910\n",
      "\n",
      "EPOCH 11\n",
      " Train loss: 1.14610\n",
      "   Val loss: 1.74621\n",
      "\n",
      "EPOCH 12\n",
      " Train loss: 1.11766\n",
      "   Val loss: 1.73758\n",
      "Early exitting due to increasing/stagnant validation loss\n",
      "\n"
     ]
    }
   ],
   "source": [
    "model.train()\n",
    "train_network(model, train_loader, val_loader, criterion, optimizer, nepoch=100)"
   ]
  },
  {
   "cell_type": "markdown",
   "id": "3e7fce87",
   "metadata": {},
   "source": [
    "### Q 2.9 Set up the test function. Note that this is identical to the FashionMNIST question (3 pts)"
   ]
  },
  {
   "cell_type": "code",
   "execution_count": 13,
   "id": "b263a41e",
   "metadata": {},
   "outputs": [],
   "source": [
    "def test_network(model, test_loader, mode):\n",
    "    correct = 0\n",
    "    total = 0\n",
    "    true, pred = [], []\n",
    "    with torch.no_grad():\n",
    "        for inputs, labels  in test_loader:\n",
    "            outputs = model(inputs)\n",
    "            predicted = torch.max(outputs, dim=1).indices # get predicted class label for each test example.\n",
    "            total += labels.size(0)\n",
    "            correct += (predicted == labels).sum().item()\n",
    "            true.append(labels)\n",
    "            pred.append(predicted)\n",
    "    acc = (100 * correct / total)\n",
    "    print('%s accuracy: %0.3f' % (mode, acc))\n",
    "    true = np.concatenate(true)\n",
    "    pred = np.concatenate(pred)\n",
    "    return acc, true, pred"
   ]
  },
  {
   "cell_type": "markdown",
   "id": "e03b9858",
   "metadata": {},
   "source": [
    "### Q 2.10 Write a function that takes in the model predictions and true labels, and returns the accuracy per phoneme class as a dictionary (3 pts)\n",
    "\n",
    "For example, if the true labels contain 10 instances of the phoneme class \"AY\" and the model predicts this correctly 5 times, the entry `class_accuracy['AY'] = 0.5`."
   ]
  },
  {
   "cell_type": "code",
   "execution_count": 14,
   "id": "0a1a2091",
   "metadata": {},
   "outputs": [],
   "source": [
    "def report_test_results(precomputed_acc, model_true, model_pred):\n",
    "    # Accuracy per phoneme class.\n",
    "    class_accuracy = {}\n",
    "    total_correct = 0\n",
    "    for ph, i in phone2int.items():\n",
    "        instances = (model_true == i).sum()\n",
    "        correct = ((model_true == i) & (model_true == model_pred)).sum()\n",
    "        class_accuracy[ph] = -1 if instances == 0 else correct / instances\n",
    "        total_correct += correct\n",
    "    total_acc = total_correct / len(model_pred) * 100\n",
    "    # Write an assertion to check that the sum of correctly predicted\n",
    "    # labels across all classes is equal to the total accuracy of the model.\n",
    "    # It is good (and important) to always run such sanity checks!\n",
    "    # PS. You will probably have to define more variables.\n",
    "    assert np.allclose(total_acc, precomputed_acc)\n",
    "    # Sort the phoneme classes in increasing order of accuracy.\n",
    "    sorted_phones = sorted(class_accuracy.items(), key=lambda x:x[1])\n",
    "    print('Top-3 predicted phones:', sorted_phones[-3:])\n",
    "    return class_accuracy"
   ]
  },
  {
   "cell_type": "markdown",
   "id": "b85d5f56",
   "metadata": {},
   "source": [
    "### Q 2.11 Run tests on the validation data (2 pts)"
   ]
  },
  {
   "cell_type": "code",
   "execution_count": 15,
   "id": "0e1028b7",
   "metadata": {
    "ExecuteTime": {
     "end_time": "2022-02-23T06:16:00.843445Z",
     "start_time": "2022-02-23T06:16:00.828134Z"
    }
   },
   "outputs": [
    {
     "name": "stdout",
     "output_type": "stream",
     "text": [
      "Test accuracy: 52.898\n",
      "Top-3 predicted phones: [('SP', 0.7551319648093842), ('IY', 0.7840531561461794), ('S', 0.8298319327731093)]\n"
     ]
    }
   ],
   "source": [
    "model.eval()\n",
    "\n",
    "val_precomputed_acc, val_model_true, val_model_pred = test_network(model, val_loader, 'Test')\n",
    "val_class_accuracy = report_test_results(\n",
    "    val_precomputed_acc, val_model_true, val_model_pred)"
   ]
  },
  {
   "cell_type": "markdown",
   "id": "6601e7f5",
   "metadata": {},
   "source": [
    "### Q 2.12 Print the validation class accuracy for the given phoneme classes. What do you observe? What could be the reason for this? (2 pts)\n",
    "\n",
    "HINT: The answer is UNRELATED to the model."
   ]
  },
  {
   "cell_type": "code",
   "execution_count": 16,
   "id": "7dfa7cab",
   "metadata": {
    "ExecuteTime": {
     "end_time": "2022-02-22T23:36:02.196554Z",
     "start_time": "2022-02-22T23:36:02.190833Z"
    },
    "scrolled": true
   },
   "outputs": [
    {
     "name": "stdout",
     "output_type": "stream",
     "text": [
      "0.0\n",
      "0.0\n"
     ]
    }
   ],
   "source": [
    "for phoneme in ['OH', 'U']:\n",
    "    print(val_class_accuracy[phoneme])"
   ]
  },
  {
   "cell_type": "markdown",
   "id": "66ba008e",
   "metadata": {},
   "source": [
    "The accuracy for the given phoneme classes is always 0. This is likely because of two possible reasons, firstly because there might be very few instances for each of those phonemes and the model happened to predict all of them incorrectly, and secondly because the two phonemes given sound similar to each other, so it might be harder to classify as different classes, which makes sense when looking at the best predicted sounds that have seemingly distinct sound patterns."
   ]
  },
  {
   "cell_type": "markdown",
   "id": "10abd4a5",
   "metadata": {},
   "source": [
    "### Q 2.13 We will now test your model on a hidden test set. So make sure your model definition and functions to compute test accuracy are clearly defined! (2 pts)\n",
    "\n",
    "_(there is nothing for you to do here, this block exists for grading purposes only)_"
   ]
  },
  {
   "cell_type": "code",
   "execution_count": 17,
   "id": "1208dc11",
   "metadata": {
    "ExecuteTime": {
     "end_time": "2022-02-23T06:20:39.863685Z",
     "start_time": "2022-02-23T06:20:35.733361Z"
    }
   },
   "outputs": [
    {
     "name": "stdout",
     "output_type": "stream",
     "text": [
      "inamoment\n",
      "(43031, 240) (43031,)\n",
      "(3494,) (3494,) (3494,)\n",
      "eyespy\n",
      "(77941, 240) (77941,)\n",
      "(7920,) (7920,) (7920,)\n",
      "life\n",
      "(88025, 240) (88025,)\n",
      "(7296,) (7296,) (7296,)\n",
      "howtodraw\n",
      "(72825, 240) (72825,)\n",
      "(6952,) (6952,) (6952,)\n",
      "inamoment\n",
      "12.315397824842588 24.093445441069974\n",
      "(1459,) (1459, 10, 240)\n",
      "eyespy\n",
      "9.840909090909092 16.412615041695428\n",
      "(2277,) (2277, 10, 240)\n",
      "life\n",
      "12.062088815789474 16.058891727998713\n",
      "(3022,) (3022, 10, 240)\n",
      "howtodraw\n",
      "10.47511507479862 15.877351474077999\n",
      "(2477,) (2477, 10, 240)\n",
      "(9235, 240, 10) (9235,)\n",
      "test accuracy: 55.138\n",
      "Top-3 predicted phones: [('K', 0.7902298850574713), ('IY', 0.8792372881355932), ('S', 0.8979591836734694)]\n"
     ]
    },
    {
     "data": {
      "text/plain": [
       "{'SIL': -1,\n",
       " 'S': 0.8979591836734694,\n",
       " 'AY': 0.7268370607028753,\n",
       " 'EY': 0.5162790697674419,\n",
       " 'T': 0.601823708206687,\n",
       " 'Y': 0.33663366336633666,\n",
       " 'ER': 0.4734848484848485,\n",
       " 'HH': 0.49079754601226994,\n",
       " 'SP': 0.7474012474012474,\n",
       " 'BR ': -1,\n",
       " 'Z': 0.5,\n",
       " 'AA': 0.5205992509363296,\n",
       " 'IY': 0.8792372881355932,\n",
       " 'OW': 0.5060728744939271,\n",
       " 'R': 0.5125,\n",
       " 'IH': 0.2926829268292683,\n",
       " 'BR': 0.2463768115942029,\n",
       " 'AO': 0.1956521739130435,\n",
       " 'DH': 0.10526315789473684,\n",
       " 'M': 0.5213675213675214,\n",
       " 'AH': 0.042483660130718956,\n",
       " 'B': 0.203125,\n",
       " 'K': 0.7902298850574713,\n",
       " 'L': 0.5096774193548387,\n",
       " 'W': 0.7346938775510204,\n",
       " 'EH': 0.15151515151515152,\n",
       " 'N': 0.5759493670886076,\n",
       " 'UW': 0.5271317829457365,\n",
       " 'OY': 0.25,\n",
       " 'D': 0.3937007874015748,\n",
       " 'CH': 0.40298507462686567,\n",
       " 'F': 0.6588235294117647,\n",
       " 'NG': 0.44370860927152317,\n",
       " 'AE': 0.6521739130434783,\n",
       " 'AW': 0.44370860927152317,\n",
       " 'SH': 0.4015151515151515,\n",
       " 'P': 0.10067114093959731,\n",
       " 'TH': 0.19444444444444445,\n",
       " 'LG': 0.14285714285714285,\n",
       " 'LS': 0.14285714285714285,\n",
       " 'G': 0.21739130434782608,\n",
       " 'JH': 0.3389830508474576,\n",
       " 'V': 0.23076923076923078,\n",
       " 'UH': 0.0,\n",
       " 'NS': 0.0,\n",
       " 'CG': -1,\n",
       " '': 0.0,\n",
       " 'SPM': -1,\n",
       " 'AHN': -1,\n",
       " 'SP\\x7f': -1,\n",
       " 'SPAH': -1,\n",
       " 'ZH': -1,\n",
       " '{NS}': -1,\n",
       " '{IG}': -1,\n",
       " '{CG}': -1,\n",
       " 'ST': -1,\n",
       " 'OA': -1,\n",
       " 'OH': -1,\n",
       " 'U': -1,\n",
       " ' IY': -1,\n",
       " ' AY': -1,\n",
       " 'N ': -1,\n",
       " 'A': -1}"
      ]
     },
     "execution_count": 17,
     "metadata": {},
     "output_type": "execute_result"
    }
   ],
   "source": [
    "data_split_stories['test'] = ['inamoment', 'eyespy', 'life', 'howtodraw']\n",
    "\n",
    "for story in data_split_stories['test']:\n",
    "    LOAD = np.load('HW2_phone_class_data/%s.npz'%story)\n",
    "    speech_features[story] = LOAD['fbank_features']\n",
    "    speech_timestamps[story] = LOAD['fbank_timestamps']\n",
    "    phonemes[story] = LOAD['phonemes']\n",
    "    phoneme_start_times[story] = LOAD['phoneme_start_times']\n",
    "    phoneme_end_times[story] = LOAD['phoneme_end_times']\n",
    "    print(story)\n",
    "    print(speech_features[story].shape, speech_timestamps[story].shape)\n",
    "    print(phonemes[story].shape, phoneme_start_times[story].shape, phoneme_end_times[story].shape)\n",
    "    \n",
    "features, labels = defaultdict(list), defaultdict(list)\n",
    "\n",
    "for story in data_split_stories['test']:\n",
    "    print(story)\n",
    "    phoneme_time_windows = [[] for _ in range(len(phonemes[story]))]\n",
    "    for time_index, time in enumerate(speech_timestamps[story]):\n",
    "        # Find position which starts at or right before this timestamp.\n",
    "        ix = np.where(phoneme_start_times[story] <= time)[0][-1]\n",
    "        if phoneme_end_times[story][ix] > time:\n",
    "            phoneme_time_windows[ix].append(time_index)\n",
    "    for ix in range(len(phoneme_time_windows)):\n",
    "        phoneme_time_windows[ix] = np.array(phoneme_time_windows[ix])\n",
    "    ptw_lengths = np.array([len(ptw) for ptw in phoneme_time_windows])\n",
    "    print(ptw_lengths.mean(), ptw_lengths.std())\n",
    "    for ix in range(len(phoneme_time_windows)):\n",
    "        if len(phoneme_time_windows[ix]) < window_size:\n",
    "            continue\n",
    "        ph = phonemes[story][ix].upper().strip(\"0123456789\")\n",
    "        labels[story].append(phone2int[ph])\n",
    "        features[story].append(speech_features[story][phoneme_time_windows[ix]][-window_size:])\n",
    "    labels[story]= np.array(labels[story])\n",
    "    features[story] = np.array(features[story])\n",
    "    print(labels[story].shape, features[story].shape)\n",
    "    \n",
    "    assert not np.any(np.isnan(features[story])), story\n",
    "    assert labels[story].shape[0] == features[story].shape[0]\n",
    "    assert np.all(features[story].shape[1:] == (window_size, 240))\n",
    "    \n",
    "# Set up the dataloaders\n",
    "test_feats = np.vstack([features[story] for story in data_split_stories['test']])\n",
    "test_feats = np.swapaxes(test_feats, 1, 2)\n",
    "test_labels = np.hstack([labels[story] for story in data_split_stories['test']])\n",
    "print(test_feats.shape, test_labels.shape)\n",
    "test_dataset = torch.utils.data.TensorDataset(torch.tensor(test_feats), torch.tensor(test_labels))\n",
    "test_loader = torch.utils.data.DataLoader(test_dataset, batch_size=batch_size, shuffle=True)\n",
    "\n",
    "precomputed_acc, model_true, model_pred = test_network(model, test_loader, 'test')\n",
    "report_test_results(precomputed_acc, model_true, model_pred)"
   ]
  },
  {
   "cell_type": "markdown",
   "id": "d67fb78b",
   "metadata": {},
   "source": [
    "### Q 2.14 Can you reuse your model as is with a different `window_size`? Why or why not? (2 pts)"
   ]
  },
  {
   "cell_type": "markdown",
   "id": "1c00e9bc",
   "metadata": {},
   "source": [
    "While the different window size would break at the linear layers because of the different dimension size, I think the model could be reused with a different window size if the linear layer input size was changed, but it would probably be better to take advantage of the higher size dimension by also increasing the 1d convolution layer kernel size to try to recognize longer sounds."
   ]
  },
  {
   "cell_type": "markdown",
   "id": "6aab750e",
   "metadata": {},
   "source": [
    "### Q 2.15 Can you reuse your model as is with a different dimensionality of speech features? Why or why not? (2 pts)"
   ]
  },
  {
   "cell_type": "markdown",
   "id": "a04f5e2b",
   "metadata": {},
   "source": [
    "No, the dimensions would still break on the convolution and linear layers due to the different dimension sizes, since the number of input channels into the conv1d layer would be different."
   ]
  },
  {
   "cell_type": "markdown",
   "id": "afa22810",
   "metadata": {},
   "source": [
    "## Problem 3. 1-D CNNs and model interpretation (27 pts)\n",
    "\n",
    "In this problem you will again train a 1-D CNN on audio data, here to classify spoken numerals (e.g. \"one\", \"two\"). Then you will use additional techniques to interpret (since it's audio, one can't really say \"visualize\", but same idea) what the model is doing. Run these cells first to set things up."
   ]
  },
  {
   "cell_type": "code",
   "execution_count": 6,
   "id": "de7a3241",
   "metadata": {},
   "outputs": [],
   "source": [
    "import IPython.display as ipd\n",
    "\n",
    "import torchaudio\n",
    "from torchaudio import datasets as audiodatasets\n",
    "\n",
    "audio_save_dir = './SPEECHCOMMANDS_data' # set to wherever you want to keep these files\n",
    "sc_training = audiodatasets.SPEECHCOMMANDS(audio_save_dir, download=True, subset=\"training\")\n",
    "sc_validation = audiodatasets.SPEECHCOMMANDS(audio_save_dir, download=True, subset=\"validation\")\n",
    "sc_testing = audiodatasets.SPEECHCOMMANDS(audio_save_dir, download=True, subset=\"testing\")"
   ]
  },
  {
   "cell_type": "code",
   "execution_count": 7,
   "id": "d2d4bc8c",
   "metadata": {},
   "outputs": [],
   "source": [
    "# the audio will be downsampled to 8 kHz to make it easier to work with. just run this\n",
    "new_sample_rate = 8000\n",
    "transform = torchaudio.transforms.Resample(orig_freq=16000, new_freq=new_sample_rate)"
   ]
  },
  {
   "cell_type": "code",
   "execution_count": 8,
   "id": "81578c87",
   "metadata": {},
   "outputs": [
    {
     "name": "stdout",
     "output_type": "stream",
     "text": [
      "Stored 'training_inds' (ndarray)\n",
      "Stored 'validation_inds' (ndarray)\n",
      "Stored 'testing_inds' (ndarray)\n",
      "[11139 11140 11141 ... 84840 84841 84842] [ 363  364  365 ... 9978 9979 9980] [  396   397   398 ... 11002 11003 11004]\n"
     ]
    }
   ],
   "source": [
    "# the dataset contains a lot of words, but let's focus on the numbers\n",
    "sel_labels = [\"zero\", \"one\", \"two\", \"three\", \"four\", \"five\", \"six\", \"seven\", \"eight\", \"nine\"]\n",
    "\n",
    "training_inds, validation_inds, testing_inds = (None, None, None)\n",
    "%store -r training_inds\n",
    "%store -r validation_inds \n",
    "%store -r testing_inds\n",
    "\n",
    "training_inds = training_inds if training_inds is not None else np.array([ii for ii,datum in enumerate(sc_training) if datum[2] in sel_labels])\n",
    "validation_inds = validation_inds if validation_inds is not None else np.array([ii for ii,datum in enumerate(sc_validation) if datum[2] in sel_labels])\n",
    "testing_inds = testing_inds if testing_inds is not None else np.array([ii for ii,datum in enumerate(sc_testing) if datum[2] in sel_labels])\n",
    "\n",
    "%store training_inds\n",
    "%store validation_inds\n",
    "%store testing_inds\n",
    "print(training_inds, validation_inds, testing_inds)"
   ]
  },
  {
   "cell_type": "code",
   "execution_count": 9,
   "id": "be2b0d2f",
   "metadata": {},
   "outputs": [],
   "source": [
    "# define function that will pad each sample in a batch to the same length\n",
    "def pad_sequence(batch):\n",
    "    # Make all tensor in a batch the same length by padding with zeros\n",
    "    batch = [item.t() for item in batch]\n",
    "    batch = torch.nn.utils.rnn.pad_sequence(batch, batch_first=True, padding_value=0.)\n",
    "    return batch.permute(0, 2, 1)"
   ]
  },
  {
   "cell_type": "code",
   "execution_count": 10,
   "id": "360af77d",
   "metadata": {},
   "outputs": [],
   "source": [
    "from torch.utils.data.sampler import SubsetRandomSampler\n",
    "\n",
    "# make data loaders\n",
    "\n",
    "def collate_fn(batch):\n",
    "    tensors, targets = [], []\n",
    "    for waveform, _, label, *_ in batch:\n",
    "        tensors += [waveform]\n",
    "        targets += [torch.Tensor([sel_labels.index(label)]).squeeze().long()]\n",
    "\n",
    "    tensors = pad_sequence(tensors)\n",
    "    targets = torch.stack(targets)\n",
    "\n",
    "    return tensors, targets\n",
    "\n",
    "\n",
    "batch_size = 64\n",
    "\n",
    "train_loader = torch.utils.data.DataLoader(\n",
    "    sc_training,\n",
    "    batch_size=batch_size,\n",
    "    collate_fn=collate_fn,\n",
    "    sampler=SubsetRandomSampler(training_inds)\n",
    ")\n",
    "val_loader = torch.utils.data.DataLoader(\n",
    "    sc_validation,\n",
    "    batch_size=batch_size,\n",
    "    drop_last=False,\n",
    "    collate_fn=collate_fn,\n",
    "    sampler=SubsetRandomSampler(validation_inds)\n",
    ")\n",
    "test_loader = torch.utils.data.DataLoader(\n",
    "    sc_testing,\n",
    "    batch_size=batch_size,\n",
    "    drop_last=False,\n",
    "    collate_fn=collate_fn,\n",
    "    sampler=SubsetRandomSampler(testing_inds)\n",
    ")"
   ]
  },
  {
   "cell_type": "markdown",
   "id": "70d32942",
   "metadata": {},
   "source": [
    "### Q 3.1: Plot the waveform and play the audio for one training sample (2 pts)\n",
    "Set the x-axis values so that they show seconds."
   ]
  },
  {
   "cell_type": "code",
   "execution_count": 11,
   "id": "55edccff",
   "metadata": {},
   "outputs": [
    {
     "data": {
      "text/html": [
       "\n",
       "                <audio  controls=\"controls\" >\n",
       "                    <source src=\"data:audio/wav;base64,UklGRiR9AABXQVZFZm10IBAAAAABAAEAgD4AAAB9AAACABAAZGF0YQB9AAC//gT/m/7N/lP+oP78/kX+cf4a/+D+Xv7N/vn+fP4b/pX+kP4Q/nr+zf60/nz+uf78/s3+rv7x/tD+xP4a/83+W/4y/oL+zf7V/kH/Cv9T/mP+dP5T/nT+Sv46/tX+qf5Y/rH+rv6u/mH+Vv7H/gH/4/65/q7+ev6T/oX+qf7u/of+f/5x/r/+Af93/oX+yv6u/qz+qf60/qD+f/7K/pv+m/63/nf+kP58/pX+pv49/jr+b/5Y/mn+Tf4b/mn+xP6m/qn+hf5s/oX+Mv6m/pj+Tf4O/gL+o/5N/iH+L/5//oX+Tf5s/nf+NP5F/lj+7/1Q/nf+bP5//mP+Tf4e/g7+G/5W/mb+Rf6K/p7+E/7n/Sn+Yf5s/kr+N/4s/n/+Yf73/RP+If5W/hb+LP56/iH+Zv5I/vL99/2W/QL+W/5h/kj+8v31/RD+bP5v/ib+/f03/or+WP4T/kX+b/5x/m/+Fv5I/i/+SP6F/in+b/5K/iT+P/4I/u/9EP5e/hv+/f0L/gv+Qv5N/kL+Ov46/gv+5/0Z/iH+E/6Q/pX+yP2U/T3+pv5p/gX+0/0I/o3+oP73/cX9Vv6F/hv+G/4I/u/9If4k/iH+C/5F/rn+f/4e/nH+UP4Q/hv+9f0Z/or+af5W/pv+Vv5h/mH++v0T/gj+d/6s/mz+fP5I/nz+UP4p/hn+5/1Y/of+m/5b/mb+o/5v/mn+Rf5Y/jT++v0h/lP+Rf40/kL+Av5W/oL+EP40/qb+UP4Q/nH+WP4p/lj+hf6K/pj+Yf76/Rb+Sv5p/oL+b/50/hP+L/6T/lv+Sv4//m/+Xv79/RD+SP5T/mH+jf5Y/j/+mP6m/kj+E/5F/pX+iv6K/nf+If58/k3+w/0e/p7+yv6b/qz+hf5K/m/+Fv4O/lj+Vv6j/n/+Sv5v/jT+E/5Q/sf+af4m/mH+U/4v/iH+ev68/mn+7/0e/lj+ev5s/k3+Tf4O/gj+P/5F/j3+N/4A/gD+8v2q/bX9Hv4//iH+L/50/nH+w/2I/QD+Vv40/v39yP3T/en9wP09/mP+7/1i/X39Y/4h/rX95P0h/jL+9/0p/iz+zv3D/dz99/3c/eH9Y/5b/g7+0f31/U3+L/7A/Zn9NP4y/u/9uv2k/e/9Hv4y/uT9r/3A/RP+Kf4s/lD+W/4O/tz97P3Z/RP+LP5p/mz+Vv5Q/h7+Tf4//gv++v0k/hn+EP43/hb+U/4k/gv+Vv43/un9p/3k/Vb+Rf4F/uf9Fv5W/jL+Ov4//jr+p/3F/Wz+w/1y/dP9Av7y/d79Zv5h/ib+Jv73/Vj+7P29/Qv+/f0Z/jr+Rf79/bX93v1F/hv+5P0Q/j/+If4C/gD+Fv5K/mP+cf5N/sP94f0v/iH+Y/5m/in+Av49/mb+cf6//tL+lf7n/Rn+b/4p/rz+v/5e/nT+kP56/mn+uf6g/pv+Tf4I/mz+Jv49/p7+SP6T/tj+uf6m/hn++v06/kX+Tf4m/nf+rP5W/sL+xP5s/lb+W/6s/kr+7/1Y/qn+Pf79/Q7+Fv43/lb+Hv79/S/+NP4s/jT+h/6g/lP+Jv40/oL+Zv6K/qP+Tf6j/o3+Sv6N/l7+Bf5h/mH+If4y/of+m/73/Rv+fP5T/gD+Kf5v/nH+fP5v/o3+EP4I/rf+f/5I/kX+Rf6C/j/+Pf4//gD+SP5Q/j/+Pf4Q/iT+gv50/v39AP5T/jr+6f3n/f39Hv5Q/mP+Ov7v/Wn+bP4A/j3+wP2n/Tf+Jv5b/mz+CP4Q/iT+Ov40/vL9/f1e/kX+9f1I/h7+/f0y/mn+tP4y/hn+If66/fL9LP4e/lj+iv5e/kX+Fv43/iH+mf3h/Sz+N/5h/jL+C/6H/nT+LP4Q/v39Xv4k/gj+C/4Q/lv+If5W/nT++v06/lv+9f1Q/qD+W/4y/uf9P/5m/uf9Jv5T/jT+wv4N/4L+6f0T/vn+v/5F/qP+5v7S/n/+Sv5j/m/+v/7N/uv+0P5j/o3+kP6s/rT+tP7Y/tX+jf7C/pP+C/5e/vb+IP+V/pX+mP6H/sL+Af8x/43+o/7u/rf+8f72/tv+6f4B/+n+Sv4b/tv+Wv9P/9v+WP6H/s3+fP58/u7+Mf/Q/qn+D//x/m/+nv5d/93+gv7V/sT+UP6Q/kH/4/7N/iP/Df/m/uv+pv6T/tD+Df8j///+Qf/d/nr+c/8+/6D+Lv82/7/+jf4d/0T/GP/C/rn+xP6Q/jn/GP9Y/qz+Mf/H/jT+fP4z/37/0P63/tv+Rf58/hL///6C/lD+tP4d//T+tP53/nr+Gv/Y/jr+hf7S/sr+qf68/or+3f7b/nH+6f7E/mP+4P5w/+v+SP5h/rn+I//g/j7/dv/c/QL+ef9g/1X/D/9b/u/9GP/M/+H9sv3//hX/9v6//qn+1P+P/5j+L/5j/kr/nv5p/uv+v/5j/oL+Nv+e/jL+DQDU/7j9ff1e/nP/mv+F/qT9nv6r///+SP6N/v/+Bf61/d3+Of+5/h3/q/+m/k3++f78/kX+gv4S/7H+U/7e/UX+2/53/pv+8f5x/mP+uf4H/3/+EP4r/w3/Xv7g/vb+jf6s/rz+WP5h/rf+6/7S/rH+lf6F/vn+8f4H/wT/0v4K/5X+sf7m/sf+/P72/sf+uf7b/tL+jf5v/tD+6f5b/mP+6f4N/yv/sf5Q/tj+IP8H/0r+Dv7S/vT+d/53/vT+pv53/iv/TP/p/qD+U/6j/iX/rP6u/iv/uf6g/gr/Cv+F/oL+Yv9V/93+uf7p/h3/9v4P/+D+wv7d/jz/RP/Q/sf+vP7j/iD/7v6u/i7/cP/g/t3+YP9g/4r+6f6l/93+1f6//rH+IP8x/zn/Jf9B/yj/zf6V/tL+1f7p/jb/K/8x/yv/B////iX/7v7E/g//Hf/2/gr/PP8N/13/ef8g/xj/2P7b/jz/bv8l/6P+nv4o/0r/Gv+5/sf+Mf+0/oL+9P5X/zH/9P7//h3/PP/K/qz+4/4B/9L+yv7K/mz+rP4S/xj/rP6b/v/+0P6s/vb+Nv9M/8r+pv7d/tX+Jf8K/67+kP7V/v/+x/4Y/xX/1f6s/rf+2/7K/iD/8f7K/tD+2/6p/nz+9P4d/+b+Mv43/rf+nv72/gT/xP7H/qz+jf6//gH/U/5h/vb+xP6p/r/+3f7E/sL+2/6C/lD+vP7E/r/+kP6C/sf+JP5s/v/+ev5T/lb+N/6m/rn+D/8j/5D+k/6j/pP+U/6K/pD+vP7r/mb+fP63/tL+sf6K/rf+iv5x/kj+P/6C/i/+fP4V/8T+ev6e/rH+0P53/jf+x/6N/rf+Gv/C/oL+d/7Y/un+lf5Y/pP+t/6C/o3+Sv5//qD+tP6F/kX+t/7g/r/+P/6e/v/+mP6C/mn+lf78/sL+Y/6j/sT+Xv53/rH+gv5p/pv+yv60/tL+5v7E/tj+uf5//u7+Jf8B/zn/8f7E/s3+tP7g/ub+tP68/u7+Ev8B/9L+I/9d/9L+h/4N/0T/BP8H/0r/I//C/jH/Nv/S/hL/Of9E/9X+vP48/zb/v/6s/jz/Sv9B/x3/6f4P/2D/ef8K/+D+I/8o//H+sf70/lr/dv9d/13/Wv/j/jb/n/9l/93+wv4Y//T+I/8g/93+Qf9r/5T/h/8K/6D+2P5P///+5v4K//H++f7N/uD+M/8P/wr/Cv/j/vb+6f7m/tL+2/4E/9L+IP8H/5v+0v4S/+P+fP6C/g//KP+F/rH+6f78/iD/9P7Y/sL+k/5p/sf+8f7S/tX+Of9a///+yv6m/vn+R/8j/+D+sf63/vb+M/8E/xX//P65/g//Cv+s/rn+M/9d/8f+qf4B//n+9P4x/13/Of+0/n/+vP6K/pv++f7//gH/TP9H/9j+t/7Y/vT+Df/m/rH+sf7p/jH/K//g/pv+uf7b/rn+tP7r/gf/Af85//b+tP4P/9L+rv4l/+n+vP5H/0H/Nv/8/qP+tP7C/g3/KP+u/oL+2P6x/uD+wv50/sf+9P7u/sT+2/6u/p7+zf6Y/pD+o/6Q/nz+dP7E/t3+jf5e/mb+iv6F/qz+lf7N/v/+k/6x/vT+f/4y/un+Nv/S/rn+t/7S/sf+k/6e/uP+Pv8r/8r+yv7//pP+af4P/yP/3f7//k//I/90/sL+TP+8/sL+oP63/oz/Qf/Q/tL+I//C/t3+Nv/S/kr/Jf8o/37/9v7C/lL/YP/5/v/+Af9P/1L/4/6H/g3/bv/K/r/+GP9g/zz/Af9B/77/dv8K/0H/KP8B/93+IP92/1r/Nv9E/3b/D//Y/lr/YP82/0r/Ev8x/2D/Zf92/zb/I/8z/1f/I/8a/13/PP88/wf/TP9+/zP/Uv8u/yj/cP+S/0H/Sv/X/0T/B//B/7v/TP/b/uv+Lv95/6v/Nv8o/1r/Wv+S/2j/Cv9K/1X/e//J/yj/0P4H/xL/Ff8a/zb/Lv8u/1X/Jf/8/jn/Uv82/8L+/P6l/3b/Uv9i/0//Nv8r/xj/RP8l/yX/lP+X/3P/Af88/5L/KP9E/4//aP8E/zn/n/9r/zb/Wv9M/wT/R/9w/zb/4/7C/iD/ef9a/yj/GP/d/v/+D/+5/rn+2/7K/v/+R//0/s3+B//2/vb+2P7j/hj/5v7Q/sT+zf4S/1r/GP/H/un+4/78/vn+zf7g/nb/KP+b/qP+2/6p/gD+k/4S/0T//P6Q/s3+6f4K/yD/vP6T/uv+vP6T/o3+o/4K/9X+yv65/oL+cf5//vz+2/6u/pv+nv7b/tD+0P70/hL/zf6x/tv+KP9r//b+m/7N/v/+D//p/tD+0P68/uv+B//r/gr/IP8a/7n+xP4r/0//7v75/jb/f/6e/tX+Mf82/6z+IP88/+D+x/4a/xr/k/7p/hr/6/7C/sf+PP8g/9j+8f5V/y7/hf58/tX+4P72/vH+Gv9H/0z/M//r/h3/3f4H/13/RP+U/yX/Gv9a/wf/Zf9r/1r/if9S/2X/Yv9H/2v/nf9X/+v+KP9a/4f/Zf8l/zb/YP9z/w//Af8g//b+Lv8o/y7/h/8l/0r/q/+M/3P/I/8x/5T/vv+B/13/Wv9E/y7/I/9S/3v/tv+J/63/yf8u/yD/V/8l/9v+Vf+P/x3/aP/B/1X/Jf9B/zz/j/9+/3D/mv+4/5f/7v4Y/zb/T/97/27/Uv/2/hr/IP8u/xX/R/9H/2/+Df+S/2X/YP9g/zH/Hf8u//H+5v4N/5//jP85/1X/a/8u/9v+hP8AAEr/2P5M/3D/M//5/vz+PP8+/1r/V/8d/zn/Of///iD/vv9+/x3/Xf9P/zn/KP9+/4H/Uv9S/zn/Jf/E/uv+Nv9r/2v/BP8g/1r/V/8V/y7/Vf8V/9v+7v5i/xj/tP72/pL/n//u/g3/Qf9a/zn/B//0/iP/c//x/jP/fv8r/w//Gv82/xX/M/9i/0f/Qf9E/zb/Xf+o/37/D//m/iv/RP9H/2X/Af8+/1X/D/88/2D/YP+P/3b/Jf9X/zb/6f7N/jn/Gv/b/kr/Zf92/yX/B/9i/3D/D////lf/Uv9V/3P/Vf9r/4H/Zf9w/2j/RP+B/9r/5f8r/zH/vv+U/zn/8f6B/4n/nf+S/zP/c/8Y/yX/n/+a/0H/cP+M/+D+Ev9S/1L/mv9w/4//Vf/u/kH/e/97/2L/if+M/0z/Nv9d/6X/ef9K/+r/6P+B/5L/pf9l/zz/ov+f/3v/l/+4/53/l//o/7v/gf+E/6v/lP9K/4H/CwDw/6L/nf+z/5T/aP+H/63/uP+B/4H/kv+B/37/gf+H/8z/tv9M//T+K/+r/1f/h/+z/4H/n/+i/7j/qP9u/0f/xv/c/6v/e/8u/7v/z/9r/2D/kv/G/5L/R/9M/1f/cP+f/2v/T/9g/4H/fv9X/4T/qP+J/2L/V/9g/0T/aP+f/4n/T/9V/5//dv9+/zn/aP+f/yv/e/+M/6L/rf+U/6v/lP8+/1X/sP8a/+n+Uv9g/4f/Lv8H/0//IP82/0//Wv/0/vn+n/92/wr/rP4P/7D/YP9l/1X/6f4P/zb/n/8V/+P+bv9X/13/6/4B//H+/P5i/xj/BP8H/yP/KP8S/+v+KP9V/7z+2/4S//b+gf+r/0f/I/8a/0//K/+5/tD+2P68/v/+RP9S/2j/Xf8V/wH/a/9V/xX/Mf9E/37/PP/S/kr/lP8d/zP/Mf8z/5//TP8S/z7/ef82//b+ef88/+v+c//B/3n/Qf9z/2D/Pv9l/8H/if8x/37/qP/E/4n/Uv+P/5f/Nv8z/7b/j/9a/1X/gf/4/4n/V//M/8//h/+M/9z/mv8j/1r/wf+f/2v/j//B/8T/mv85/3b/hP9g/2X/Ev+B/77/nf+o/8//mv9V/4T/a/+H/1L/Yv+U/8z/+/9a/2L/ov/E/8T/lP9u/5T/wf9g/5//EADl/2j/K/+o/63/q/8NANr/u/+o/+X/EACE/0//z/8FAAUAvv92/8H/xP/w//P/mv+M/+X/9f++/9r/+/8bAO3/3P/o/+3/BQBz/3v/LAAbAP7/a/8d/8H/+P/R/7D/uP8QAPj/1//q/3v/Zf+r/7j/j/8LAAUAaP+E/9f/6v+l/+L/u/+M/4//uP8xAIH/Yv/o/4z/rf/t/7v/xP92/1f/CwDc/zz/kv/7/9z/xv/a/6j/qP8CAAIAvv+r/8T/6P8FAA0As/+r//7/AADw/9r/8P/J/9f/AADX/8H/tv/P/6L/xv/J/5r/GAA/ACwA1/+l/8//fv/B/+r/a/9d/63/n/9X/3D/aP+z/7D/Uv+J/+X/CACX/5//q/+J/+j/sP+d/9z/4v/z/5f/a/+P/63/l/8x/zz/bv95/4H/8//o/1L/T/97/7v/AACi/0r/l/+S/4T/l/95/0r/V/+t/27/Uv/a/wgAxv+M/4//s//R/9H/6v+a/3D/nf+X/5L/mv+l/4H/l//B/8n/Nv85//j/BQAxALb/Sv9z/3P/CwDw/8//PwANALP/Zf+X/xMAs/+f//j/dv+7/yEA9f8xAA0A+P/R/+L/vv/X/zwAwf+S/8b/MQAeAMn/EwDz/9r//v/c/3n/n//R/8T/DQAIAOX/nf/c/ywAGwDR/0//l/8FAN//8P/q/7v/JACFAFUAzP/G/wIAEADG/53/6v/w/+L/AADt/8//pf/P/9T/qP8/ABgA+/8pAPj/1P8TAGEAOgAbAIH/2v9NAAIAFgACAPX/jP+E/+X/CwDB/3b/2v++/4T/6v88ACYAvv/B/6j/u/9FAOX/dv/l//P/rf8TAPv/1/8CAO3/5f+a/5//9f8YAMH/YP+X/8z/2v+4/wgAOgDc/77/xP8hAMH/KP+J/6v/nf/l/1sAGwDE/9f/tv8kAGMAn/8x/3P/2v8hADEADQDc/6j/ov8IAN//l//o/9T/cP9z/x4A6P8+/2X/4v8AADb/Df/U/7P/Gv9P/4//n/97/53/gf8o/zz/bv+P/2X/RP9H/5L/Wv8+/6j/ov+U/3v/gf+t/4//Pv9r/9r/wf/o/7P/Pv97/1r/Qf+B/6X/cP9B/2D/R/8a/0H/Yv9u/2L/aP97/yj/Hf+H/8T/R/85/1X/qf4u//7/nf8g/xr/if/M/77/c/8o/0//n/+t/0z/Wv/E/3b//P5i/4f/c/+P/zn/Df8x/5L/s/9d/yD/aP9l/w3/cP/U/5T/TP9P/6L/V/88/53/Cv8a/53/Nv9g/3v/KP9H/yX/RP8o/7n+YP+7/0z/dv9K/yD/zP9S/8T+I/9E/27/PP9l/4z/PP9w/2D/Of8r/8r+vP4K/wH/3f4g/0f/fv9+/1L/e/9+/0r/9v4Y/1r/B/8S/3n/c/+S/2D/KP+f/53/e/95/3D/wf+E/0f/qP+P/27/Mf8P/4f/lP+r/8H/jP+f/5T/dv85/1r/xP+U/37/sP+l/6X/z/+d/1X/Jf8u/0//gf+7/6v/j/9w/zb/Xf92/4n/e/8V/zH/gf97/y7/M/9g/27/h/+o/3v/Mf8z/zn/RP8+/2v/kv9B/zn/TP9K/zP/dv+S/0z/Yv9P/1r/fv+z/6X/KP8g/zb/Uv88/+v+RP+d/13//P7r/l3/a/8H/+v+Gv8u/xj/Jf8u/0r/Nv9K/13/6/4B/9v+xP4l/0f/Wv8r/2L/aP8N/+n+2/7Q/vT+Ev/8/vH+B/8j/8T+4P4+/w//0P7x/gT/qf6b/iP/Of/g/v/+Gv/5/q7+hf7x/ij/6f7S/vT+KP8N/+n+rP7N/hj/sf5p/oL+4P7Q/mn+3f4l/9X+Df/g/qn+6/7d/tL+lf6F/of+d/5s/u7+B//K/uD+nv7b/rH+rP7C/qz+5v7H/vb+9P6b/q7+2/7p/r/+sf78/sT+sf4K/+n+2/6H/qb+Uv8B/2b+kP5B/1f/rP5Y/qz+9v7//rH+rP7u/vH+Hf/V/mP+Zv6Y/sr+4/60/qb+/P63/uv+nv4s/uv+Cv/5/vT+4P6u/of+5v78/r/+wv72/ub+o/6F/nr+rv7Y/tv+/P4N/7/+Rf6e/kr/2P65/tL+Tf58/qP+Df+P/xX/ev6p/jb/Pv+g/pv+Lv85/wr/v/7C/uP+4/7S/gT/Hf/j/uP+Df/d/tj+/P6C/s3+M//8/sr++f4u/+P+yv7//jn/8f63/hL/6/72/kf///4V//T+0P4j/zP/9P7u/v/+v/68/vT+BP8H/w//qf6s/g3/8f68/tD+/P4r/zH/1f7V/vb+5v4z/3P/ef8g/3n/uP/x/kH/gf8l//H+Gv95/zP/RP+i/0//Jf+X/8z/PP+5/m7/h/8r/zn/Pv9+/zz/Uv9l/+7+K/8z/+D+K//2/kH/gf/x/iv/Nv9B/3v/Uv/r/hX/9v6g/gT/0P4g/zz/9P5a/yX///4P/3v/wf9M/2L/bv/r/rT+4P4H/zP/rP4p/tj+IP8S/w3/yv6x/ub+Gv/V/sL+zf7b/s3+0v4j/7f+pv6e/mz+sf6m/uv+xP5//qb+0P70/p7+nv63/rT+yv6s/tD+qf5v/s3+o/5N/lb+Y/4d/zb/I//2/of+Lv8N/4X+wv7//vb+dP5W/gf/Df+Y/gH/D//j/vH+6/75/s3+Af8S//T+/P72/vz+4/65/sr+4/7V/gH/Of8B//T+jf7C/gf/W/6s/vb+D/8K/w3/Of/8/oL+cf72/vT+iv7g/j7/tP6b/vH+rv7H/jb/mP53/ij/7v6g/gT/6/60/tX+8f4S/+v+BP8l/5P+Zv4d/1X/I/+u/rf+aP/m/rT+IP9S///+sf4N///+4/4K/0H/GP///tX+//4Y/7/+4/4B/xL/1f4B/yv/Jf8+/+v+x/4K/13/Pv9X/3n/Vf9o//H+sf5o/37/6f7V/mX/c/8N/1r/h/8d//b+7v4N/zn/zf7E/jz/YP8o/xX/9v7r/hL/B//p/k//YP+F/qz+Df/0/iX/Ev/8/hL/R/8z/+v+8f4E//n+4P4x/zP/+f7N/tX+GP8P/+v+uf6j/qP+rv68/gH/Xf/5/qn+b/56/g//9P4g/2L/0P4//vn+l//d/rn+6f7//rn+m/7b/tX+0v6p/pX+h/6C/tv+Nv+5/l7+o/63/r/+UP5v/rf+4/4N/8L+2/5Y/pX+Ff+K/lP+f/6j/rn+iv6N/qn+NP5Y/pD+nv6u/k3+NP6V/rH+WP6g/gT/fP46/g7+Fv4y/uf9Tf6H/q7+f/58/rn+Pf4h/lb+oP58/pD+Kf4e/tL+Vv4W/nf+lf4L/lv+d/7k/R7+E/79/Rv+Xv4L/gL+jf6p/kr+C/5j/pj+jf7n/d79Tf50/nf+Qv5K/gD+9/1C/nT+Pf46/uP+rP4T/r39If5e/s791v0k/mH+iv5m/kr+If4Z/oL+kP6N/pD+P/5F/mn+af5m/jL+N/5W/mz+o/4m/vf9L/5Q/mP+Pf40/j/+b/40/i/+N/46/jr+5/1T/iH+mf0F/jr+L/58/qn+ev5h/mn+Zv5F/kr+U/5e/lD+E/73/VD+f/5Q/lj+Zv6C/gj+r/00/qz+bP4W/mH+mP5p/jf+nv4H/7z+UP4s/jL+U/50/lD+Kf5K/mb+W/5b/pD+Mv46/pD+Qv4k/v39mP5//gX+N/5K/mz+Qv50/or+N/46/qD+9v6m/j3+b/6H/mz+8v0W/nz+Zv5Y/nr+xP6j/mb+Gf53/nT+E/49/j3+W/5I/kj+Fv73/Rv+C/58/qz+Xv4b/j3+Yf4//iz+If5e/oL+jf5b/mP+cf4p/jT+ev6u/mb+9/0m/sT+yv53/kL+UP6K/mH+If49/mz+cf63/l7+Sv6m/qn+o/7c/fr9kP5e/gj+w/0//lD+Mv4L/vX9m/6H/k3+Mv5F/jT+CP5Q/mP+U/5Q/i/+NP6K/g7+9f36/e/9JP4T/mP+Kf4L/j/+Mv4k/t79zv0O/tn9E/5j/tz98v0T/tP9P/5j/iz+9f29/ST+jf6H/gD+lv3L/cX9zv1b/oX+9f26/RD+SP5I/hn+EP4T/hn+JP7Z/dP9JP4h/s79Ov5//jT+0/2Z/SH+P/7I/ef9AP6n/Qj+LP49/q7+SP4b/pP+b/4Z/tP98v1m/vX9vf0A/uf9LP5C/in+Sv5m/n/+Tf46/nr+f/53/qP+If7p/Uj+CP46/kj+9/0A/hb+JP5x/o3+2f3h/T3+Hv5C/jr+Yf58/lj+Av4y/q7+b/4//iH+G/5I/iH+Jv6N/pD+bP5s/kL+AP46/nH+bP63/l7+EP4p/iz+b/5p/of+b/6V/r/+Vv5b/pX+m/6Q/rz+b/5Q/nf+f/5//qb+xP6H/sT+2P6K/n/+iv5s/nr+jf6F/m/+ev6//or+o/7m/sL+dP58/qP+zf6x/lD+nv72/sT+v/6Y/kX+pv6x/rn+Df/b/sf+m/6Y/qz+kP72/gT/ev68/r/+Rf46/jT+fP60/or+Zv5N/nr+4P7N/sL+0v6j/nf+Pf5m/sT+tP5v/nr+yv7K/oL+rv7C/qb+bP4b/oL+v/5v/mH+mP6u/nz+Tf4y/kX+2/4H/1b+7P1s/p7+N/5h/or+qf7Y/pP+Fv4e/pX+bP4p/mb+k/6F/j3+d/6x/in+Mv50/m/+Jv7v/eT9G/56/or+Rf4v/nH+Zv5h/jL+Mv5C/vL9If58/nf+gv5F/gv+Rf5h/kX+LP4p/i/+L/4Z/nT+Zv5//q7+P/5T/l7+b/6C/n/+cf7y/Sn+x/6x/kL+AP49/nr+UP5Y/un+nv56/rT+yv7Q/of+f/4I/gj+b/5Q/mz+Mv4v/nT+Mv4W/kr+Tf5h/oX+Kf5b/nH+gv5p/lj+lf58/lD+Mv50/n/+Zv4C/kr+pv5m/hD+C/5//mb+EP4//pX+UP58/o3+Fv5Y/oL+cf5v/oX+kP5h/hv+If5Y/jT+P/5T/lj+Yf4v/mn+f/5b/rH+uf58/rf+nv5h/o3+ev7H/vz+af65/hL/kP5N/l7+v/6j/rf+zf7K/t3+qf4K/3/+U/75/uP+/P7r/u7+BP/S/s3+BP/x/nr+h/7d/tX++f68/gT/kv/Q/pj+wv7b/vb+5v7j/r/+KP9E/93+4/7Q/vT+1f4B/zb/sf7S/t3+cf6x/k//7v6F/rf+1f7u/rf+GP9z/9L+t/7Q/tv+D/+u/vb+l/+8/n/+3f70/vz+WP6Q/p7+6f5X/57+kP6p/ub+Af+5/qD+wv7u/sT+9v7N/s3+Hf+g/tD+M//g/vb+B//u/vn+2P7j/rH+xP7C/qP+Mf9d/yX/Af8j/+D+h/6m/qD+2P78/tL+vP6p/ub+v/6K/vn+3f6V/tL+7v7S/qn+nv7V/uP+iv50/nH+xP4l/+b+xP6//gf/Nv/2/sL+pv6x/qz+lf4y/nT+Of/m/pj+ev6p/kf/Df9h/pv+Ev8H/+P+uf7Q/pD+1f5z/w//cf6Q/hX/Ff/C/v/+Gv+b/qD+6/7N/rf+9P4B/93+6f4N/w3/Df+0/mn+x/4a/yX/o/6x/g//zf7b/tv+3f4V/9X+lf7Y/g//5v7d/qD+Jf9i/7n+4P4l/yj/tP7N/v/+7v4N/z7/Gv8E/4f/Df/E/lL/TP/0/iv/RP8g/13/T/8r/zP/D////jz/Sv/m/tL+D/8P/xX/9v4g/wr/yv7r/s3+yv6b/sf+3f6e/vH+6/7m/g////63/uv+Ev/Y/hL/Xf8Y//T+T//5/uv+4P7Y/jH/Gv/p/tD+IP8B/+n+6/7V/vH+Af8B/8r+Cv9H/x3/aP8l/93+Df8K/0z/K/+C/u7+pf9S/xj/9P5i/x3/zf7E/3b/0v4V/1r/B/+x/lL/2/5W/ij/KP8a/7n+zf6U/wT/rv7r/jz/Sv+C/mn+2P7p/vn+yv6V/rH+Df///oL+rP4g/yj//P75/vn+Df9P/w//x/48/2j/Ff+T/vH+V/9M/xj/m/7N/hr/c/9H/yj/9P75/vT+8f5V/w//GP8j/yX/RP///gr/j/9l/xr/PP/u/iP/l/8E/zz/l//j/tL+KP8u/0r/aP9V/xL/Af+8/sL+Nv9X/zH/6/4l/yX/Hf/V/qP+Ev8+/xX/IP+//mH+B/8Y/yX/4P65/kf/Af/b/gH/xP7K/i7/Lv8+/yD/f/7Y/lf/IP/C/oX+PP85/9D+2P65/mv/cP8u/+D++f4x/+7+BP8V/2L/9P7N/m7/Yv8P/+P+/P4d/wT/B/9E/+7+rv4S/2D/Zf9E/z7/B/8x/xX/x/7p/un+I/9g/yD/yv4u/0//K//m/rf+Nv/5/tX+fv+r/0z/RP8z/0H/Jf/p/kH/cP9H/xr/Gv/8/jH/hP9r/27/RP8g/0H/T/92/zz/Nv9d/yP/I/8j/zP/TP9r/0f/2P7Y/ij/cP9V/+P+KP/P/3D/Ff97/63/n/+U/5T/n/+w/1X/T/9w/6L/kv8o/xL/dv80APj/uP88/w//nf9o/13/c/+r/5f/Wv/R/wgAq//f/77/Wv/M/8//CAD+/8b/7f/z/wIAxv+o/7j//v/U/7j/5f/E/5//sP+U/4//CAC4/0r/kv/R/7P/jP/J/8T/kv97/3v/c//+/wIAcP+E/8b/3P+a/4n/Xf9H/7P/j/9E/6v/6v+i/4//7f/i/7D/jP97/3b/aP9u/2v/lP+z/4H/Qf95/6j/ov+a/53/c/9l/8z/0f9i/zP/hP9w/2j/a/95//7/3/8Y/wH/pf9H/9j+Of+X/5T/Zf+H/4H/dv8+/xj/Pv9g/zz///4+/27/h/8j/w3/ov+J/zH/Gv/8/p7+Ff/G/xr/9v5H/3D/Lv+p/kT/jP8x/w3/4/4P/yj/B/8r/zb/Xf9K/x3/Of9H/zP/Qf9l/zn/Jf/8/hj/Nv8H/3n/Lv///rv/n/9M/4z/zP+E/1r/I/8u/0//V/9V/1r/yf+P/27/jP9+/1X/PP+a/63/sP+E/1r/ef+H/8b/1//a/2D/Wv/E/5//7f95/y7/xv+d/6v/u/+4/6j/dv9l/3P/vv+2/77/8//i/8z/j/+E/8H/mv9a/2v/lP+w/7P/a/9M/6j/6v/i/2X/j/+S/xL/kv+S/5r/zP+S/8z/8P9r/1X/3//q/7b/bv+P/9T/CAD1/4n/3P8eALv/lP/X/yEAvv9S/4n/+P/f/0//sP/1/6v/s/8bADQAqP+M/7P/pf/l/wgAu//7/2MA8P+i/+j/AgDq/9f/0f8mABsAu/+2/9//GADt/9f/GADi/5L/AAAIANT/3//z/77/ef/o/0gAFgCS/8b/1//X//j/mv/c//P/yf+t/9f/JgDB/3P/xv8NABYA1/9o/1L/kv/X/8z/u//G/6j/n//B/9z/xv/c//D/nf9P/zn/5f8AAIz/pf9z/77/z/92/27/s//X/3b/uP/P/5//n/9w/7D/+/+7/7v/dv9g/3D/V//J/5f/if+X/2v/hP9M/3D/3P95//H+RP+w/5//ov9z/0r/YP9H/0r/bv+M/3D/fv95/2X/mv+M/27/cP9+/2D/Xf97/0r/TP+d/13/K/9g/0f/Lv88/zH/Nv9K/27/ef8z/3D/lP9g/2D/V/9i/1X/YP9w/w//Hf9r/2j/nf8+/9D+T/9S/0f/cP85/3P/Jf9X/3P/I/+X/5T/bv9X/xj/4P4K/3b/Uv9X/4z/Wv9+/4T/a/9E/1X/lP+M/4f/nf+X/4z/if9i/2j/Pv+H/9f/hP8+/2L/ef9B/3n/Zf9P/5//h/9r/37/bv9g/4T/T/9K/27/R/9d/4f/mv/P/4H/Nv++/7P/j/+o/1r/I/8o/4n/wf9r/53/2v9V/2j/Wv8E/1X/Vf9r/4z/GP8B/0H/V/8d/2v/h/9l/3n/cP+l/2L/V/+B/7P/uP9S/yD/Yv+X/3P/ef9l/37/rf9a/0//ef+B/5f/qP+i/4f/lP9P/1X/xP+4/4f/Pv+B/8z/BP/d/qv/6v+t/4n/jP9r/0H/aP/X/9//kv+P/3n/Vf9g/5//s//J/4n/Of+w/5f/YP9d/zH/Zf9w/0H/Jf88/0H/Sv9+/1f/Gv85/0//Hf9i/zz/R/+S/yv/T/9K/+v+GP97/6L/+f6Q/l3/yf8+/0f/Zf8g/xj/M/9l/2v/Lv8o/4f/Gv8g/1X/aP9u/0H/Qf/j/lX/sP+r/1X/x/5u/9//Yv8N/xj/lP9l//z+V/8+/w3/D/8j/3P/Sv/K/qD+8f4K/xX/Jf+5/o3+Ff85/yD/B/+3/uv+Gv9H//H+f/4E/yv/3f7E/un+Df8E/9j+oP7m/tj+qf5V/3D///4z/0//xP70/nP/B//2/hj/RP9P/8f+9P4K/wT/PP9P//z+rP7V/hX/Ff+p/pj+4P65/s3+B/+//tL+Af8K/xj/Ev+E/6X/Hf+Y/qP+KP+X/xj/lf4V/1L/Sv8g/zz/aP8B/xL/R/8Y//b+M/82/+7++f4x/2v/RP+//qz+yv7N/un+BP88/9v+1f4o///+Df93/tD+Hf+s/g//9v78/vb+GP/d/mH+vP7m/gf/Gv8B/zP/9v7m/of/Ev/x/vT+iv5V/5f//P4B/4f/aP/b/gf/KP9M/yD/8f5S/yP/6f4V/z7/TP8x/xj/PP/C/vT+a/8H/27/2v92//n+6f5V/zH/Df8S/93+Lv/g/vT+GP/d/vn+Of9z/0f/Lv8d/wf/Cv9V/0z/6/7K/iP/K//x/gr/Hf8d/xL/IP/8/gT/Yv9H/wr/Df8a/+D+rP75/i7/6/7H/gf/Yv9P//z+4/65/gf/6/7Q/kz/BP/5/gr/t/7C/hX/4/7p/jn//P7b/qP+BP/5/pX+RP9w/0H/GP/m/u7+0P42/0//uf68/vz+Yv82/6z+hf78/k//+f4d/w3/Af8N/xj/D/+b/or+Ev92/w3/uf4N///+x/7K/tX+Cv/u/vb+Cv85/w3/k/6//gf/8f6p/n/+m/4N/7n+d/7V/qn+mP7Q/vz+uf6//g3/+f56/hD+LP5K/hv+y/06/kj+Qv56/vX9y/3s/Sn+Hv4m/ib+Ov5h/sj92f1e/lP+8v0Z/i/+k/6V/tH9Dv5C/hb+xf0A/qP+Fv7n/ZP+Xv4m/ib+P/50/mH+Qv4T/nz+Zv4I/jT+E/76/RD+Tf4F/tP9SP40/uT98v1F/nT+jf6x/rT+iv73/cv9Qv4b/in+ev5v/ib++v09/h7+r/3p/Yf+hf5F/in+af6x/hP+Bf6p/sr+Yf7F/ef9WP46/iT+t/7Q/pP+U/7c/fX9Mv5//kj+2f3L/Sn+rv5N/tH9xf0Q/kr+bP5m/kr+Xv7R/QX+tP5m/i/+Qv6H/mn+P/58/p7+wv6T/jL+N/6Y/mP+L/6H/sL+qf43/kr+hf5Y/nz+kP5Q/nr+vP53/l7+Yf5Y/rH+hf53/iD/4P5//rH+sf6T/mn+kP6Q/o3+h/4s/mb+1f63/kX+bP6T/tX+2P5x/n/+o/7//oL+Pf6K/mn+iv7C/rT+h/68/of+EP40/s3+KP8E/6b+G/6H/pD+G/5Y/mP+dP5x/jL+Hv5K/kj+kP7x/nf+Mv4b/oL+h/50/qn+N/5T/oL+6f7b/hb+8v2V/qb+Yf6Y/m/+fP6H/iz+Zv6p/iT+WP6C/jT+If4v/nf+b/4p/gX+b/6C/mH+LP4Z/mn+L/4k/hn+Kf5h/mn+CP7v/Wn+Kf79/S/+tP6e/i/+Fv5h/nz+Pf50/j/+Jv7D/ef9cf6C/pX+Kf4h/of+h/5h/uz90/2g/p7+P/4s/kj+gv5j/i/+Sv6V/in+xf36/S/+b/4b/in+tP6K/kX+E/46/mP+CP4e/nr+E/4O/nH+d/56/tP9Pf7V/lb+LP4L/jr+L/7p/SH+gv5Q/rT+5v6Y/hL/lf4L/jr+nv7r/pD+vP4E/9v+v/6s/t3+//7V/tL+B//H/sT+Mf/2/un+xP6b/qP+U/7d/iD/rP7g/g//o/5s/s3+Df/m/nf+Xv7E/v/+Hf8S/93++f4V/xj/6f7u/gf/8f5K/0//9v42/w3/W/5//gr/Sv9E/yj/M/9P/wr/GP/C/tX+Df+H/vz+Zf8S/7/+v/6//tj+qf5j/qn+2/4P//n+0P6u/r/+4/5P/27/Df8E//n+Hf/H/sT+Cv85/0H/tP7r/lr/B/+5/vb+cP9l/yj/BP8j///+qf4r/xr/Cv8o/y7/Wv/0/vH+B//5/gT/Mf/K/pv+RP8r//H+m/4N/0//4/5H/2D//P65/u7+Af8S/2v/4P6g/vT+6f4N/xL/Mf8a/wH/9v4N/0f/9v4H/yD/v/6//sf+5v4H/+P+IP8g/7z+nv6V/tj+Hf8K//n+9P7H/un+B//K/iD//P72/kT/+f4o/+n+oP7x/p7+Yf4E/1X/tP6e/t3+1f4N/8f+kP70/kf/Pv8E//T+4P50/u7+bv/8/u7+D/9d/1X/BP8E/+b+rv75/hX/Df8E/+n+Xf8z/4L+nv7r/i7/fv/d/qz+/P7H/iX/Pv82/83+bP6x/tD+M/+M/xL/pv4N/w//rv7E/uv+Ev9u/z7/rP7m/kr/yv65/vn+6/4K/xX/7v63/i7/Hf8P/0T/4/4H/xr/PP/b/q7+Gv9X/2L/5v4S/zH/ev6b/kr/D/+T/rn+//5V/yj/t/4P//T+B/8S/5j+v/4S/zb/I//0/h3/Df+F/vz+D/+e/r/+/P4o/+v+9v5H/4T/GP8g/0r/6/4N/w3/Of8V/8L+Mf95/y7/2P7N/iv/Jf8B/zb/Of8j/8f+wv5w/7P/Nv8l/2j/M//Y/h3/yf+t/zH/PP9X/yD/Uv9S/z7/ef8N/zH/Qf9H/5L///63/lf/lP9M/0////4+/3D/Nv8o/1f/V/8l/5f/V//2/j7/uP9r//z+e/92/4n/nf8P/+b+Jf82/zH/Uv8l/w//Af8S/0z/7v7j/kT/a/9o/0r/Zf9l/2X/Gv9g/5r///5K/4T/Uv8H/xL/V//K/p7+Ff+X/6v/Of/r/sL+3f4H/83+5v5M/zn/Cv/H/tv+4/72/mj/M/8N/+n+M/+o/xr/af4a/6L/Zf8r/7z+4/7C/g//Mf/5/tX+vP5u/+n+/P45/9v+V/8+//b+0P7d/vn+yv4V/y7/mP6x/vn+vP6T/tX+Hf82/wH/zf4l/+D+rP7K/nr+v/7K/p7+6/7S/iX/I/+8/tD+pv7p/gT/Ff8g/7n+D//p/pD+6/5K/2L/TP8g/4L+nv7N/pv+0v5V/1L/4/7d/vb+o/5Y/rz+2/7b/rf+h/5T/qz+Nv8H/zH/M//5/pP+iv7x/hX/D//S/u7+BP/N/jn/PP+g/uD+I/8+/wH/B/9X/wT/IP9M/4T/Yv82/2v/Ff/S/vn+Nv/g/tX+M////rz+5v7r/pP+xP75/hj/Qf/S/qn+6f4H/+n+8f7x/u7+K/8B/xX/Nv8a/0H/Qf8z/zn/Af8o/0r///4u/y7/Hf9V/0H/Lv8o/zb/rf95/xL/M/8r/zz/I/9X/2L/Mf9d/zP/Mf82/2L/gf9K/1f/Nv9B/2X/GP8V/2L/V/9V/13/a/+d/2j/aP9E/1X/jP8l/2X/rf+U/1r/YP8l/+P+kv+B/xX/aP+z/zb/Sv/1/3v/M/9g/0f/I/9d/4n/Vf88/yP/TP9P/4z/sP9l/1X/j/97/0z/xv/R/4H/Cv+j/iD/gf9g/0T/a/+S/0f/TP95/zP/GP9M/yD/Cv9X/zz/Zf+J/2D/Xf8H/wr/dv+B/xj/+f5o/3D/Ff/g/iv/dv9g/+D+7v4z/w//PP88/0T/V/8Y/9j+Mf9H/0r/R/8j/xj/KP9K//T+0P7m/lL/KP8l/w//zf7S/tj+TP9M/yv/7v7Q/j7/a//u/kT/V/8Y/3D/bv9B/wT/cP9o/9X+Lv9H/3b/a//8/ij/6/60/uv+IP8H/9j+uf6g/uv+/P4g/w//2/4x/8r+2/4x/9X+tP78/of/hP82/wf/KP9l/x3/BP82/1L/R/8r/3n/c//p/hr/R//C/uD+Hf9V/2v/Nv9B/2j/a//d/qb+Cv8g/xL/TP+S/5//Ff9v/sL+YP9g/yX/sf7b/h3/4/4E/2j/rf9K///+Ev9d/4T/KP8K/4f/ef8P/yj/YP9o/xr/Uv9H/0//ef8o/2L///7b/lr//P5E/4n/PP9E/w3/Gv8o/zP/Yv9K/3P/cP/5/iv/T/97//7/qP9z/2L/if+z/3v/Zf8u/0T/e/+P/yj/I/9a/wT/Vf95/zH/T/9g/5L/hP8r/5T/xP88/zz/xv+a/zP/sP+z/27/Yv+E/1r/Pv/R/7D/ef9X/yX/if+w/zP/j/+7/2L/jP9+/6L/Vf82/9T/vv+z/4f/T/+i/y7/Af+P/53/Jf8r/7D/rf9S/xL/sP/M/1f/K/8l/5//rf9P/0H/Xf8u/0z/j/9V/xj/Df8r/3b/mv9a/0T/e/9M/z7/gf+l/37/Df9E/3n/cP9H/yv/pf/G/2L/B/9E/7b/gf9E/zP/Of9a/2X/Wv9E/yv/K/9S/zP/M/8+/zn/Mf8P/0//Sv/r/k//ef8V/xr/Jf9d/zH/D/9H//n+Df88///++f5a/yj/Df8z/xj/9P6V/vT+Jf8Y/w//4P4u//b+1f7u/t3+Pv9P/+v+2P4V/xr/2P4B/0z/BP/H/gT/bv8r/wH/Af/K/gr/8f4P/yX/7v7b/gr/Cv/S/ij/4P7H/j7/7v6u/vn+GP9B/xr/7v4r/zz/Df+p/iX/yf85/9X+Nv9i/wr/9v4g/+7+RP8l/xX/RP///hX/I/8a/9j+IP9E/+v+8f4o/5L/K//b/i7/Yv9K//b+0P6//hL/I//V/uD+Zf+J/y7/+f4K/4//jP8Y/7H++f7G/4H/3f7S/jn/Vf+S/4//5v4l/3P/e/8x/yD/q/+J/zn/Pv/o/9r/5v5B/xgAnf88/3b/Mf/r/jH/ef+o/4n/Ff9z/8H/dv+d/8b/dv9g/5//kv+S/5T/TP9o/6v/sP+H/zz/Wv95/2v/n/+r/2X/Uv8l/0z/n/+z/6X/e/9z/z7/e/+f/0r/a/9g/zH/R/9r/5r/hP9+/+L/if9K/5f/pf/o/6L/gf+H/3P/qP/R/9f/Pv8Y/6L/z/+z/2v/Jf9+//7/hP8z/3P/Pv8o/5f/pf8l/wH/cP/U/2L/ef/B/9//h/8o/6j/tv+S/z7/PP9i/4H/0f/R/5T/e//c/6j/Xf+M/6L/mv9B/1X/Zf9X/4T/aP9P/3P/Xf85/xX/TP+w/3D/K/8V/4f/dv9M/2v/T/+J/yX/Wv/+/4f/B//j/l3/yf+B/0f/TP97/0z/GP/0/i7/dv9E/y7/Gv8j/wT/Of+U/13/Af8d/1f/GP9l/7v/Pv/b/gr/Qf8H/9X+6/4Y/xX/D/9l/7P/jP9P/yP/Pv9+/yv/TP+f/4//qP9i/8H/zP95/0f/Pv+7/1f/PP9l/4T/h/8V/zb/n/+H/7b/PP/u/oT/wf/M/0z/GP8j/37/ef8u//b+M/92/zb/Of8S/2D/hP9K/w//Yv+X/1L/M/88/4T/bv+l/5L/TP+U/27/IP9S/4T/c/9l/0//6/48/5r/Of97/z7/9v5o/0f/ef/B/2j/T/9a/4n/Lv9V/8H/V/97/0r/KP+B/2X/mv/z/8b/kv/R/z8ABQBw/5T/FgAFAKX/M/8l/7j/wf+M/7j/uP9z/53/s/+2/7b/PP+7/z8A8P9S/yv/2v/l/8b/ov+E/63/fv92/4//h/+f/8n/l/+f/2X/hP/U/53/gf8d/3n/yf/f/+3/ov9w/1X/Yv+f/6X/tv/M/2D/e/+7/5f/z/+J/3b/s//R/53/aP+4/4//e/+l/8n/Vf8x/6v/0f/a/w//6/6X/1f/I/+w//X/xv+M/4z/qP+P/yD/7v6P/8z/PP8d/37/s//t/5L/Gv+2/8b/I//p/mv/pf9X/63/5f9o/0f/jP+a/4H/Vf/8/vH+T/+J/0r//P4P/27/Zf85/yD/M/9V/+b+PP9H/wT/Hf8B/zn/Xf9+/3b/PP/m/jn/a//p/r/+4/5u/1r/0v7p/m7/V//8/iv/PP+x/pD+I/9o/37/ef9u/7z+cf5a/9f/a/9E/4n/RP8g/13/mv9K/93+Lv/E/2D/5v4+/0T/u/+U/w//Hf/p/kH/Sv8S/1r/Yv9X/xr/9v4K/2v/Sv8j/0//Df8Y/1f/V/8j/2j/Zf/8/vH+Jf9u/0r/I/9P/0r/TP+a/4f/Jf8a/0f/zP/+/6j/l/9+/2X/n/+o/w//a//a/4f/RP/2/jP/n/+w/53/Yv9g/5L/Of8H/2X/l/+H/4z/n/+a/3P/a/+P/27/l/+l/x3/8f55/wsAtv9u/8b/mv9r/3n/V/9l/63/uP+X/7j/wf+r/6j/s//P/77/n/+d/77/nf9r/4//0f/+/6v/Qf9K/7j/3P9u/3D/+//f/1L/x/7C/ij/yv6j/hX/Hf///jb/Wv///uP+x/6m/v/+1f5T/of+KP8K/wf/1f7r/lX/x/53/u7+Yv+g/oL+KP8a/z7/Cv+//vT+GP8P/x3/GP/0/s3+0P75/vz+4/7K/vz+R/8j/7f+B/8z/7z+BP8j/+b+sf7u/vz+tP7N/rn+zf4j/0T/6f7g/kH/Gv+5/qz+zf7p/uv+1f7g/sL+k/7H/i7/Gv+b/pP++f4N/7/+b/7V/iX/mP6p/qD+f/7V/rT+k/7C/qn+jf5T/n/+Ff/m/nH+E/6H/tX+Sv50/g3/4P6p/m/+iv72/p7+kP6x/qz+jf6T/oX+b/6//sf+b/5N/qn+nv6m/sL+af6Q/pv+Vv6C/uD+yv6C/kX+Rf7j/tX+P/5Y/rT+0P50/o3+2/5m/lP+U/50/pP+fP5N/oX+4P5v/mP+mP7m/pv+af7S/tD+qf5//r/+pv6m/rz+o/7g/sL+wv6K/j/+mP75/r/+ev6x/rT+m/4y/mH+9P6//ub+v/5Q/rT+o/6Q/q7+uf70/vT+0v7H/uD+qf5h/uP+Af+K/oL+rv4o/+n+mP7E/gH/Af/V/u7+Af/8/tj+3f6//tv+t/5b/tj+Gv/K/mz+h/7j/hr/I//S/sT+t/7N/ij/GP/m/uv+4/7C/uv+GP8K/zP/2/6s/h3/V/8l/7n+o/65/gT/Cv9M/1X/Jf8B/6n+Df8x//H+yv7p/ub+B/9K/xr/PP8S/4r+h/4a/yj/x/6x/tj+vP65/iv/BP/x/tj+9v4o/+7+2P6Q/lj+cf5p/rz+B//p/qz+vP4g/+v+7v7j/sf+8f4a/+v+m/75/tL+7v4o///+tP56/rf+qf5h/nT+wv6b/t3+uf6F/rz+pv7m/tv+tP56/j/+b/7K/r/+uf7m/pX+rv7V/rn+hf58/rT+t/72/qb+2P4H/4X+N/5e/uP+/P56/j3+ev5I/oX+zf6V/nT+sf5s/jr+rP53/mz+o/6g/mz+W/6g/oX+If5C/nz+b/6j/rf+f/6K/qP+b/4//pj+o/40/n/+0v5//iz+SP5//mn+U/56/lj+C/5C/lD+Yf6g/jr+f/7d/hv+N/6Y/pD+UP7L/Tr+d/7e/dz9Ov6C/pX+L/4A/jr+Tf4m/jf+P/5b/qP+gv56/sf+B//Y/oL+t/72/q7+fP6e/sT+rP7V/tv+0P6s/i/+m/72/gT/oP5K/nf+af4Y/wf/h/5x/nT+vP6x/qD+h/6e/g//Mf/N/pX+k/7H/iv/B/+N/qz+Df/5/rf+BP8l/8f+kP63/kf/mv85/57+o/7d/vb+wv6m/vn+yv6V/j7/aP/S/sL+Df8l/4r+W/70/tD+Df9K/xr/yv7g/mv/Of+j/lj+BP9M//n+iv7S/o//K/8K/x3/GP+J/zH/UP53/qn+2P7x/un+cP/2/rf+7v7g/kz/Pv8x/2X/PP86/jr+c//z/7v/9P6Y/in+L/63/rz+af4Z/kL+Xv5s/qn+wv5s/hj/0QHpAkT/evtD/YkBVAEh/uf9rv4G/a38ev7p/pT9Ov4/AJ3/Yf5h/jP/9f8eABsAov9H/9j+oP7m/j3+w/1K/vz+bP4t/Zn9hf70/pT/tv8x/7f+uf57/63/R//Q/uP+Of+b/hD+uv3D/ST+Ov43/iz+C/6H/iP/Ev8Y/wT/Cv8P/xL/x/5W/nf+rP40/uH9UP4v/gX+/f33/Rb+mP7x/or+hf56/p7+2P6p/qz+Sv4F/lb+If76/Zb9tf0F/tn9Ov6Y/rn+kP5h/l7+Vv5C/pj+t/6//qn+EP46/pD+zv2h/Sb+P/6e/lD+9/1x/p7+nv60/sT+uf4K/x3/U/5N/or+Y/5v/kr+UP4p/un9af6x/jL+9f2C/tj+gv58/mH+tP4N/yH+G/58/mH+Tf4F/uz9/f0v/lv+UP4v/hD+If49/qP+0P5T/n/+ev5N/nT+xP7S/l7+CP4e/sf+f/5K/nz+G/4v/lj+nv7m/qb+Kf4p/nr+m/49/gj+dP6T/pj+SP4T/m/+rP5Q/mb+qf5N/lj+tP6F/kr+rP7j/mn+ev7u/nT+Pf5Q/qn+2/63/vT+2P6g/nr+f/6F/nr+qf7K/qD+yv4d/9X+m/7Q/qn+Sv5e/iz+Tf7H/t3+h/6g/v/+Ev8E/1P+Tf6//kH/Jf83/oX+9v53/lb+m/6m/rT+yv56/n/+fP5Y/sr+BP/r/or+k/7j/hX/4P5s/q7+qf4S/8IA+v3t+RH9GgGCABb+yfzn/Uj+5P1d/4z/If4b/u7+7v5Q/ib+C/6C/iD/uf5T/t79n/1j/g3/B/9W/nr+Of9v/vr9Y/6C/ij/ov/u/uT9lv1x/tL+bP5x/lb+Qv5T/g7+AP5b/o3+lf58/oL+iv6e/pj+af50/nr+G/4Q/vf9pP1W/oL+E/4C/g7+P/5p/i/+CP4Q/lj+kP73/fX9Rf6C/vX9b/3n/fX9Sv5e/kr+Sv4h/gj++v39/QD+8v1h/t3+dP71/br9sv3Z/UX+Yf6Q/mP+y/39/TT+Sv4y/gL+Dv4e/iH+Kf4A/pD+UwCB/9n9E/5X/Yj9fP7E/iT+Qfx2/J7+8f7+/Or8Rf6E/4f/7/3W/Zv+bv9i/57+Pf4//tH9g/0W/qb+Ev+9/Ur86vwF/oH/l/+v/fD8NP5z/8z/cP+K/l/96Px//pT/I/+v/Xz8Iv10/qL/3f5c/dr8If74/yj/bf0+/Tb/SgCb/jj9Jv5r/xj/Uv9E/zX9K/xI/nEAGP+X/DP81v2QAMEBNAAh/on8wfzm/rwAggC5/m/9W/6M/wD+QfyA/aMAAQHK/oD9Bv19/Zv+9f/VAJL/bP4h/gX+kP56/uD++f4Y/6j/3v1z/Av+NwAYAIr+h/4l/7j/CgGmADv9ovp+/CkAngCQ/q/9wv4K/7j9tf30/nb/Ff8o/0z/Sv7v/Tz/yf8u/57+b/4g//z+cf6N/hP+If7b/lL/I/+L/dr8N/70/of/z//b/in+Xv4E/w3/2P7g/rz+Yf5W/k3+7P33/WP+6f6b/gX+If6H/iD/PP/g/iH+df2N/lsAcQA9/r/7ovw5//7/R//c/eL8qPyU/an+of0K/Cv8Hv7t/7H+9vx4/cL+FQHvAm0Bxf0E/G/+6AC7//787Pqn+s37Jf0J/av8BQBoBPMDmP4k+4r+VQNbA0UAwP2i/PT7t/uo/DP9Iv3I/f39Wf2H/I/8Qv6pAO0BxADW/Qf8xvwv/lb+Jf3i/Kr9dP4C/g38KPyU/4sCvgEr/2r9pfyL/Rr/P/6a+Vv2p/cf+pYIMhxYDEPmROWzBsYVrAVz+V77u/dO9d79CQLb+434AgBZBeH9dfcH/EYCRwQMBM0Cs/9I+9D7bQGEAT/8V/26AhYA7fbi8675fAAXBBUEtP7B+VL8ywIBB18Ehf7o/Br/6wDG/8r7/vmg/G7/Kf6a+Sf44fo0/vD/Gv+r/LL6Mfy7/3oC+wH//rr9M/1o/Fj8n/2e/of+VgLlCWkIb/vS87r6BQZfB0oAvfqy9932EPkt/Wv/UP5k/Q7+k/7I/Yr+8AEGBTIFwgKw/x/91PwS/40A3f5o/K77C/s0+VD4HPqI/ZUAawHB/6/9g/1FAL8D2QQ0A7kAs/80ALv/H/0m/NL+IP+f+tj4Gfs7/Vv+c//w/zP98PzPAHsB1f4C/pv+MP3Z+qT65fwQ/ob92f0B/4T/Hv4u/Lf7kf1jAIYB2AB2/2L/oABJAdsA7f9g/xn+nfz8+2T7M/xi/Sn+Ov4d/Kn7xf0LAEEBFQEBAQsAOf8AAFsAcP8Q/t79UP4I/sb8ffss+xj8xf1j/jj9MP1XAWsExgH9/Sb+gwKVA13/ifw1/Xr+3/wt+mr6M/yM/Ov7lfuh+wT8RPzt/HH+2/4d/90AmgETAEf/EAB+/1z9A/vG9xby3/FLBYgcVxUD9SzkWfWqDQsRAAWU97PwyfTp/tIDPv3/9Xn5zgFOAgX7N/gz/fwDqwYLBZgAo/sb/F0BRQNu/9r8wv5i/3v6C/Wb9UD7hQCMAVP+A/ql+SYAvQhvC+wFwP1b+/P/aARpA63/Dv2D+jj3FPen+oT82PvC+/P80fyY+4n8ef+kAjEDnQFpAC7/zv1j/Dn8n/33/en7jvSl66L0pRVnLcURyNvL10YHRCNHEuL5cvL87xby0v6zBAj7YvSV+28CAf1E9gX71gUcCxgJIgSO/Yv6KwFHCTcGkPsd+Zf/4/599QHx9PWf/fIBNAAz+h/3wfx9CGsPvAlK/nf7XAIrB5kFswF5/Dv3Y/Z1+ib8CPih9Zf5wv6F/q/65fkT/g0DwQMoAXn/6P/NAJ3///tH+Yf2MPQv6grtVi4UWJP735pK0HU7uUDf/xfrgu9P3xLuuBM7EM/wcuny/aoE4POI7/cCXxDrDGkGIP9E9s/2iQq0GlEIWO2z81MFlP9x8GTvTfnd/mz+N/sM9OzyygBfEKMR5gUC+eb4XAUcDlwLNgGX9+z1IPnj+C72BvdS/I3+S/hm8/b2X/2zAYYErQSr/2n7yfxVALD//vzD+hf3s+u64/wXO1t/ILOloa8gJj1Qtw504Z3rdea76F4Ooxdu9hjiu/STCBz9oO0U+qwOaA9qBXv98PaX9u0HshyOEJHuWuvNA9EHDfZj7RP1MP1n/S/7Sfdi9Pr6bwhBD7AK3f7u+C4BEAnVCYwHMQBs9fHyXvtv/pf2mvY+AQf8A+zg8PICugXA/e38uQDE/pH6HgDRBPL9+vQC847sVukmJmFlwxNvkPmwOzseXMQJANhZ4xvikO3/F4AZj/DJ3OrxVwff/OHvm/7QEa0NwgA7+j73pvs1EA4iRg2858jp2Ah1DdT3cuxp8sj6YPye+y/4mvNK+X4Haw8TCdT8dvmjA8cMVQy9CO7+4/J49JoBJwUR+AHxpPoD/TfwmvCEAZkFufvR96T9cAGM/8wBmAMw/dH0n/Sp7331EDcpXIP0PYqPzhxTvVPv9FnPpeJw5eX5fyCoEsPmodse9d8HrfwA9Z8EEBEDCEL7b/gp+9wEbhinH38AyOB+8RET9xDh9brpwu8Z+OH9Hf8o+dvyefnrBi8LuQMc+nT7Lgn/EQgLggBt+ub4nv7WBcEB8fKj8Fr/8P987ezsmACpBQD7AvZp+3D/fv/TAhgD3/n/7+DwE/OnDc9OWEOKwhCLgwL6cGI+fdhHyHjjFO9fDackAgCo1mTei/36BST4Ofn+CRwORP9A9UD44ADAEFgg3BY478Le8gHlIOgPW+2U4+Luf/tvAjP/FfNj7UL4UAYtB0v9fvlDAlkLXAqxA6IBhAFTABgDmwMQ+TXv2/j9B3j9Yub96Xb/CgOC+EL2tPtU/VP+sATlBLL37u368ljzxAZkSglNm8oBgCX3JHlYS7zW5r4V4gXz9w5uKcoDnc4O1Qf/nA0h++P11ATQCA/8fvTL+pkCiA5fHmoW+O4t3eUDfClWF/3sAeDM7kz/QwgCA3bz2ur582ADUAYQ/sr4V/+hCCsHTQDdAGMGRgdKBiQC/PVl8UEB3g4L/vPlzutr/ygBmPiY+FD71Pn9+ikASACk9QjwoPMSAYgwokle+CWdhtSFVtFg7fb9uxDZbPvwDwQhmwiy1cXPy/dhEREC1fC7+VADNP6/+C39zQNTCEsRMRUP/6Pna/xSI/of1PbU31fu1gL5CRUG4fe76DnrUP7gCWIBDvXU98oD+QZhAEz/2QehC4oDiP1o/wD+9vxKBhQKiPXu4e3x0wtaB1byvO2I+DT+qf72AAn9Ge8m6jv0cQ9qPto30tZ/ohn+7mi6Rx7e1cFW6W0HVhnoHXf4DM6y2mEFkRDq9/HslPyZAnH58fVZ/Q4Figl6EXcOEPZA7PIKZiiCF/3u3eJr+cgNZw0EAWXxAuqg84oDCgbj+OHvLPjcBHsEpP32/gsF0wXyApMCzQDr+ysBmAwnBeTu++vKAEsL3//m8lTxo/Zc/QoDIAG28yXo7OwM/bkd5DvsELG5qsBuL/Bm4RmMxTbRbQHPGPUeaQ4E4ufPa/OUFTcLtevl6G/93AHY+Cj3hv2GAREFPAwFBq/yfPYXFh8iiwUz6PLu0gk5FVUJ1/Zw7uvzewFdCZAABPGG7m789ga2Ad35TPziAQsCMwGGAYL+1PwbBhQNTP/K7X/1cAotCsr42vCf98f+PP90/u77c/Rl7ojyqvppEfAyfBcRxIy9EyWHZckeNMVRz4EEIx3jIJUPluMfz/PzyRvtEu3unOOH9ksC1/9O/Z778vqT/ucHSAix+Hj3PA+nGeECNewp9oIODhT6BU/2nvLZ+kcGoAmS/0LzJfFv+zkGdwOg+Un3J/3kAn4ELACl+Sn7cQb/Cxj/7vJ/+9EHswRx+yD5TfuD/Zr/BwFp+y7z+fXz/AL5OfZSFakx3v1btjfe2EjZUtXwjrsY6GgYeiIrGxv+VdYJ2mkLqyN3CBnm2OQ7+ksFBgUEASn4A/U+/T8Jcwd++bX9IA+ICxz4EfVmBrUQaQgV/HD3HfzVA7sHIASK+971Rvf1/3YG+QC993P2r/34BD8DWfq89lgAowkhA+r3cvpmAzsCFP2s/WP+8/wH//4BfPyM9J/6OAUQ/lXtru3WEAU0JA7kwEvMFDDBV2kI+70R2AETuCe1HiYAJ9iF1UcGVypyEwDnA9tQ8wgLbw62A77xjOtg/GMPKwwO+A71XwdHDA3/sPmyAtsI8wO7/6L/Xv5K/0EEBAfG/xX2SPhIApIGwf+U9zD3hPy1BJAF8Pmo8/39lghmA8T5cvpm/pP+aQAoBAcBtPhA+jgCVQBJ+p77CgE+/RPyuu9r/wkh4ia96fK6SvaCTmg7O9rUvdf5xSghKNoMYuN6z7X0lymxI1vwWdUu6PYJYBUJB0LzBulq9FwKmxFTA3/wJvbmC4sNcf5K+VcBpwcRBU0AKf7z/3gEBgXEAGT9xPyJ/yMDbAIe++z1bf2wB+UEAvb67+P+Ow3TBV71MPTr/scDyAKyAij/DvjK+C8COAhUAqD59Pje/Tn/4Pga9G783hmRJBTvlr5I8phLKz0C2Yi4oPxdMskkkP7z4jbfIPyeIjUfc/Fk1fbqxRGqGTYBGO346y/4AAsXE7QD1+u976MO+xUZ/m7z3/9sCMUCpgBQBu0BEPvxAGUHaQOV+3j9hgTuABf6+fs/A/wDRful9kH8gwS/A8b6qfi4/YoADwE7ApsAkvlf9ygB8QheA3z5Cffc/YcDDwGE+X703fa4CiolvQuayyXUlS4yUHj96bW14DAqODDyCmvobNuj8McakyjN/q7TSOEFDh0eiQTy65zsq/Z8BuET3Acf7JnpWwlmGukCY+0I+GUKxAmf/6L/twKm/vr9BgWTCCcCCPvy/SICYv9F/tsCcARm+8zzZPv1B68F8/Z08/T+SQTN/uP7Mv6W/dz6JgB0Bvj/6/aF+HoCwwff/2b2yfSx+LT7ZwjLIf8Ou8tuyxUstlqdAdGp/tkkMzY1yQSs5qLfsO5NF4EvlQZezZrXnhEhKDAHX+YI5w32xQguGDMKv+dN4fUExyAWC3Dr7+/OBJgLqgQeAEUAQ/2K/sEGSAgoAWb7XP13A8QDrQH+AdX+8fi7+RIEUwg+/WvzDPpCA9sAWf2t/4f+4Pi9+rQDLwXN+xf3gv4dBKMA2Pu3+5v+QPsD+Jn6SwhGHp8HTM5k2+UyoEv8786sTuz+PZcv5Pcc3qTjC/4QI64pRfX+xYnlLSSrKXH5aNoo66EFqhDBD1j8N+Rf7IIRSx90/mPirPI9DkARwQMh+035i/rABPAPrwgw90z3GAZqCuAADv0QA5QB9fpo//EFU/629iQA1AdO/Rr0+PyHBr7/d/g6/jUC/Ptc+hQClATd/N/5dADSAHH7hvpL/Zj7ZfwhFKoYiOR3zYESl0wyEVS4qtS2L1c4Xv5I4arpcPzyFvIkNAPU0aLf3BsqKr/71trm7NMIfQ7cCgT/Jeh35/UKICNlB8LeG+dsDn0ZSQTk8eLzeQBqCkENKAQL9cL1rQf+D58Ecvib+4UCkQLtBN4FdPtr8yv/bgwvAizy7PfABeECEvlQ+xMAHvvu+/gEKQO6+B/3tABJBNr8Qfmc+v36QPr4BE8YYQV31ZzjIC/GOwLnJLhJ/XQ/Jx865/zh6/avC7seexbX6AnSTf4+LecWw+MF3tH9XQ/8C0kEXfGz4nP5Kx69FozosNqxAJsdTg3T8k/u5vjwBusRFw3n9Fro4wAPG8YNUPIZ8pwEHAsbBlkC8Pk18oz/lxKJB7XsIO6RB6MOH/0p87z4lf51Ar0FzP9H8zf1cgXZCrj92fGd9vP/+/8kAE0MdAun6YvdVxBcOWUKFsf435Qq6TCl+RPefe+VCfsbDBkp9sXY5PHuIGofRfLP3BP1sw/DEBUEVfNW5nD0kRaiG9T0bdo29HEXExRp+GDt3PfcBLYMXQnZ+g/xVfyDEAoPAfrb8mECuQw8Bqb+jPxn+s3+SgyMCjf1Ie3SAJsRAAV48eLzzAHTBbwA0fzy+vr6c/9aBLQAU/ia+UUA+P+o+fv5HgwXENPs4N55D6k0dwWJyIrn+ywrKcTzo+F/9goMORjAE2bzfdsj+bQl+xv+6sXbPPweF8MQTv3Y7XHqD/+5GmAS5upB36sAexv8C9zuiOyP/xINhQsT/gfzTPdJB/UQ6QUo9EX1vwYpD7YGavqd9gH9IwnnDQr/pO8f95wKtwv++Y3yhfvYA2kDzP+4+ij3cPwqBZUDcfmE9vv88/9B/KX5sQNkEbL9vNzK8uwqoiQk3mfMfQ63M08MvORA6QAA4BQtHOUDAN5P5akXuCex/rPcye66ELsSyf8w9ATxjfhrDFQTc/n54f/1OBYFEezyFuqb+9UJXArXAWf1BfO0AJAOBwpI+O7yzQAAC+8FJP4S/OX8Zf+EBqEI3vq28CL9fwxbBln1B/N//q0EwALd/lv4aPax/jkHswGs9bT1GP+uAHH5IwaLEGfvf9mOCIU5UAsowE7eUzF+Lyfv29gS9JEQHxzOEL3sQdooAb0qiRXk4yTePQUIHaEL9fH67IP3ygjXEnsE+unO6XwJ4xdK/8HocPQfCv0K9/1G9zH57f8hCMAFRvrx9WMAAgz5BiT4v/X+ATsKIgT1+tj7j//t/8kBxgHl/CX6rP6kAh3/gvuI/SX/Cf3s/W4Alv1c+tz6x/5B/Hn5OA2iDZPkf96/F5E1f/aPvxL23zVCGk7m3OOR/UcSyxmGB7Th3eKSGFgpNfpD21/0ABeWE6P7ve918sYBoBIIC73vg+mWAqMUegVI79fxogF4CrUHNfoi8R/6mwt2DCj5LfET/qsJqQib/sH2jfvtB1cKuv0D9bT+JwgIA239+PxM/Ff9IwMGBbf7GfVT/lAGHf8m+RH9SACW/YP6lP3e+6/3tQqhDsPo0+CfE/Qu9PVxxSL6HzP8FILklOVw/wwT4hj7BKXfe+OUGzgqzPZ/2UT2nheiElT6ju9x89ACZxPDB0/rJesUCNcVGAD56r30jwbSCR4Dn/cY87X9AAu9CCn2WPA2AaUMKQZ3+Lbz4v8YDMIFTPdd9p0DdQih/dP4c/+2AQf/wf9//or5zfsGBfkDD/eI9UACcgXQ++T3I/x0/nr4+wFmEXj3td2f/RoqmBGR0RDf/yK1JLTyA+P+9joLWhWKDFfuq9+qByQoPgTU3S7wbRNXE736mPB199UAzwxtCuzyteufAT0RWgTl8Mzz9ALYBgMCqPmi9Hf+2AhHBHj3QfRZAgwKBAH0+JD4QgDECckEF/dU9+UDRwm0/hT3Gv88A7f+If7d/kD9qv2FADwA/fpY+5wCVwHE+cz5nf8CAO773vXK/o0Rtf0w4Fz3QySHFxvZl9pKHYIlvfQk5HL4bglnELMME/V94VMANialCQLiwu+CDuUPeP0P9zj6I/xgBisM9foN8Ev9TwphBYb3jvezAV4DBwHI/VP45fwbBjoDpfkJ96EC7gmF/tL2O/36BXUFVvvT+N4CdgZM//75KPwxAx4DiP2+/KX8jf4yAvX/6/vx+2n+UgFS/2H7D/yK/lv+Iv0E+SX9tA4hA3LjY/A7HsMe1uPb0igQ6ir7/1jkqfIsBl8QxQ4Y+Q/i1fiDJGUSCuJw6OAO3xUC/qPwqfiqAfoIMApU98jsfAAAEZMFAfGy8kYFowl3AML48vRO/foKwQb59efxlAE1Dq0B4/KK+QIG1Acv/mD2A/3/BfwDSvwQ+U3+XwSXAR77q/nj/n4EBAFH+XH5NADYA37/Cvm2+YH/yQGA/X34ifdABZkN2vNj5FcEtSGjA/PWVu8oIVsUnOy26qj/igyLDZsAeOtf7nUTrBxz8Tzf/gFAGTYHv+8v8igB7wjQCFX8F+4d+aQN8wk89kfwBP8fCvkD2PiO9Bb7+wesCC/4IvHH/tsLQAVd8wn0gwXqCgH/WvQs+34HBgWn+k35+f6SAxECLPsg+az+HwURAov3hvdqAqMGJv4g9rn5qQLJBFP+M/dc92X/eALTBSwDHe6p7KQNvh4i+iHV1Pb2Jv0Q6eRL6coG3hFOCOn4ce1S9jYVjBVq7BDknQkpGgAA5+mB9oYKPQtaAVb1K/E/A2kR7QGM7krzKghCDuL8+PFH+d0DOQk8ASvz5faPBmoKVP2e8oP9IwkwAWD5Pv1pAHcAIwE/APz7r/rFAmwFBfsI+KAAaQN8/q771/zm/psAtACw/Nv4Pv9sBRD+efZ6+50B3P/2A0wB0O8T8xARgBbM7inevQjVIPn+lOU291gMngv1AXX37O9V/9sXRQiv5sfwNBILEaH1kO/YABwIxAMLAAX4ZvbfBAALyfz48az77wgMBAL5NvkF/j0CQQRy/RX2qPwACHAE4Pb1928FrAXh+mf6dgGaAST+tP5d/9z9Zf9WAnz+LvmQ/h8FAgD0+NX7CQJrAc/8vfrE/DEAEgEe/l/6ifqw/63/Zv4wBGH7j+71/V4UAAjP5cHrjBUDFt/xYOpjAPAMFAcm/OLzAvYJCj8Ukfdm5LEAAxluBo/rTPGZCNcMxwCg9ujzrf/hDUYFGfL88hQFtwsm/lf0n/pOAlQE1QCe+JH3rQFdB0z/XvUe+78GXgPS+T37wgC8APb+yv4Q/ur8qP81Ai/+ffrr/lUDV/8c+on8lwGMAS39afv1/a4AAgAE/Cn77P2uAI/8KPqBBPIBsvEW+JoP7gun7JjqBw+SFWT1L+yjACoLpgN2/Jb4AfcXBN8QL/6O6az7ZxNACLPwGvREB7cICv/k+qD51v2GB6QF7/eR9IYBFAqr/2/1J/uQA7wDLP4j+RP7nAKMBBz9ifeT/tIGPgFW+F77GwOSAwH/xvxy/bv/CAP7Aer6bvkOAt4FAf/Y+BX8VgK3Ar/+6vpI++sAQQQ0/sj3wfztBPUBiPi49wsF5gi59i3xTgUoEET86en+/MUTiQRj8OL2ZwUhCG0BO/rz9jf+vgxdB1fxmPNBCjgNy/q68s3+ywfWAg7+ffv++QMCngho/7z1S/tNBm8FYvrq97D/ygPmACb8UfqT/lUD/wAm/K77uP9WArj///uB/DwAigMlAar66vpkAuoE5P2H+Vv+HgNiAW39Mfzn/R0B/gHp/WL6UP4sAxgALPsx/HkAs/9S/Fj7UP5cBZIAG/Np+E4LlQle8oXvkAjxDsf5OPFj/nsHVwRx/i/48Pb8AzoOMv6V7an7DQ/lBp/0DfZsA+wFpgBt/Rf6YPyOBaEF5fl29vEAPgfM/yH4kPuRAY4C9v6q+qP7QQGTAib+LPsU/WMAcwGS/1j7DvsKARcEcf5Y+VH9MARhAr78bvwg/1QB2ACy/Wv8Zf/NAgAA1vq7/GQC1wGX/FP7jf4aARsAP/wA+5T9BgLABBD7oPM/AHYMZAJN8Fb1/AuTCwT32PJCADUIGAMe+xX5+/w6BbgHp/q284QBJwtrAVv2X/o+BIYEBP/S+6z7VQCLBfEAiPj9+hoEqAQP/D/57f8hAwgAYv3p+378BwHxA+n+v/j8+8YEmwNc+rn5xAC0AxAABPwD/U0A8gHYAOj8UvyiAQwEaf4t+n/+kgOXAZL8T/yH/7sBRAHd/Or6Zf8PBKYA8fhX+hkCkwL+/G/9pv50+3r+0AU4AkL20fc2B78InfmC9VsAcQaiAeD7S/vh/VgDXAXM/Ef20P6WCIgCdPht+hgDWgSg/vn73/y2AAcECwB7+qj8GwMFA778r/qd/70CTQBG/TH8Pf7RAYQBWvyc+kUAEANv/jT7zv0XAoYBuP3z/C7/dgGmAPP8oPzVADUCNP6C+4H/iwJz/2X8uP1NAK4AV//+/JL8cP/+AUUArPvY+40AjwHj/un77vtl/5wCWwCV+Zr5BQNFBvH7P/bH/lUGDAFd+RP78wByAuj/kvwh+7D/3ATCAKn4J/swBH8Dsftw+tz/3AH+/2/+Y/w1/Z8BqQJA/fv5Mf/sAm7/nvu5/P7/EgFu/x/9l/ym/tEB7gB2/OD7OgCpAsT/3vv+/LQADwGx/oT89f1rAfMA6vyj++n+EQKeAPn7QPsWAEIDR/8i+ib8HwKTAqT9zvpf/cEBqAHw/Kb7/P6YAGL/tP68/pb9V/3gADoDy/2K+XH+UgSBAWT7FfweAL4B4wAC/uD7Vv7pAjABufvj++YAHgMz/8f7yP3zAKgBlP/J/LP8ZgBZAnf+ffte/hcCDAFA/Yn8Lv8XAlcB6PzK+1L/kwISAWj8pvva/5wCyf9Y/F/9fACwAVL/O/0T/qYAewGs/iL9Lv8gASQALP7g/p4A4v9p/mH+ef83AI//jf4s/hr/EwDG/7f+AP72/hAA1P90/nL93f7SAIf/DP2x/kkB3//J/J/9SQGNAM79sf4IAJT/9v68/rf+0P4YAFAAuP2W/fYAtAA4/cz8PwB2AW/+b/1S/6AAfv8b/p/9iv68AE0AAv59/fP//ADj/v78cf5EAQAAe/0O/qv/1P8l/yn+gv4r/6v/WwCs/vP8nv7PACQA5P1f/RX/FgDa/zL+bvzr/uMAK/+v/XL9q//mAC/+Gv2U/+X/yP3O/SwAHgCc/W39hP/HAIz/rP1h/rv/1/9r/yH+tf1H/2kAo/5t/UT/7f/8/o3+vP5B//T+t/4l/1f/rv6Q/nD/bv/C/rn+jf4W/g3/V/9s/sf+hP9r/43+Kf6j/rn+tP78/jP/Lv+e/pD+cP9g/zr+Bf5+/6L/U/5T/q7+TP8r/xD+vP6S/2X/K//V/pX+k/5B/37/m/4T/nb/WwAd/y/+ev7R/3cA4P69/dD+PADw/5j+gv4P/xAAvv/R/QX+9f+VAOv+9/3r/hAA+/8A/jT+RQDc/67+Ff9P/67+Af+S/yX/Yv8V/9X+hP8E/2X/Uv93/oH/CABp/n39Gv80ADb/UP6g/sb/if/j/uD+m/4x/9f/6v/N/l7+a//t/53/kP6x/gAANADN/tP90v5CAPv/2P7d/n7/+P86AB3/f/7R/0IAYP+//vH+c//U/4T/x/5V/x4Arf/5/i7/wf92/0T/n/9w/wr/if83AAT/WP5M/8//1P9a//n+IP8x/5//nf+j/tD+l//E/37//P5T/hr/OgDM/0z/BP9u/63/BP/j/h3/Vf/a//v/+f4W/jH/ggA0ABr/sf6M/w0AIP/C/kT/wf8vAGv/wv5B/yYA+P8a/2z+e/+rAHD/pv50/uP+q//X/4//hf7Y/kgAj/8m/hr/e//p/ub+0P6a/0r/iv7d/kH/gf8N/8T+KP9u/0//v/50/gr/bv9E/9X+8f5o/zn/aP/K/tH9sf7R/6X/P/5m/sT/wf9g/67+UP7r/jz/TP+//kX+zf6f/wH/Av5m/uD+6/5Q/nH+M/8l/xX/t/63/lL/Gv/d/uv+sf6e/vn+K//d/pv+Vf+7/+7+Hv4y/un+Vf/r/r/+t/63/mL/1f5K/pj+Ff97/6b+Sv4g/+D+tP5a/0T/mP5j/u7+Cv+g/sL+3f5V/3v/yv7N/tv+M/8V//39t/7M/13/qf4//j/+RP/i/9j+6f2C/hsAef/I/RD+Df+w/8r+Ov4V/7z+9v5z/4L+L/72/qL/yv6Q/g3/B//E/sT+gf/8/oL+pv7K/tL+iv7b/ij/Vf/5/lP+4P45/9j+KP9s/hD+Nv9P/6n+t/4P/xL/K//j/v/+Lv/E/tD+GP/Y/sr+Af8l/xr/m/7Y/kz/l//8/hD+4P5w/0T/Af/H/hr/T/8+/wf/Yv+r/wr/d/7r/qL/B/+T/m7/a/+V/vz+Wv8+/8r+6f6f/xX/zf4r/7f+t/7X/0r/Mv7Y/vj/cP9T/q7+YP/+/3v/f/6j/hX/jP/E/yP/b/5K/w0A9P5//tX+/P5V/3v/BP+g/j7/xP+H/2b+C/5H/6L/2P60/vb+lf7b/mD/hf5b/oT/u/+V/l7+tP5p/v/+l//m/uv+e/9W/m/+I/9Q/t3+3P+e/h7+sP/z/wj+e/3E/4f/Dv4B/wH/mP7x/iv/7v5m/g3/uP/g/u/9I/92/+/9nv7J/yn+r/3q/8//n/24/Z3/ov9I/nT+//5Y/jH/zP+C/vf9hf5z/8f+1v16/hX/I/9F/iz+mP6T/gf/0P6v/UL+HgAg/2f95/0N/0f/2P5X/Qz9xv/J/xr9mf1g/67+cf75/kX+dP7m/pX+o/6F/g7+Sv7r/tD+f/5e/t3+v/7K/uv+Uf1C/vX/kP4Q/tj+x/5x/sr+Af9C/kX+//6m/lD+m/6j/iX/PP8C/rX9k/7K/gH/t/76/QL+BP+B/xD+3P1l//H+0/3u/vn+SP4r/2D/9P4b/jL+Ev/H/n/+//7d/jf+4P5P/4f+E/4o/ykACv+R/Xz+CADK/gj+8f7p/sr+rP5j/jz/R/9p/rf+lf6b/gf/IP/m/rH+Ev+x/uv+zP8B/0L+I//J/8T+Vv4H/2v/Ev+p/hr/pv4k/jn/cP96/nf+cP97/zn/M/+N/pj+Zf9l/83+W/7g/rj/B/+V/qL/n/8B/9X+Hf9P/83+Zv72/u3/ev7C/gIAFf/u/mL/Df9j/qb+Mf85/xX///63/rH+3f7r/un+6f7j/kT/Pv+3/nH+uf5K/wT/qf7K/vb+Ev9i/0H/L/5j/hr/6/7m/nH+Xv7m/uD+hf6s/vn+3f7Y/rT+o/60/qD+Ov5//hj/6f56/hn+oP65/mH+hf7H/vH+LP4p/pj+tP5F/tn9pv7j/rT+jf7K/s3+EP5j/tX+pv40/jf+zf5F/u/96/5V/2/+G/7S/rf++v1T/q7+hf5h/hn+m/7x/pX+W/6m/i/+w/3C/qn+Rf5m/sL+0P4p/oL+//5s/g7+jf5h/u/9fP5//t799/16/pD+WP4L/nT+fP73/Sz+m/5Y/in+0P6H/tb95P1Y/iH+P/6u/jT+Tf6m/gX+7/2p/kr+Y/60/hv+5/2g/mH+y/1N/nT+tP4S//T+SP71/Z7+xP4b/iH+rP6e/nr+h/71/aD+jP9W/rr9m/4l/5P+Jv6F/of+rv78/nz+SP6Q/rf+2P5b/jL+D//u/i/+af6u/sL+uf6s/qP+pv6p/pv+jf6b/tj+3f53/kL+jf6s/or+4P4V/5X+o/7S/vT+jf5m/jH/UP5I/iP/nv6g/tv+rv5p/sf+Gv+T/qb+0v6u/qb+tP6T/qn+1f5C/rT+D/8s/nf+7v6N/qD+qf7p/vz+af6K/vz+9v7m/pP+JP4v/pv+v/50/tD+0v5p/nf+jf7S/nr+SP4a/6b+G/68/rf+uf4S/7T+af6g/m7/R/9h/sL+4P6u/pv+yv7Q/p7+vP7K/l7+4f2N/tv+0v7m/lv+WP4l/wH/2f0F/v/++f5s/pD+1f6m/s3+zf5b/pX+6f7Q/nf+jf5s/jT+4/7S/n/+o/49/mP+K//N/jr+lf7E/nz+Af8z/zr+WP5M/zn/gv53/iX/bv+j/iH+4P4d/2H+mP4S/57+Y/6Q/pv+af43/uv+Mf+H/jL+o/4K/3z+mP6m/mz+fP6Q/hb+Gf45/+D+Dv5p/un+lf5j/vn+//7k/eT95v7H/hP+WP48/83+Rf5m/lj+W/60/gf/m/5K/jr+xP65/j3+xP5x/nT+Of+Y/qT94/6J/2H+af5H/yv/NP43/v/+vP4v/uP+Sv+V/n/+gv6x/i7/pv6p/ub+Nv8E/+/9wv5P/4f+P/5x/kT/7v6//jH/4P7j/gr/V/8+/67+d/5l/0r/xP5z/1X/2/7p/kH/0v6K/lX/c//Q/tD+Af/x/vH+rv6s/gf/I//C/oL+6/6s/jr+wv42/7/+tP45/+P+tP4S/2X/K//S/gT/8f7C/tv+8f6p/iX/fv8a//b+Af8N/8L+Af88/1f/Uv/5/hj/D/8H/4z/nf9S/13/T/9B/1r/c//r/uP+z//U/+v+4P6i/3v/T/9+/zn/PP9z/2L/uf70/nb/Af8K/zz/Mf8o/xL/0v55/6v/+f4K/xX/8f55/3b/pv4V/7j/M//S/g//B//K/hr/c/8H/7T+ef/+/zH/d/4V/w0AzP/Q/hj/BQBu/5X+xP4g/xX/Pv8z//n+aP+J//T+cf4H/3n/Jf8P/yj/Xf+m/nr+Sv9V/67+zf42/8f+yv75/s3+o/6Q/iD/GP+e/vn+1f7j/jP/GP+8/p7+Df8+//H+t/7j/tv+5v4S//H+zf65/qD+B//Q/qb+Cv/u/o3+f/6p/mb+h/7m/qb+WP48/w//Hv6j/ub+ev5e/ub+x/56/pD+sf7//qD+oP7r/qz+dP7V/iD/hf4//p7+3f7p/n/+lf6j/jL+b/7x/v/+WP5j/sL+uf6b/p7+x/6x/qP+Af/j/of+P/58/kz/uf5Y/sT+PP8B/2z+tP68/qn+5v65/qz+Hf93/uz9lf7u/pv+Xv6g/tD+8f5p/lv+4P7m/sL+Ov50/qD+uf45/5X+Rf6m/q7+jf5e/mz+x/6N/nf+hf56/iX/4P5h/sf+5v5W/mH+v/4Y/wT/Yf5j/qP+1f7m/uP+m/5h/tL+4/58/lD+x/4S/1P+af7j/uv+//4j/wf/N/7E/j7/tP6e/gr/gf/0/rH+Ff+d/yv/k/4K/1L/R//E/uP+cP8E/5v+rv4l/1f/Qf+0/qb+Mf8x/xj/5v48/9D+m/5z/zP/vP7r/hX/4/4V/x3///4H/w3//P63/jb/bv8V/8L+9v5P/wH/Pv8H/6n+R/+P/7/+hf5B/w//4/4E/wf//P7C/sT+x/4u/0z/5v7H/gr/BP8V/2L/Pv/V/un+8f5I/uP+Gv/j/jH/m/5v/qn+//5g/zP/uf6s/j7/T/+x/p7+pv7//jb/3f7K/pP+iv4S/3n/Vf/m/pX+Af/b/gT//P43/tL+/P7g/v/+yv72/h3/K//S/pP+xP7d/qb+sf4N/5v+nv4a/9D+Xv4W/pP+Nv/u/of+o/63/mz+k/7S/oX+9P48/2P+af60/qb+8f4V/9v+v/6C/mn+R/8V/zT+d/7K/l7+Jv7Y/vT+vP7S/nz+oP6N/kr+0P56/lP+k/6H/qb+h/6V/o3+pv6H/lb+0P4a/1b+Gf6T/mz+xP7r/s3+tP4y/mb+x/6C/o3+6/6p/jf+v/7//nz+af6C/pj+Xv5b/rT+9P6b/oL+0v6H/tv+Lv///rf+fP78/mL/Ff+H/vn+gf/u/pv+uf7j/iv/KP/H/lD+k/4B/8f+gv6Q/tv+/P7C/ub+3f60/gf/2/7E/hX/Nv8z/x3/IP/p/u7+Of8d/wf/Pv8l/0f/Mf/u/hX/Pv+2/1X/Cv8P/yD/V//Q/iD/Zf8K/9D+mP7E/nb/cP8d/2j/dv8a///+9P6g/vb+Qf9i/zH/0v7j/qn+Ff/X/3P/D/8S/zP/aP8a/wr/YP9z/zz/Hf/2/tX+Cv8r/yX/6f75/jH/Pv8z/+P+9P5P/+v+x/42/xL/tP68/r/+rP7V/hr/I//g/jb/Of8N/zH/Hf8S/wf/D/8V//n+zf7p/nD/Xf/5/un++f4o/43+ev4g/w3/6f45/yv/jf5b/s3+Df/V/uD+//7p/uP+2/4x/yP/zf4H/+n+zf4P/yD/9v68/r/+Df8j/x3/Lv8N/6b+v/7d/mb+kP70/u7+wv6N/or+ev70/vT+k/7j/qP+mP5v/m/+2P6b/l7+kP4l/57+U/7E/oL+d/5h/jT+ev6V/n/+zf7N/nz+2P4P/zL+Mv7S/qb+Qv5v/g3/mP7C/ij///4P//T+Jf/b/o3+6f4P/9D+6/45/yD/9v4E/zb/2/6x/h3/Lv/5/ij/YP/S/qD+//4x/w3/0P45/yv/nv6x/tD+9P4K/7T+nv7S/vn+4P7K/kH/B//j/tX+UP6g/ub+/P7Y/qz+0P7//gr/Cv9M/1L/sf6e/g3/Gv///vT+I/8+/1X/Sv82//n+5v6H/5//7v7g/mj/bv/2/qb+if+U/4r+4P4x/3D/bv/8/hr/Cv8+/27/Af85/3n/RP/m/lj+Cv9i/+D+4/4j/x3/kP68/iX/Of8r//n+M/+P/xL/0P6M/zb/0v5K/4//TP8S/3n/l/9X/0z/mv9g/wr/Vf+o/5T/Wv92/5T/aP8g/13/pf+i/3P/n/+H/y7/n/9V/+v+I/9l/1r/Nv9l/6L/bv/8/lr/mv9K/zH/KP9H/53/bv/5/mL/zP9+/wH/6/4l/yX/Lv9r/4H/Xf97/2j/B/8K/zn/Zf+i/1r/aP9X/yv/gf8+/2L/hP9S/y7/GP9l/yD/Af8d/yX/Sv///vz++f5a/2L/Af///un+9v4z/7b/hP8l/zz/c/97/xr/0P7u/kf/IP/0/jz/Jf8+/0r/2P7g/hr/V/8d/xX/Ff/Y/vb+Af8Y/7n+zf7j/r/+8f7m/tL+h/68/gT/4P63/mb+oP4P/6P+d/7p/g3/9v7K/g//6f5e/uv+aP8d/8r+lf7V/t3+f/4l/0T/Af8P//H+//6g/pX+tP5v/uD+Af/N/rz+d/6p/pD+Rf6T/t3+t/60/qn+1f7Q/p7+2P6j/pX+B//0/sf+3f6u/sL+xP6Q/rH+KP8o/+n+BP+e/rz+Cv/2/vz+kP4S/yv/jf7r/u7+Rf6V/g//Cv/V/sr+xP7E/t3+ev7H/hX/I//d/sL+Hf/g/uD+2P7C/gH/Ff9P/0H/wv7g/vb+7v7r/u7+e/8z/wT/D//b/uP+PP9i/x3/M/8V/9v+7v70/gr/Ff8N/0//jP97///+Ff9z/3b/fv9w/3D/gf9K/yj/dv+d/0//Ev+t/4n/Nv+H/w//Pv9i/0T/aP92/5f/h/9P/+n+Lv+r/2v/R/+H/4f/gf9d/zb/Sv///ub+PP9o/37/V//u/jP/aP8K/0//YP8g/0T/cP9w/zn/T/8u/1L/a/9r/9//kv8r/1X/cP88/1L/fv8x/wr/gf/P/3b/2/7Y/nD/bv8B/zb/Qf9r/4H/YP95/yX///4l/3P/qP+i/wr/v/72/nD/hP/E/gr/Uv9z/4H/Df8j/1L/Xf+J/1L/Mf9o/6v/TP+B/4YElQPO9OHydgkED3P2rfE5CcoJevL59tQNvQWi8Un66QigANj40f+1BGwCAf1r+S78ygMuBgf8yPWf/9wHwwGp+In6+AE/A43+GPzQ/m0B1/+w/Cb+OgBS/1n9fP54AtH/mfq//v8CtP4h/g//sv1FAyIEofhy+OcEnASQ+8b8aAFY/Ef8GwN5/7X6DQBeAzH5rPjYBlwCRPYo/3QJXv4X9KD+mQoEASX0Xf+ZCq38vfRtAesGyP1l95//mwiu/mbzKv03CwoDHPLc+rMM2gEV8Kz+Wg0w+nr13QbNAwX7lvph/tEEnAK/+Ir5QAWYBgb65PTHA2oK1/ZC8zcMGgrr7Rj27hFxA2bt4ABPDNP60/izAcQArf9r/Gr9FQbbAH/1ZfxkC10E1u9Q+60Qf/5L75oEqgqp9U34Tgu2AbTydgGlCXn5WPmhBRIBTvrd/j8DBwE6+zv6/QIeBh7+ivjb+64GwwSA9wn9OQbi/xv+BgJN/hP+mgGw/ysBfwAb+8H/IgJa/3f+QfzS/rYDIAE0+4L+YAPW/XX6agW+BN/0dfoIC+QC4PMV/EsI/wAh+NsA+AQL+275mAPTBQv7VPdiAZsIBv128/wAtAuG/Y3wgwI9DpP40O8YBjYNqPZZ8qMGTQmZ9w/3WAajA3P5C/tgA6IExPl1918EjAew+XT1iQRWCF/60PWdASgKw/3x8kEBXAtv+0/0hwMHB1P7X/dUAcIIAvyl8/kDZQog+e7zcAQPCnj6jfPnAdgL9/2C8HQAmRBq+vzqjQa0EZn0o+0sCQMO7/RS8JYIigy49Nnx3wotCnryzfX0CJEHuvVB9AYIyAuW9Vny5giPCZ71AvZ7B6YIBve/9UgFXgbC+wD4rf+VBr7/+/Y0/iEGk/5h+MH/0QSU/KX5tAOyAn759PvwBO8CufYn+44HKAFw90b9nQM3AxL//feW/eMGqf5j+WIBpgD8++n+zQAd/0j+Vv6X//YAOv6Y+7j/7wK5/gX7rP73AnkAGfvl/LoCMwH0+4v9bwL/AEz6mPvmBRoB9PWB/zII2/uL934EnwRT+Nf5FgW5A5n66vorAZIDYf6O+j8AfwMl/Xb5gALUBAb6ifpCAzwDtvxS/HEAdwB6/lz9LwAXAsP9C/t9AiIF2Puf+qIBIQNb/ur8uQDEAIb97/2GAaAAeP0y/pgAEgF+/9r8SvwKAxkFHvu++e0EJwJj+R3/NwNE/7b86f5OAp8Btf0C/GYAwQO7/677vP69Atz/P/w+/4UCcf7P/PIBFwKA/cL7lP+VA8b/QvvB/6gDeP1w+oMCJQSA+qb7zgTaAY76vvyuA74BZPv9/ZYCov/+/CEAhQA4/Sj/HAJY/pL8zP/2ANH/uv3H/qMAMv72/vIB5/1d/KUB7f+U/WMAR//w/Lz+nwE2ATD9KfuXAUEELP7H+5D+/ABEASP/u/xH/7wAAP4S/9UAWP6b/qkAlP/A/XT+ov/s/Z//SQFL/Sf9yQF2/4T88//2/jr+aAEO/hD72v/RAQL+z/x0AOMAfPzs/b0Cf/4V/BcBqP9y/ZIAPgGd/Dv6WgEOBZz9xfju/uUDTP9o/Gr9zf7EAJf/Ef3C/u3/3/zr/h8CbP7w/Cj/BP/q/2sBGf7H+zz/FAIl/+X89v4d/zf+RQB/AFX8YPyuAJQBvv87/TT+TQD//q7+e/8u/0j+MQDVAKn+xf34/Oj//gGK/v78aP9sAHH+EP7j/rb/dv8B/3v/R/9M/zr+Rv03ANMCsf48/Br/6/6t/50Bn/3y+u4AKwSd/GX6KAEoAeX8v/7fAUH/zftb/jMB/ABu/4n8lf4cAlf/Nf2bAC8AP/xQAOgDJf0D+ocAFwS//g/8qQCKAL39WAADAuH9sfsNAOYCcP9H/Nj+MwHj/n/+ZgCf/4X+uP02/xMDNwCU+hT9sQNUAu77IPzoABQChf69/dr/Zf+M/yEA6/6H/5L/rfx5//kDkP73+mMAFAJ0/lb+6P/8/vb+DAFVAEP9y/0LACwAHgAQAEL+7P1mAAoB8f7s/Z7+OgDBAdv+9PskAAYCNf2K/mYDyf/N+w3/nwE8ALf+5P3b/mgBIwER/Tn8LABcAlX/2/u+/zcDo/5/+zT+AALPAJ387/3qAesA2vz7/L8AdgEg/5T97v55Aer/a/zn/WcCIgJD/Tn8NACPAXf+0fzK/mYA7f9P///+Ev8k/pX+CwBK/jL+WwBu/9z9fv8xAJD+Rf7B/3v//P7U/2/+jv1S/2kAB//4/CH+mwAa/6L8fP5JARAAz/wF/loBMf/N+//+VAGp/gL+dP42/8H/lf5O/Rv+SABeAD3+kf0x/wgAz/9I/jv9xv/gAE799vxBAY//9fpX/ywDnv5Q++L8fwAdAQ7+Iv3c/5sAmf1G/S8AGgEQ/iD8s/9EAVv+hPyh/XwA5gBY/n78Pv8OAnz+o/u5/n4BEv8u/CX/tgEm/l380f/RAYL+h/zE/6IB7v5u/EH/PgEy/kT80f+sAgv+sfsbABkCdP7V+xj/XwLE/xX80f0rASABTf4D/SwAiQG3/rL9qf4H/5//GABI/jv9LADmACr9HP2GAW0Btvz2/JQB1wHW/Qr8Zf/FAgAAG/zT/UwBzQDA/Q==\" type=\"audio/wav\" />\n",
       "                    Your browser does not support the audio element.\n",
       "                </audio>\n",
       "              "
      ],
      "text/plain": [
       "<IPython.lib.display.Audio object>"
      ]
     },
     "execution_count": 11,
     "metadata": {},
     "output_type": "execute_result"
    },
    {
     "data": {
      "image/png": "[encoded data removed]",
      "text/plain": [
       "<Figure size 360x144 with 1 Axes>"
      ]
     },
     "metadata": {
      "needs_background": "light"
     },
     "output_type": "display_data"
    }
   ],
   "source": [
    "# plot the waveform for one example (e.g., sc_training[150])\n",
    "\n",
    "y = sc_training[11139][0][0]\n",
    "x = np.arange(len(y)) / 16000\n",
    "\n",
    "plt.figure(figsize=(5,2))\n",
    "plt.plot(x, y)\n",
    "plt.xlabel(\"Time (seconds)\")\n",
    "plt.axis(\"tight\")\n",
    "\n",
    "# play the audio\n",
    "ipd.Audio(y, rate=16000)"
   ]
  },
  {
   "cell_type": "markdown",
   "id": "8bbbc3eb",
   "metadata": {},
   "source": [
    "### Q 3.2: Define model (3 pts)\n",
    "Assume you are given the basic number of channels, `n_channels`. This model should have the following layers:\n",
    "* 1-D convolutional layer with `n_channels` kernels of length 80, with a stride of 16\n",
    "* 1-D batch norm layer\n",
    "* ReLU\n",
    "* 1-D max pooling layer with kernel size 4, stride 4\n",
    "* 1-D convolutional layer with `n_channels` kernels of size 3, with a stride of 1\n",
    "* 1-D batch norm layer\n",
    "* ReLU\n",
    "* 1-D max pooling layer with same parameters as above\n",
    "* 1-D convolutional layer with `2*n_channels` kernels of size 3, with a stride of 1\n",
    "* 1-D batch norm layer\n",
    "* ReLU\n",
    "* 1-D max pooling with same parameters as above\n",
    "* 1-D convolutional layer with `2*n_channels` kernels of size 3, with a stride of 1\n",
    "* 1-D batch norm layer\n",
    "* ReLU\n",
    "* 1-D max pooling with same parameters as above\n",
    "* average pooling across all remaining timepoints (see `AdaptiveAvgPool1d`)\n",
    "* flattening\n",
    "* Linear layer with `2*n_channels` inputs and 10 outputs"
   ]
  },
  {
   "cell_type": "code",
   "execution_count": 12,
   "id": "11c04f75",
   "metadata": {},
   "outputs": [
    {
     "name": "stdout",
     "output_type": "stream",
     "text": [
      "WordRecognizer(\n",
      "  (layers): Sequential(\n",
      "    (0): Conv1d(1, 32, kernel_size=(80,), stride=(16,))\n",
      "    (1): BatchNorm1d(32, eps=1e-05, momentum=0.1, affine=True, track_running_stats=True)\n",
      "    (2): ReLU()\n",
      "    (3): MaxPool1d(kernel_size=4, stride=4, padding=0, dilation=1, ceil_mode=False)\n",
      "    (4): Conv1d(32, 32, kernel_size=(3,), stride=(1,))\n",
      "    (5): BatchNorm1d(32, eps=1e-05, momentum=0.1, affine=True, track_running_stats=True)\n",
      "    (6): ReLU()\n",
      "    (7): MaxPool1d(kernel_size=4, stride=4, padding=0, dilation=1, ceil_mode=False)\n",
      "    (8): Conv1d(32, 64, kernel_size=(3,), stride=(1,))\n",
      "    (9): BatchNorm1d(64, eps=1e-05, momentum=0.1, affine=True, track_running_stats=True)\n",
      "    (10): ReLU()\n",
      "    (11): MaxPool1d(kernel_size=4, stride=4, padding=0, dilation=1, ceil_mode=False)\n",
      "    (12): Conv1d(64, 64, kernel_size=(3,), stride=(1,))\n",
      "    (13): BatchNorm1d(64, eps=1e-05, momentum=0.1, affine=True, track_running_stats=True)\n",
      "    (14): ReLU()\n",
      "    (15): MaxPool1d(kernel_size=4, stride=4, padding=0, dilation=1, ceil_mode=False)\n",
      "    (16): AdaptiveAvgPool1d(output_size=1)\n",
      "    (17): Flatten(start_dim=1, end_dim=-1)\n",
      "    (18): Linear(in_features=64, out_features=10, bias=True)\n",
      "  )\n",
      ")\n",
      "Number of parameters: 25290\n"
     ]
    }
   ],
   "source": [
    "class WordRecognizer(nn.Module):\n",
    "    def __init__(self, n_input=1, n_output=10, stride=16, n_channel=32):\n",
    "        super().__init__()\n",
    "        self.layers = nn.Sequential(\n",
    "            nn.Conv1d(in_channels=n_input, out_channels=n_channel, kernel_size=80, stride=stride),\n",
    "            nn.BatchNorm1d(num_features=n_channel),\n",
    "            nn.ReLU(),\n",
    "            nn.MaxPool1d(kernel_size=4, stride=4),\n",
    "            \n",
    "            nn.Conv1d(in_channels=n_channel, out_channels=n_channel, kernel_size=3, stride=1),\n",
    "            nn.BatchNorm1d(num_features=n_channel),\n",
    "            nn.ReLU(),\n",
    "            nn.MaxPool1d(kernel_size=4, stride=4),\n",
    "            \n",
    "            nn.Conv1d(in_channels=n_channel, out_channels=2*n_channel, kernel_size=3, stride=1),\n",
    "            nn.BatchNorm1d(num_features=2*n_channel),\n",
    "            nn.ReLU(),\n",
    "            nn.MaxPool1d(kernel_size=4, stride=4),\n",
    "            \n",
    "            nn.Conv1d(in_channels=2*n_channel, out_channels=2*n_channel, kernel_size=3, stride=1),\n",
    "            nn.BatchNorm1d(num_features=2*n_channel),\n",
    "            nn.ReLU(),\n",
    "            nn.MaxPool1d(kernel_size=4, stride=4),\n",
    "            \n",
    "            nn.AdaptiveAvgPool1d(output_size=1),\n",
    "            \n",
    "            nn.Flatten(),            \n",
    "            nn.Linear(in_features=2*n_channel, out_features=n_output)\n",
    "        )\n",
    "\n",
    "    def forward(self, x):\n",
    "        return self.layers(x)\n",
    "\n",
    "\n",
    "# model = WordRecognizer(n_input=transformed.shape[0], n_output=len(sel_labels), n_channel=32)\n",
    "model = WordRecognizer(n_input=1, n_output=len(sel_labels), n_channel=32)\n",
    "print(model)\n",
    "\n",
    "def count_parameters(model):\n",
    "    return sum(p.numel() for p in model.parameters() if p.requires_grad)\n",
    "\n",
    "n = count_parameters(model)\n",
    "print(\"Number of parameters: %s\" % n)"
   ]
  },
  {
   "cell_type": "markdown",
   "id": "da6902c9",
   "metadata": {},
   "source": [
    "### Q 3.3: Write the training and test functions (5 pts)\n",
    "Remember you need to transform the data (using the `transform` function) before you put it into the model!"
   ]
  },
  {
   "cell_type": "code",
   "execution_count": 13,
   "id": "99f462ce",
   "metadata": {},
   "outputs": [],
   "source": [
    "# Run this cell first\n",
    "\n",
    "def number_of_correct(pred, target):\n",
    "    # count number of correct predictions\n",
    "    return pred.squeeze().eq(target).sum().item()\n",
    "\n",
    "def get_likely_index(tensor):\n",
    "    # find most likely label index for each element in the batch\n",
    "    return tensor.argmax(dim=-1)\n",
    "\n",
    "optimizer = torch.optim.Adam(model.parameters(), lr=1e-1)\n",
    "# let's use StepLR to reduce the learning after 20 epochs by a factor of 10\n",
    "scheduler = torch.optim.lr_scheduler.StepLR(optimizer, step_size=20, gamma=0.1) \n",
    "lossfunction = nn.CrossEntropyLoss()"
   ]
  },
  {
   "cell_type": "code",
   "execution_count": 14,
   "id": "5399646e",
   "metadata": {},
   "outputs": [],
   "source": [
    "# write a function that does one training epoch\n",
    "def train_one_epoch(model):\n",
    "    model.train()\n",
    "    total_loss = 0\n",
    "    count = 0\n",
    "    for inputs, labels in train_loader:\n",
    "        optimizer.zero_grad()\n",
    "        outputs = model.forward(transform(inputs))\n",
    "        print(outputs, labels)\n",
    "        loss = lossfunction(outputs, labels)\n",
    "        loss.backward()\n",
    "        optimizer.step()\n",
    "        total_loss += loss.item()\n",
    "        count += 1\n",
    "    print('{:>12s} {:>7.5f}'.format('Train loss:', total_loss/count))\n",
    "    with torch.no_grad():\n",
    "        total_loss = 0\n",
    "        count = 0\n",
    "        for inputs, labels in val_loader:\n",
    "            outputs = model(transform(inputs))\n",
    "            loss = lossfunction(outputs, labels)\n",
    "            total_loss += loss.item()\n",
    "            count += 1\n",
    "        val_loss = total_loss/count\n",
    "        print('{:>12s} {:>7.5f}'.format('Val loss:', val_loss))\n",
    "    return val_loss\n",
    "    \n",
    "\n",
    "# write a function that computes & prints test accuracy \n",
    "# (hint: use the `number_of_correct` and `get_likely_index` functions)\n",
    "def test(model):\n",
    "    model.eval()\n",
    "    total_correct = 0\n",
    "    total = 0\n",
    "    for inputs, labels in test_loader:\n",
    "        outputs = model(transform(inputs))\n",
    "        predicted = get_likely_index(outputs)\n",
    "        total_correct += number_of_correct(predicted, labels)\n",
    "        total += len(labels)\n",
    "    acc = 100 * total_correct / total\n",
    "    print('{:>12s} {:>7.5f}'.format('Test acc:', acc))\n",
    "    return acc"
   ]
  },
  {
   "cell_type": "markdown",
   "id": "9934c7fe",
   "metadata": {},
   "source": [
    "### Q 3.4: Fit the model! Tweak until you get test accuracy of at least 80% (3 pts)"
   ]
  },
  {
   "cell_type": "code",
   "execution_count": 32,
   "id": "bc794fc5",
   "metadata": {
    "scrolled": true
   },
   "outputs": [
    {
     "name": "stdout",
     "output_type": "stream",
     "text": [
      "EPOCH 0\n",
      " Train loss: 1.57778\n",
      "   Val loss: 1.38810\n",
      "   Test acc: 53.27490\n",
      "\n",
      "EPOCH 1\n",
      " Train loss: 1.07635\n",
      "   Val loss: 0.92974\n",
      "   Test acc: 65.57098\n",
      "\n",
      "EPOCH 2\n",
      " Train loss: 0.90921\n",
      "   Val loss: 0.79321\n",
      "   Test acc: 71.21987\n",
      "\n",
      "EPOCH 3\n",
      " Train loss: 0.82776\n",
      "   Val loss: 0.79144\n",
      "   Test acc: 73.09472\n",
      "\n",
      "EPOCH 4\n",
      " Train loss: 0.76161\n",
      "   Val loss: 0.68984\n",
      "   Test acc: 75.52958\n",
      "\n",
      "EPOCH 5\n",
      " Train loss: 0.72070\n",
      "   Val loss: 0.65725\n",
      "   Test acc: 76.26004\n",
      "\n",
      "EPOCH 6\n",
      " Train loss: 0.69482\n",
      "   Val loss: 0.66125\n",
      "   Test acc: 77.03920\n",
      "\n",
      "EPOCH 7\n",
      " Train loss: 0.66770\n",
      "   Val loss: 0.62124\n",
      "   Test acc: 77.20964\n",
      "\n",
      "EPOCH 8\n",
      " Train loss: 0.64590\n",
      "   Val loss: 0.69278\n",
      "   Test acc: 77.06355\n",
      "\n",
      "EPOCH 9\n",
      " Train loss: 0.63217\n",
      "   Val loss: 0.58335\n",
      "   Test acc: 80.59411\n",
      "\n",
      "EPOCH 10\n",
      " Train loss: 0.60510\n",
      "   Val loss: 0.55883\n",
      "   Test acc: 81.08108\n",
      "\n",
      "EPOCH 11\n",
      " Train loss: 0.59253\n",
      "   Val loss: 0.59100\n",
      "   Test acc: 79.86365\n",
      "\n",
      "EPOCH 12\n",
      " Train loss: 0.57071\n",
      "   Val loss: 0.62918\n",
      "   Test acc: 78.74361\n",
      "\n",
      "EPOCH 13\n",
      " Train loss: 0.59643\n",
      "   Val loss: 0.58507\n",
      "   Test acc: 81.00804\n",
      "\n",
      "EPOCH 14\n",
      " Train loss: 0.56414\n",
      "   Val loss: 0.52231\n",
      "   Test acc: 82.29851\n",
      "\n",
      "EPOCH 15\n",
      " Train loss: 0.54688\n",
      "   Val loss: 0.56419\n",
      "   Test acc: 80.76455\n",
      "\n",
      "EPOCH 16\n",
      " Train loss: 0.53203\n",
      "   Val loss: 0.55641\n",
      "   Test acc: 81.22717\n",
      "\n",
      "EPOCH 17\n",
      " Train loss: 0.54473\n",
      "   Val loss: 0.55056\n",
      "   Test acc: 82.73679\n",
      "\n",
      "EPOCH 18\n",
      " Train loss: 0.52405\n",
      "   Val loss: 0.48885\n",
      "   Test acc: 82.90723\n",
      "\n",
      "EPOCH 19\n",
      " Train loss: 0.52982\n",
      "   Val loss: 0.57305\n",
      "   Test acc: 81.73850\n",
      "\n"
     ]
    }
   ],
   "source": [
    "n_epoch = 20\n",
    "\n",
    "val_losses = []\n",
    "early_exit_thresh = 1.01\n",
    "\n",
    "for epoch in range(n_epoch):\n",
    "    print('EPOCH %d'%epoch)\n",
    "    val_loss = train_one_epoch(model)\n",
    "    val_losses.append(val_loss)\n",
    "    test(model)\n",
    "    scheduler.step()\n",
    "    print()\n",
    "    if len(val_losses) > 3 and (min(val_losses[-6:]) > (min(val_losses) * early_exit_thresh) or min(val_losses[-12:]) > min(val_losses)):\n",
    "        print('Early exitting due to increasing/stagnant validation loss')\n",
    "        break"
   ]
  },
  {
   "cell_type": "markdown",
   "id": "43cc4a0b",
   "metadata": {},
   "source": [
    "### Q 3.5: Create contingency matrix to show performance (2 pts)\n",
    "`contingency` should be a 10x10 matrix where each row is a predicted label and each column a true label. The value of each element in this matrix should be the number of times a test example with the true label given by the column was assigned the predicted label given by the row. For example, if the predicted label for an example was \"seven\" but the true label was \"six\", then you should add one to `contingency[7,6]`. Do this for all examples in the test set.\n",
    "\n",
    "This is a nice way to visualize how well the model is working."
   ]
  },
  {
   "cell_type": "code",
   "execution_count": 15,
   "id": "dbe1afca",
   "metadata": {},
   "outputs": [
    {
     "data": {
      "text/plain": [
       "<matplotlib.colorbar.Colorbar at 0x195f8f05ae0>"
      ]
     },
     "execution_count": 15,
     "metadata": {},
     "output_type": "execute_result"
    },
    {
     "data": {
      "image/png": "[encoded data removed]",
      "text/plain": [
       "<Figure size 288x288 with 2 Axes>"
      ]
     },
     "metadata": {
      "needs_background": "light"
     },
     "output_type": "display_data"
    }
   ],
   "source": [
    "all_preds = []\n",
    "all_targets = []\n",
    "\n",
    "# get predictions for each test example. you can use same methods as `test` function, above\n",
    "model.eval()\n",
    "for inputs, labels in test_loader:\n",
    "    outputs = model(transform(inputs))\n",
    "    predicted = get_likely_index(outputs)\n",
    "    all_preds.append(predicted)\n",
    "    all_targets.append(labels)\n",
    "\n",
    "# create contingency table\n",
    "contingency = np.zeros((10, 10))\n",
    "for ix in range(len(all_preds)):\n",
    "    contingency[all_preds[ix], all_targets[ix]] += 1\n",
    "\n",
    "plt.matshow(contingency)\n",
    "plt.colorbar()"
   ]
  },
  {
   "cell_type": "markdown",
   "id": "5c37edde",
   "metadata": {},
   "source": [
    "### Q 3.6: Create a new model and use it to generate optimized inputs (10 pts)\n",
    "Finally, let's try to generate new sounds that would maximally activate each of the output units in our `WordRecognizer` model. Input optimization is one type of feature visualization (in this case, \"audiolization\") that can help understand how a model works.\n",
    "\n",
    "We will do this by using gradient backpropagation to generate sounds that maximally activate each of the `WordRecognizer` outputs. This requires us to define a new model, `InputOptim`, which has one parameter tensor: `optimized_input`, the input that it is trying to optimize. In its `forward` method, this model should apply the pretrained `WordRecognizer` to its `optimized_input` and return the result. We will then use some optimizer (e.g. Adam) to make the `WordRecognizer` output the desired value. We will repeat this for each of the output classes (\"zero\", \"one\", \"two\", etc.). Then we will check to make sure that this works correctly (after optimization, the `WordRecognizer` should be 100% certain that the optimized input belongs to the desired class) and listen to the resulting sounds.\n",
    "\n",
    "There are two things that you should consider here:\n",
    "* How should you initialize `optimized_input`? There are many possibilities, and this choice will greatly affect your result.\n",
    "* How should you do the optimization? Number of epochs, weight decay, and other optimization choices will also have a big effect on your result.\n",
    "\n",
    "At the end of the problem you will be asked to write down some observations."
   ]
  },
  {
   "cell_type": "code",
   "execution_count": 101,
   "id": "ae6d27c0",
   "metadata": {},
   "outputs": [],
   "source": [
    "# first, define the new model\n",
    "# this model should have one parameter tensor: the input vector you are optimization\n",
    "# its `forward` function should apply the pretrained `WordRecognizer` model to this model's `optimized_input`\n",
    "\n",
    "class InputOptim(nn.Module):\n",
    "    def __init__(self, recognizer_model, input_shape=(1,1,8000)):\n",
    "        super().__init__()\n",
    "        self.recognizer_model = recognizer_model\n",
    "#         self.optimized_input = torch.randn(input_shape, requires_grad=True) # initialize parameter tensor, should have requires_grad=True\n",
    "        sound_input = transform(sc_training[11139][0]).unsqueeze(0)\n",
    "        self.optimized_input = sound_input.clone().detach().requires_grad_(True)\n",
    "        \n",
    "    def forward(self):\n",
    "        return self.recognizer_model(self.optimized_input)\n",
    "    \n",
    "    def parameters(self):\n",
    "        return [self.optimized_input]"
   ]
  },
  {
   "cell_type": "code",
   "execution_count": 103,
   "id": "afafbcd7",
   "metadata": {},
   "outputs": [
    {
     "name": "stdout",
     "output_type": "stream",
     "text": [
      "target:  tensor(0)\n",
      "target:  tensor(1)\n",
      "target:  tensor(2)\n",
      "target:  tensor(3)\n",
      "target:  tensor(4)\n",
      "target:  tensor(5)\n",
      "target:  tensor(6)\n",
      "target:  tensor(7)\n",
      "target:  tensor(8)\n",
      "target:  tensor(9)\n"
     ]
    }
   ],
   "source": [
    "# next, train 10 `InputOptim` models, one for each output class (\"zero\", \"one\", etc.)\n",
    "targets = torch.arange(10).long()\n",
    "opt_stims = []\n",
    "\n",
    "n_epochs = 1000\n",
    "\n",
    "for t in targets:\n",
    "    input_model = InputOptim(model)\n",
    "    optimizer = torch.optim.Adam(input_model.parameters(), lr=1e-2) # make sure this only optimizes the `input_model` parameters!\n",
    "    lossfxn = nn.CrossEntropyLoss()\n",
    "    \n",
    "    target = torch.zeros(10)\n",
    "    target[t] = 2\n",
    "    \n",
    "    print(\"target: \", t)\n",
    "    for epoch in range(n_epochs):\n",
    "        optimizer.zero_grad()\n",
    "        output = input_model.forward().squeeze()\n",
    "        loss = lossfxn(output, target)\n",
    "        loss.backward()\n",
    "        optimizer.step()\n",
    "    \n",
    "#     print(len(input_model.optimized_input.detach().numpy()[0][0]))\n",
    "    \n",
    "    opt_stims.append(input_model.optimized_input.detach().numpy())"
   ]
  },
  {
   "cell_type": "code",
   "execution_count": 104,
   "id": "d742c2c8",
   "metadata": {
    "scrolled": true
   },
   "outputs": [
    {
     "name": "stdout",
     "output_type": "stream",
     "text": [
      "Expected: zero. Predicted: zero.\n",
      "Expected: one. Predicted: one.\n",
      "Expected: two. Predicted: two.\n",
      "Expected: three. Predicted: three.\n",
      "Expected: four. Predicted: four.\n",
      "Expected: five. Predicted: five.\n",
      "Expected: six. Predicted: six.\n",
      "Expected: seven. Predicted: seven.\n",
      "Expected: eight. Predicted: eight.\n",
      "Expected: nine. Predicted: nine.\n"
     ]
    },
    {
     "data": {
      "image/png": "[encoded data removed]",
      "text/plain": [
       "<Figure size 432x288 with 1 Axes>"
      ]
     },
     "metadata": {
      "needs_background": "light"
     },
     "output_type": "display_data"
    },
    {
     "data": {
      "image/png": "[encoded data removed]",
      "text/plain": [
       "<Figure size 432x288 with 1 Axes>"
      ]
     },
     "metadata": {
      "needs_background": "light"
     },
     "output_type": "display_data"
    },
    {
     "data": {
      "image/png": "[encoded data removed]",
      "text/plain": [
       "<Figure size 432x288 with 1 Axes>"
      ]
     },
     "metadata": {
      "needs_background": "light"
     },
     "output_type": "display_data"
    },
    {
     "data": {
      "image/png": "[encoded data removed]",
      "text/plain": [
       "<Figure size 432x288 with 1 Axes>"
      ]
     },
     "metadata": {
      "needs_background": "light"
     },
     "output_type": "display_data"
    },
    {
     "data": {
      "image/png": "[encoded data removed]",
      "text/plain": [
       "<Figure size 432x288 with 1 Axes>"
      ]
     },
     "metadata": {
      "needs_background": "light"
     },
     "output_type": "display_data"
    },
    {
     "data": {
      "image/png": "[encoded data removed]",
      "text/plain": [
       "<Figure size 432x288 with 1 Axes>"
      ]
     },
     "metadata": {
      "needs_background": "light"
     },
     "output_type": "display_data"
    },
    {
     "data": {
      "image/png": "[encoded data removed]",
      "text/plain": [
       "<Figure size 432x288 with 1 Axes>"
      ]
     },
     "metadata": {
      "needs_background": "light"
     },
     "output_type": "display_data"
    },
    {
     "data": {
      "image/png": "[encoded data removed]",
      "text/plain": [
       "<Figure size 432x288 with 1 Axes>"
      ]
     },
     "metadata": {
      "needs_background": "light"
     },
     "output_type": "display_data"
    },
    {
     "data": {
      "image/png": "[encoded data removed]",
      "text/plain": [
       "<Figure size 432x288 with 1 Axes>"
      ]
     },
     "metadata": {
      "needs_background": "light"
     },
     "output_type": "display_data"
    },
    {
     "data": {
      "image/png": "[encoded data removed]",
      "text/plain": [
       "<Figure size 432x288 with 1 Axes>"
      ]
     },
     "metadata": {
      "needs_background": "light"
     },
     "output_type": "display_data"
    }
   ],
   "source": [
    "# finally, use this cell to see model predictions for the optimized inputs & listen to the sounds\n",
    "\n",
    "def predict(tensor):\n",
    "    # Use the model to predict the label of the waveform\n",
    "    logits = model(tensor.unsqueeze(0))\n",
    "    tensor = get_likely_index(logits)\n",
    "    tensor = sel_labels[tensor.squeeze().item()]\n",
    "    return logits.squeeze().detach().numpy(), tensor\n",
    "\n",
    "for ind in range(10):\n",
    "    utterance = sel_labels[ind]\n",
    "\n",
    "    probs, pred = predict(torch.Tensor(opt_stims[ind].reshape(1,8000)))\n",
    "    print(f\"Expected: {utterance}. Predicted: {pred}.\")\n",
    "    \n",
    "    plt.figure()\n",
    "    plt.bar(range(10), np.exp(probs) / np.exp(probs).sum())\n",
    "    plt.xticks(range(10), sel_labels)\n",
    "\n",
    "    ipd.Audio(opt_stims[ind].squeeze(), rate=8000)"
   ]
  },
  {
   "cell_type": "code",
   "execution_count": 109,
   "id": "79b7abfa",
   "metadata": {},
   "outputs": [
    {
     "data": {
      "text/html": [
       "\n",
       "                <audio  controls=\"controls\" >\n",
       "                    <source src=\"data:audio/wav;base64,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\" type=\"audio/wav\" />\n",
       "                    Your browser does not support the audio element.\n",
       "                </audio>\n",
       "              "
      ],
      "text/plain": [
       "<IPython.lib.display.Audio object>"
      ]
     },
     "execution_count": 109,
     "metadata": {},
     "output_type": "execute_result"
    }
   ],
   "source": [
    "# for ind in range(10):\n",
    "#     ipd.Audio(opt_stims[ind].squeeze(), rate=8000)\n",
    "ipd.Audio(opt_stims[0].squeeze(), rate=8000)\n",
    "# ipd.Audio(sc_training[17000][0].squeeze(), rate=16000)"
   ]
  },
  {
   "cell_type": "markdown",
   "id": "d3c19c2d",
   "metadata": {},
   "source": [
    "### Q 3.7: What happens if you initialize `InputOptim` using a real sound, such as one of the training examples? What does this tell us about how this model works? (2 pts)"
   ]
  },
  {
   "cell_type": "markdown",
   "id": "c63e01ef",
   "metadata": {},
   "source": [
    "Firstly, if we initilize the parameters of InputOptim using a random uniform distribution, the optimized sounds are just static. Although the accuracy looks perfect, it seems that the most optimal way to predict a certain number is not actually using a sound byte of that number, but instead just a combination of inputs that happens to optimize for a number.\n",
    "\n",
    "However, when I used a real sound as the input, the majority of the optimized inputs actually had intelligible sounds. While a few of the outputs, like zero and four, were still mostly static, the rest of the numbers had a quiet voice saying a number, although they had a large amount of static in front as well.\n",
    "\n",
    "This tells us that while this model seems quite good at classifying sounds, the reverse direction of reproducing sounds from the output is quite difficult for it. Even when given a real sound as input, it has a hard time transforming that into a sound of another number."
   ]
  }
 ],
 "metadata": {
  "kernelspec": {
   "display_name": "Python [conda env:CS-342]",
   "language": "python",
   "name": "conda-env-CS-342-py"
  },
  "language_info": {
   "codemirror_mode": {
    "name": "ipython",
    "version": 3
   },
   "file_extension": ".py",
   "mimetype": "text/x-python",
   "name": "python",
   "nbconvert_exporter": "python",
   "pygments_lexer": "ipython3",
   "version": "3.10.9"
  },
  "toc": {
   "base_numbering": 1,
   "nav_menu": {},
   "number_sections": true,
   "sideBar": true,
   "skip_h1_title": false,
   "title_cell": "Table of Contents",
   "title_sidebar": "Contents",
   "toc_cell": false,
   "toc_position": {
    "height": "calc(100% - 180px)",
    "left": "10px",
    "top": "150px",
    "width": "222.86685180664062px"
   },
   "toc_section_display": true,
   "toc_window_display": true
  }
 },
 "nbformat": 4,
 "nbformat_minor": 5
}
